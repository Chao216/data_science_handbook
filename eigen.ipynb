{
 "cells": [
  {
   "cell_type": "code",
   "execution_count": 1,
   "id": "c6b4b466",
   "metadata": {},
   "outputs": [],
   "source": [
    "from scipy import linalg as lina\n",
    "import numpy as np"
   ]
  },
  {
   "cell_type": "code",
   "execution_count": 3,
   "id": "797ceaae",
   "metadata": {},
   "outputs": [],
   "source": [
    "A = np.array([[2,-3,0],[2,-5,0],[0,0,3]])"
   ]
  },
  {
   "cell_type": "code",
   "execution_count": 4,
   "id": "5316668e",
   "metadata": {},
   "outputs": [],
   "source": [
    "vals, vecs = lina.eig(A)"
   ]
  },
  {
   "cell_type": "code",
   "execution_count": 5,
   "id": "3732461b",
   "metadata": {},
   "outputs": [
    {
     "name": "stdout",
     "output_type": "stream",
     "text": [
      "(1+0j)\n",
      "(-4+0j)\n",
      "(3+0j)\n"
     ]
    }
   ],
   "source": [
    "for i in vals:\n",
    "    print(i)"
   ]
  },
  {
   "cell_type": "code",
   "execution_count": 6,
   "id": "0f5d9aee",
   "metadata": {},
   "outputs": [
    {
     "name": "stdout",
     "output_type": "stream",
     "text": [
      "\n",
      " [0.9486833 0.4472136 0.       ] \n",
      "\n",
      "\n",
      " [0.31622777 0.89442719 0.        ] \n",
      "\n",
      "\n",
      " [0. 0. 1.] \n",
      "\n"
     ]
    }
   ],
   "source": [
    "for v in vecs:\n",
    "    print(\"\\n\",v,\"\\n\")"
   ]
  },
  {
   "cell_type": "code",
   "execution_count": null,
   "id": "b3f83d1f",
   "metadata": {},
   "outputs": [],
   "source": []
  }
 ],
 "metadata": {
  "kernelspec": {
   "display_name": "Python 3 (ipykernel)",
   "language": "python",
   "name": "python3"
  },
  "language_info": {
   "codemirror_mode": {
    "name": "ipython",
    "version": 3
   },
   "file_extension": ".py",
   "mimetype": "text/x-python",
   "name": "python",
   "nbconvert_exporter": "python",
   "pygments_lexer": "ipython3",
   "version": "3.9.13"
  }
 },
 "nbformat": 4,
 "nbformat_minor": 5
}
