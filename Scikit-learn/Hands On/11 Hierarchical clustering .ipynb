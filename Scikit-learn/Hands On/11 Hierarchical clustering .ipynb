{
 "cells": [
  {
   "cell_type": "code",
   "execution_count": 1,
   "id": "c60a093f",
   "metadata": {},
   "outputs": [],
   "source": [
    "%matplotlib inline\n",
    "\n",
    "import numpy as np\n",
    "import pandas as pd\n",
    "\n",
    "from sklearn.cluster import AgglomerativeClustering\n"
   ]
  },
  {
   "cell_type": "code",
   "execution_count": 2,
   "id": "4302410e",
   "metadata": {},
   "outputs": [],
   "source": [
    "data = pd.read_csv(\"../data/kaggle1.csv\")"
   ]
  },
  {
   "cell_type": "code",
   "execution_count": 13,
   "id": "bc380032",
   "metadata": {},
   "outputs": [
    {
     "data": {
      "text/plain": [
       "pandas.core.frame.DataFrame"
      ]
     },
     "execution_count": 13,
     "metadata": {},
     "output_type": "execute_result"
    }
   ],
   "source": [
    "type(data)"
   ]
  },
  {
   "cell_type": "code",
   "execution_count": 6,
   "id": "323b88b0",
   "metadata": {},
   "outputs": [],
   "source": [
    "features = list(data.columns[1:8])"
   ]
  },
  {
   "cell_type": "code",
   "execution_count": 7,
   "id": "4402b85c",
   "metadata": {},
   "outputs": [
    {
     "data": {
      "text/plain": [
       "['Sex',\n",
       " 'Marital status',\n",
       " 'Age',\n",
       " 'Education',\n",
       " 'Income',\n",
       " 'Occupation',\n",
       " 'Settlement size']"
      ]
     },
     "execution_count": 7,
     "metadata": {},
     "output_type": "execute_result"
    }
   ],
   "source": [
    "features"
   ]
  },
  {
   "cell_type": "code",
   "execution_count": 14,
   "id": "d7deabed",
   "metadata": {},
   "outputs": [],
   "source": [
    "X = data.loc[:,features].values"
   ]
  },
  {
   "cell_type": "markdown",
   "id": "c8814e84",
   "metadata": {},
   "source": [
    "# model instance"
   ]
  },
  {
   "cell_type": "code",
   "execution_count": 15,
   "id": "964dd2ef",
   "metadata": {},
   "outputs": [],
   "source": [
    "hc = AgglomerativeClustering(n_clusters=2, affinity=\"euclidean\")"
   ]
  },
  {
   "cell_type": "code",
   "execution_count": 16,
   "id": "6d1e7cb1",
   "metadata": {},
   "outputs": [
    {
     "data": {
      "text/plain": [
       "array([1, 0, 1, ..., 1, 1, 1], dtype=int64)"
      ]
     },
     "execution_count": 16,
     "metadata": {},
     "output_type": "execute_result"
    }
   ],
   "source": [
    "hc.fit_predict(X)"
   ]
  },
  {
   "cell_type": "code",
   "execution_count": 22,
   "id": "f494dbda",
   "metadata": {},
   "outputs": [],
   "source": [
    "labels = hc.fit_predict(X)"
   ]
  },
  {
   "cell_type": "code",
   "execution_count": 23,
   "id": "4feebbbc",
   "metadata": {},
   "outputs": [
    {
     "data": {
      "text/plain": [
       "<matplotlib.collections.PathCollection at 0x18091cf6c70>"
      ]
     },
     "execution_count": 23,
     "metadata": {},
     "output_type": "execute_result"
    },
    {
     "data": {
      "image/png": "[encoded data removed]",
      "text/plain": [
       "<Figure size 800x500 with 1 Axes>"
      ]
     },
     "metadata": {},
     "output_type": "display_data"
    }
   ],
   "source": [
    "import matplotlib.pyplot as plt\n",
    "plt.figure(figsize = (8,5))\n",
    "plt.scatter(X[labels == 0 , 0] , X[labels == 0 , 1] , c = 'red')\n",
    "plt.scatter(X[labels == 1 , 0] , X[labels == 1 , 1] , c = 'blue')"
   ]
  },
  {
   "cell_type": "code",
   "execution_count": null,
   "id": "dbbd0d10",
   "metadata": {},
   "outputs": [],
   "source": []
  }
 ],
 "metadata": {
  "kernelspec": {
   "display_name": "Python 3 (ipykernel)",
   "language": "python",
   "name": "python3"
  },
  "language_info": {
   "codemirror_mode": {
    "name": "ipython",
    "version": 3
   },
   "file_extension": ".py",
   "mimetype": "text/x-python",
   "name": "python",
   "nbconvert_exporter": "python",
   "pygments_lexer": "ipython3",
   "version": "3.9.13"
  }
 },
 "nbformat": 4,
 "nbformat_minor": 5
}
