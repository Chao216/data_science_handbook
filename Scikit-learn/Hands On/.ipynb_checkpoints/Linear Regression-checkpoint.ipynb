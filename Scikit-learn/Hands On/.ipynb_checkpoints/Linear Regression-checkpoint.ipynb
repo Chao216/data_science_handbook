{
 "cells": [
  {
   "cell_type": "markdown",
   "id": "4c0a2b6b",
   "metadata": {},
   "source": [
    "# Write MarkDown between cells.\n",
    "\n",
    "in order to do so.\n",
    "\n",
    "press `esc` on keyboard, and then press `m`\n"
   ]
  },
  {
   "cell_type": "code",
   "execution_count": 3,
   "id": "75d895b7",
   "metadata": {},
   "outputs": [],
   "source": [
    "%matplotlib inline\n",
    "import matplotlib.pyplot as plt\n",
    "import pandas as pd\n",
    "import numpy as np\n",
    "\n",
    "from sklearn.model_selection import train_test_split # this is used to split data into train, and test \n",
    "from sklearn.linear_model import LinearRegression # import linear models\n"
   ]
  },
  {
   "cell_type": "markdown",
   "id": "3bd14178",
   "metadata": {},
   "source": [
    "# Now, load the data with pd.read_csv()"
   ]
  },
  {
   "cell_type": "code",
   "execution_count": 4,
   "id": "e090b61e",
   "metadata": {},
   "outputs": [
    {
     "data": {
      "text/html": [
       "<div>\n",
       "<style scoped>\n",
       "    .dataframe tbody tr th:only-of-type {\n",
       "        vertical-align: middle;\n",
       "    }\n",
       "\n",
       "    .dataframe tbody tr th {\n",
       "        vertical-align: top;\n",
       "    }\n",
       "\n",
       "    .dataframe thead th {\n",
       "        text-align: right;\n",
       "    }\n",
       "</style>\n",
       "<table border=\"1\" class=\"dataframe\">\n",
       "  <thead>\n",
       "    <tr style=\"text-align: right;\">\n",
       "      <th></th>\n",
       "      <th>x</th>\n",
       "      <th>y</th>\n",
       "    </tr>\n",
       "  </thead>\n",
       "  <tbody>\n",
       "    <tr>\n",
       "      <th>0</th>\n",
       "      <td>0.000000</td>\n",
       "      <td>-51.000000</td>\n",
       "    </tr>\n",
       "    <tr>\n",
       "      <th>1</th>\n",
       "      <td>25.000000</td>\n",
       "      <td>-12.000000</td>\n",
       "    </tr>\n",
       "    <tr>\n",
       "      <th>2</th>\n",
       "      <td>117.583220</td>\n",
       "      <td>134.907414</td>\n",
       "    </tr>\n",
       "    <tr>\n",
       "      <th>3</th>\n",
       "      <td>108.922466</td>\n",
       "      <td>134.085180</td>\n",
       "    </tr>\n",
       "    <tr>\n",
       "      <th>4</th>\n",
       "      <td>69.887445</td>\n",
       "      <td>NaN</td>\n",
       "    </tr>\n",
       "  </tbody>\n",
       "</table>\n",
       "</div>"
      ],
      "text/plain": [
       "            x           y\n",
       "0    0.000000  -51.000000\n",
       "1   25.000000  -12.000000\n",
       "2  117.583220  134.907414\n",
       "3  108.922466  134.085180\n",
       "4   69.887445         NaN"
      ]
     },
     "execution_count": 4,
     "metadata": {},
     "output_type": "execute_result"
    }
   ],
   "source": [
    "df = pd.read_csv(\"../data/linear.csv\")\n",
    "df.head()"
   ]
  },
  {
   "cell_type": "code",
   "execution_count": 6,
   "id": "d41db5b5",
   "metadata": {},
   "outputs": [
    {
     "name": "stdout",
     "output_type": "stream",
     "text": [
      "(102, 2)\n"
     ]
    }
   ],
   "source": [
    "# check shape of the dataframe\n",
    "print(df.shape)\n"
   ]
  },
  {
   "cell_type": "code",
   "execution_count": 7,
   "id": "07344623",
   "metadata": {},
   "outputs": [
    {
     "data": {
      "text/plain": [
       "x    0\n",
       "y    8\n",
       "dtype: int64"
      ]
     },
     "execution_count": 7,
     "metadata": {},
     "output_type": "execute_result"
    }
   ],
   "source": [
    "# check number of missing values\n",
    "df.isnull().sum() # we have 8 missing values"
   ]
  },
  {
   "cell_type": "code",
   "execution_count": 10,
   "id": "c5a01e13",
   "metadata": {},
   "outputs": [],
   "source": [
    "df = df.dropna(how=\"any\")"
   ]
  },
  {
   "cell_type": "code",
   "execution_count": 11,
   "id": "05c7fe75",
   "metadata": {},
   "outputs": [
    {
     "data": {
      "text/plain": [
       "(94, 2)"
      ]
     },
     "execution_count": 11,
     "metadata": {},
     "output_type": "execute_result"
    }
   ],
   "source": [
    "df.shape # now we have remove 8 missing value rows."
   ]
  },
  {
   "cell_type": "markdown",
   "id": "2ec3bed0",
   "metadata": {},
   "source": [
    "# extract the feature matrix"
   ]
  },
  {
   "cell_type": "code",
   "execution_count": 19,
   "id": "93a72990",
   "metadata": {},
   "outputs": [
    {
     "data": {
      "text/plain": [
       "array([[  0.        ],\n",
       "       [ 25.        ],\n",
       "       [117.5832198 ],\n",
       "       [108.9224662 ],\n",
       "       [ 96.83998269],\n",
       "       [ 51.77594025]])"
      ]
     },
     "execution_count": 19,
     "metadata": {},
     "output_type": "execute_result"
    }
   ],
   "source": [
    "X = df.loc[:,[\"x\"]].values # select all rows, and x column\n",
    "X[:6]"
   ]
  },
  {
   "cell_type": "code",
   "execution_count": 22,
   "id": "2c5b4e2f",
   "metadata": {},
   "outputs": [
    {
     "data": {
      "text/plain": [
       "(94, 1)"
      ]
     },
     "execution_count": 22,
     "metadata": {},
     "output_type": "execute_result"
    }
   ],
   "source": [
    "X.shape"
   ]
  },
  {
   "cell_type": "code",
   "execution_count": 26,
   "id": "0b9811c8",
   "metadata": {},
   "outputs": [
    {
     "data": {
      "text/plain": [
       "2"
      ]
     },
     "execution_count": 26,
     "metadata": {},
     "output_type": "execute_result"
    }
   ],
   "source": [
    "X.ndim"
   ]
  },
  {
   "cell_type": "markdown",
   "id": "d883aebf",
   "metadata": {},
   "source": [
    "# extract target vector Note df.loc[[]] will return a dataframe."
   ]
  },
  {
   "cell_type": "code",
   "execution_count": 21,
   "id": "863d6402",
   "metadata": {},
   "outputs": [
    {
     "data": {
      "text/plain": [
       "array([-51.        , -12.        , 134.9074137 , 134.0851795 ,\n",
       "       114.5306376 ,  31.37643731])"
      ]
     },
     "execution_count": 21,
     "metadata": {},
     "output_type": "execute_result"
    }
   ],
   "source": [
    "y = df.loc[:,\"y\"].values\n",
    "y[:6]"
   ]
  },
  {
   "cell_type": "code",
   "execution_count": 23,
   "id": "1b6f0200",
   "metadata": {},
   "outputs": [
    {
     "data": {
      "text/plain": [
       "(94,)"
      ]
     },
     "execution_count": 23,
     "metadata": {},
     "output_type": "execute_result"
    }
   ],
   "source": [
    "y.shape"
   ]
  },
  {
   "cell_type": "code",
   "execution_count": 27,
   "id": "596d2721",
   "metadata": {},
   "outputs": [
    {
     "data": {
      "text/plain": [
       "1"
      ]
     },
     "execution_count": 27,
     "metadata": {},
     "output_type": "execute_result"
    }
   ],
   "source": [
    "y.ndim"
   ]
  },
  {
   "cell_type": "markdown",
   "id": "291f2d3f",
   "metadata": {},
   "source": [
    "# create an instance for a imported model"
   ]
  },
  {
   "cell_type": "code",
   "execution_count": 28,
   "id": "f769c248",
   "metadata": {},
   "outputs": [],
   "source": [
    "reg = LinearRegression(fit_intercept=True) # here one argument, true or false"
   ]
  },
  {
   "cell_type": "markdown",
   "id": "a32f1472",
   "metadata": {},
   "source": [
    "# use fit.() to train your model"
   ]
  },
  {
   "cell_type": "code",
   "execution_count": 29,
   "id": "4b9e8186",
   "metadata": {},
   "outputs": [
    {
     "data": {
      "text/plain": [
       "LinearRegression()"
      ]
     },
     "execution_count": 29,
     "metadata": {},
     "output_type": "execute_result"
    }
   ],
   "source": [
    "reg.fit(X,y)"
   ]
  },
  {
   "cell_type": "code",
   "execution_count": 47,
   "id": "83480f3e",
   "metadata": {},
   "outputs": [],
   "source": [
    "X= X.reshape(-1,1)"
   ]
  },
  {
   "cell_type": "markdown",
   "id": "66d17a18",
   "metadata": {},
   "source": [
    "# np.reshape(-1, 3) or reshape(5,-1), here -1 means unknow rows, unknown columns, let numpy decide suitable rows or columns."
   ]
  },
  {
   "cell_type": "code",
   "execution_count": 46,
   "id": "38fdcab1",
   "metadata": {},
   "outputs": [
    {
     "data": {
      "text/plain": [
       "(20, 5)"
      ]
     },
     "execution_count": 46,
     "metadata": {},
     "output_type": "execute_result"
    }
   ],
   "source": [
    "a = np.linspace(1,100,100)\n",
    "a.size\n",
    "a.shape\n",
    "a.ndim\n",
    "a = a.reshape(20,-1)\n",
    "a.shape"
   ]
  },
  {
   "cell_type": "markdown",
   "id": "d3e81213",
   "metadata": {},
   "source": [
    "# use the model to predict with reg.predict()"
   ]
  },
  {
   "cell_type": "code",
   "execution_count": 48,
   "id": "b435d248",
   "metadata": {},
   "outputs": [
    {
     "data": {
      "text/plain": [
       "array([-50.99119328, -11.39905237, 135.223663  , 121.50775193,\n",
       "       102.37289634,  31.0056196 ,   4.46431068,  74.84474012,\n",
       "        20.82088826,  72.16749711])"
      ]
     },
     "execution_count": 48,
     "metadata": {},
     "output_type": "execute_result"
    }
   ],
   "source": [
    "reg.predict(X[0:10])"
   ]
  },
  {
   "cell_type": "markdown",
   "id": "1dae8532",
   "metadata": {},
   "source": [
    "# score to measure model performance. here in LR, score is R squared."
   ]
  },
  {
   "cell_type": "code",
   "execution_count": 49,
   "id": "c94a712d",
   "metadata": {},
   "outputs": [
    {
     "name": "stdout",
     "output_type": "stream",
     "text": [
      "0.979881836115762\n"
     ]
    }
   ],
   "source": [
    "score = reg.score(X,y)\n",
    "print(score)"
   ]
  },
  {
   "cell_type": "markdown",
   "id": "6de4f0ae",
   "metadata": {},
   "source": [
    "# check your equation for linear model"
   ]
  },
  {
   "cell_type": "code",
   "execution_count": 59,
   "id": "817a4120",
   "metadata": {},
   "outputs": [],
   "source": [
    "c = reg.coef_ #coefficient"
   ]
  },
  {
   "cell_type": "code",
   "execution_count": 60,
   "id": "c20175c8",
   "metadata": {},
   "outputs": [],
   "source": [
    "i = reg.intercept_ # interception"
   ]
  },
  {
   "cell_type": "code",
   "execution_count": 62,
   "id": "54de757b",
   "metadata": {},
   "outputs": [
    {
     "name": "stdout",
     "output_type": "stream",
     "text": [
      "the equation is y = 1.5836856364627472*x+-50.99119328333397\n",
      "the equation is y = 1.58*x + -50.99\n"
     ]
    }
   ],
   "source": [
    "print(f\"the equation is y = {c[0]}*x+{i}\")\n",
    "print(\"the equation is y = {:.2f}*x + {:.2f}\".format(c[0],i))"
   ]
  },
  {
   "cell_type": "code",
   "execution_count": null,
   "id": "5fa46172",
   "metadata": {},
   "outputs": [],
   "source": []
  }
 ],
 "metadata": {
  "kernelspec": {
   "display_name": "Python 3 (ipykernel)",
   "language": "python",
   "name": "python3"
  },
  "language_info": {
   "codemirror_mode": {
    "name": "ipython",
    "version": 3
   },
   "file_extension": ".py",
   "mimetype": "text/x-python",
   "name": "python",
   "nbconvert_exporter": "python",
   "pygments_lexer": "ipython3",
   "version": "3.9.13"
  }
 },
 "nbformat": 4,
 "nbformat_minor": 5
}
