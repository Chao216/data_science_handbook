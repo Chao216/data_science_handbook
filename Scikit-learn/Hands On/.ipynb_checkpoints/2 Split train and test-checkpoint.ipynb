{
 "cells": [
  {
   "cell_type": "code",
   "execution_count": 20,
   "id": "7bb98a19",
   "metadata": {},
   "outputs": [],
   "source": [
    "import pandas as pd\n",
    "import matplotlib.pyplot as plt\n",
    "from sklearn.datasets import fetch_california_housing\n",
    "from sklearn.model_selection import train_test_split\n",
    "from sklearn.linear_model import LinearRegression\n"
   ]
  },
  {
   "cell_type": "code",
   "execution_count": 24,
   "id": "429d7f77",
   "metadata": {},
   "outputs": [
    {
     "name": "stdout",
     "output_type": "stream",
     "text": [
      "(20640, 8)\n",
      "[[   8.3252       41.            6.98412698 ...    2.55555556\n",
      "    37.88       -122.23      ]\n",
      " [   8.3014       21.            6.23813708 ...    2.10984183\n",
      "    37.86       -122.22      ]\n",
      " [   7.2574       52.            8.28813559 ...    2.80225989\n",
      "    37.85       -122.24      ]\n",
      " ...\n",
      " [   1.7          17.            5.20554273 ...    2.3256351\n",
      "    39.43       -121.22      ]\n",
      " [   1.8672       18.            5.32951289 ...    2.12320917\n",
      "    39.43       -121.32      ]\n",
      " [   2.3886       16.            5.25471698 ...    2.61698113\n",
      "    39.37       -121.24      ]]\n"
     ]
    }
   ],
   "source": [
    "housing = fetch_california_housing()\n",
    "print(housing.data.shape)\n",
    "print(housing.data)\n"
   ]
  },
  {
   "cell_type": "markdown",
   "id": "64828e6c",
   "metadata": {},
   "source": [
    "# convert to pd dataframe, data = housing.data, columns = housing.feature_names"
   ]
  },
  {
   "cell_type": "code",
   "execution_count": 27,
   "id": "e921e4ae",
   "metadata": {},
   "outputs": [
    {
     "name": "stdout",
     "output_type": "stream",
     "text": [
      "   MedInc  HouseAge  AveRooms  AveBedrms  Population  AveOccup  Latitude  \\\n",
      "0  8.3252      41.0  6.984127   1.023810       322.0  2.555556     37.88   \n",
      "1  8.3014      21.0  6.238137   0.971880      2401.0  2.109842     37.86   \n",
      "2  7.2574      52.0  8.288136   1.073446       496.0  2.802260     37.85   \n",
      "3  5.6431      52.0  5.817352   1.073059       558.0  2.547945     37.85   \n",
      "4  3.8462      52.0  6.281853   1.081081       565.0  2.181467     37.85   \n",
      "\n",
      "   Longitude  \n",
      "0    -122.23  \n",
      "1    -122.22  \n",
      "2    -122.24  \n",
      "3    -122.25  \n",
      "4    -122.25  \n",
      "   MedInc  HouseAge  AveRooms  AveBedrms  Population  AveOccup  Latitude  \\\n",
      "0  8.3252      41.0  6.984127   1.023810       322.0  2.555556     37.88   \n",
      "1  8.3014      21.0  6.238137   0.971880      2401.0  2.109842     37.86   \n",
      "2  7.2574      52.0  8.288136   1.073446       496.0  2.802260     37.85   \n",
      "3  5.6431      52.0  5.817352   1.073059       558.0  2.547945     37.85   \n",
      "4  3.8462      52.0  6.281853   1.081081       565.0  2.181467     37.85   \n",
      "\n",
      "   Longitude  target  \n",
      "0    -122.23   4.526  \n",
      "1    -122.22   3.585  \n",
      "2    -122.24   3.521  \n",
      "3    -122.25   3.413  \n",
      "4    -122.25   3.422  \n"
     ]
    }
   ],
   "source": [
    "df = pd.DataFrame(housing.data, columns=housing.feature_names)\n",
    "print(df.head())\n",
    "df[\"target\"]=housing.target\n",
    "print(df.head())"
   ]
  },
  {
   "cell_type": "markdown",
   "id": "d76688a6",
   "metadata": {},
   "source": [
    "# create the feature matrix, and target vector\n",
    "\n"
   ]
  },
  {
   "cell_type": "code",
   "execution_count": 86,
   "id": "e994e260",
   "metadata": {},
   "outputs": [
    {
     "data": {
      "text/plain": [
       "(20640, 8)"
      ]
     },
     "execution_count": 86,
     "metadata": {},
     "output_type": "execute_result"
    }
   ],
   "source": [
    "X = df.loc[:,[\"AveOccup\",\"MedInc\",\"Latitude\",\"Longitude\",\"HouseAge\",\"AveRooms\",\"AveBedrms\",\"Population\"]].values\n",
    "X.shape"
   ]
  },
  {
   "cell_type": "code",
   "execution_count": 87,
   "id": "ae80400d",
   "metadata": {},
   "outputs": [
    {
     "data": {
      "text/plain": [
       "(20640,)"
      ]
     },
     "execution_count": 87,
     "metadata": {},
     "output_type": "execute_result"
    }
   ],
   "source": [
    "y = df.loc[:,\"target\"].values\n",
    "y.shape"
   ]
  },
  {
   "cell_type": "markdown",
   "id": "40e4caac",
   "metadata": {},
   "source": [
    "# now split the data into train and test\n"
   ]
  },
  {
   "cell_type": "code",
   "execution_count": 88,
   "id": "5cf2e08d",
   "metadata": {},
   "outputs": [],
   "source": [
    "X_train, X_test, y_train, y_test = train_test_split(X,y,random_state=3)"
   ]
  },
  {
   "cell_type": "markdown",
   "id": "0fe04eff",
   "metadata": {},
   "source": [
    "# create model instance and train"
   ]
  },
  {
   "cell_type": "code",
   "execution_count": 89,
   "id": "68b56273",
   "metadata": {},
   "outputs": [
    {
     "data": {
      "text/plain": [
       "LinearRegression()"
      ]
     },
     "execution_count": 89,
     "metadata": {},
     "output_type": "execute_result"
    }
   ],
   "source": [
    "reg = LinearRegression(fit_intercept=True)\n",
    "reg.fit(X_train,y_train)"
   ]
  },
  {
   "cell_type": "markdown",
   "id": "f3307c11",
   "metadata": {},
   "source": [
    "# check score, here R squared"
   ]
  },
  {
   "cell_type": "code",
   "execution_count": 90,
   "id": "313b266a",
   "metadata": {},
   "outputs": [
    {
     "name": "stdout",
     "output_type": "stream",
     "text": [
      "0.6082313600304428\n"
     ]
    }
   ],
   "source": [
    "score = reg.score(X_train,y_train)\n",
    "print(score)"
   ]
  },
  {
   "cell_type": "code",
   "execution_count": 91,
   "id": "b835373e",
   "metadata": {},
   "outputs": [
    {
     "name": "stdout",
     "output_type": "stream",
     "text": [
      "[-3.43119685e-03  4.49450628e-01 -4.20976916e-01 -4.35175412e-01\n",
      "  1.00707075e-02 -1.26928942e-01  8.15851637e-01 -1.18106966e-06]\n"
     ]
    }
   ],
   "source": [
    "coefs = reg.coef_\n",
    "print(coefs)"
   ]
  },
  {
   "cell_type": "code",
   "execution_count": 92,
   "id": "5abf5836",
   "metadata": {},
   "outputs": [
    {
     "name": "stdout",
     "output_type": "stream",
     "text": [
      "-37.18539362226713\n"
     ]
    }
   ],
   "source": [
    "intercept = reg.intercept_\n",
    "print(intercept)"
   ]
  },
  {
   "cell_type": "code",
   "execution_count": 93,
   "id": "1beb4756",
   "metadata": {},
   "outputs": [
    {
     "name": "stdout",
     "output_type": "stream",
     "text": [
      "0.5945098144732655\n"
     ]
    }
   ],
   "source": [
    "test_score = reg.score(X_test,y_test)\n",
    "print(test_score)"
   ]
  },
  {
   "cell_type": "code",
   "execution_count": 94,
   "id": "84cbf80b",
   "metadata": {},
   "outputs": [
    {
     "name": "stdout",
     "output_type": "stream",
     "text": [
      "target = -0.00* AveOccup + 0.45*MedInc + -0.42*Latitude + -0.44*Longitude + 0.01*HouseAge + -0.13*AveRooms + 0.82*AveBedrms + -0.00*Population\n"
     ]
    }
   ],
   "source": [
    "print(\"target = {:.2f}* AveOccup + {:.2f}*MedInc + {:.2f}*Latitude + {:.2f}*Longitude + {:.2f}*HouseAge + {:.2f}*AveRooms + {:.2f}*AveBedrms + {:.2f}*Population\".format(coefs[0],coefs[1],coefs[2],coefs[3],coefs[4],coefs[5],coefs[6],coefs[7]) )"
   ]
  },
  {
   "cell_type": "code",
   "execution_count": 95,
   "id": "1218d139",
   "metadata": {},
   "outputs": [],
   "source": [
    "bias = reg.predict(X_test) - y_test"
   ]
  },
  {
   "cell_type": "code",
   "execution_count": 100,
   "id": "5b2dae56",
   "metadata": {},
   "outputs": [
    {
     "name": "stdout",
     "output_type": "stream",
     "text": [
      "23.84470828383406\n",
      "0.004621067496867066\n",
      "10.495431323156218\n",
      "-3.8895311327700064\n"
     ]
    },
    {
     "data": {
      "text/plain": [
       "0.12459734487863339"
      ]
     },
     "execution_count": 100,
     "metadata": {},
     "output_type": "execute_result"
    }
   ],
   "source": [
    "print(bias.sum())\n",
    "print(bias.mean())\n",
    "print(bias.max())\n",
    "print(bias.min())\n",
    "import numpy as np\n",
    "\n",
    "np.median(bias)"
   ]
  },
  {
   "cell_type": "code",
   "execution_count": 102,
   "id": "78fc0023",
   "metadata": {},
   "outputs": [
    {
     "name": "stdout",
     "output_type": "stream",
     "text": [
      "2.0615421279069768\n",
      "1.7835\n"
     ]
    }
   ],
   "source": [
    "print(y_test.mean())\n",
    "print(np.median(y_test))"
   ]
  },
  {
   "cell_type": "code",
   "execution_count": null,
   "id": "af0f86e7",
   "metadata": {},
   "outputs": [],
   "source": []
  }
 ],
 "metadata": {
  "kernelspec": {
   "display_name": "Python 3 (ipykernel)",
   "language": "python",
   "name": "python3"
  },
  "language_info": {
   "codemirror_mode": {
    "name": "ipython",
    "version": 3
   },
   "file_extension": ".py",
   "mimetype": "text/x-python",
   "name": "python",
   "nbconvert_exporter": "python",
   "pygments_lexer": "ipython3",
   "version": "3.9.13"
  }
 },
 "nbformat": 4,
 "nbformat_minor": 5
}
