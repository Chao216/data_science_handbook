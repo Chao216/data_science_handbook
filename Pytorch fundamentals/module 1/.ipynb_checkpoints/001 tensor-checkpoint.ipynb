{
 "cells": [
  {
   "cell_type": "code",
   "execution_count": 12,
   "id": "2d75c6f6",
   "metadata": {},
   "outputs": [],
   "source": [
    "import numpy as np\n",
    "import torch"
   ]
  },
  {
   "cell_type": "markdown",
   "id": "dcb9818d",
   "metadata": {},
   "source": [
    "# create from numpy array with `torch.from_numpy()`"
   ]
  },
  {
   "cell_type": "code",
   "execution_count": 13,
   "id": "8b84baf5",
   "metadata": {},
   "outputs": [],
   "source": [
    "arr1 = np.random.randint(1,10,(3,3))"
   ]
  },
  {
   "cell_type": "code",
   "execution_count": 14,
   "id": "2fd70268",
   "metadata": {},
   "outputs": [
    {
     "data": {
      "text/plain": [
       "array([[8, 7, 7],\n",
       "       [6, 2, 7],\n",
       "       [6, 8, 4]])"
      ]
     },
     "execution_count": 14,
     "metadata": {},
     "output_type": "execute_result"
    }
   ],
   "source": [
    "arr1"
   ]
  },
  {
   "cell_type": "code",
   "execution_count": 15,
   "id": "4f08826b",
   "metadata": {},
   "outputs": [],
   "source": [
    "x_data = torch.from_numpy(arr1)"
   ]
  },
  {
   "cell_type": "code",
   "execution_count": 16,
   "id": "a73c0e61",
   "metadata": {},
   "outputs": [
    {
     "data": {
      "text/plain": [
       "tensor([[8, 7, 7],\n",
       "        [6, 2, 7],\n",
       "        [6, 8, 4]], dtype=torch.int32)"
      ]
     },
     "execution_count": 16,
     "metadata": {},
     "output_type": "execute_result"
    }
   ],
   "source": [
    "x_data"
   ]
  },
  {
   "cell_type": "markdown",
   "id": "8a3b34e2",
   "metadata": {},
   "source": [
    "# create from raw data with `tourch.tensor()`"
   ]
  },
  {
   "cell_type": "code",
   "execution_count": 17,
   "id": "541f1f00",
   "metadata": {},
   "outputs": [],
   "source": [
    "data = [[1,2,3],\n",
    "       [4,5,6],\n",
    "       [7,9,8]]"
   ]
  },
  {
   "cell_type": "code",
   "execution_count": 19,
   "id": "9a3077fc",
   "metadata": {},
   "outputs": [],
   "source": [
    "t1 = torch.tensor(data)"
   ]
  },
  {
   "cell_type": "code",
   "execution_count": 20,
   "id": "9dbc73e5",
   "metadata": {},
   "outputs": [
    {
     "data": {
      "text/plain": [
       "tensor([[1, 2, 3],\n",
       "        [4, 5, 6],\n",
       "        [7, 9, 8]])"
      ]
     },
     "execution_count": 20,
     "metadata": {},
     "output_type": "execute_result"
    }
   ],
   "source": [
    "t1"
   ]
  },
  {
   "cell_type": "markdown",
   "id": "52b9ca5a",
   "metadata": {},
   "source": [
    "# create from other tensor with `torch.ones_like()`"
   ]
  },
  {
   "cell_type": "code",
   "execution_count": 23,
   "id": "6304a242",
   "metadata": {},
   "outputs": [],
   "source": [
    "t2 = torch.ones_like(t1)\n",
    "t3 = torch.zeros_like(t2)\n",
    "t4 = torch.rand_like(t1, dtype=torch.float)"
   ]
  },
  {
   "cell_type": "code",
   "execution_count": 24,
   "id": "14d71303",
   "metadata": {},
   "outputs": [
    {
     "data": {
      "text/plain": [
       "tensor([[1, 1, 1],\n",
       "        [1, 1, 1],\n",
       "        [1, 1, 1]])"
      ]
     },
     "execution_count": 24,
     "metadata": {},
     "output_type": "execute_result"
    }
   ],
   "source": [
    "t2"
   ]
  },
  {
   "cell_type": "code",
   "execution_count": 25,
   "id": "2acfcb0f",
   "metadata": {},
   "outputs": [
    {
     "data": {
      "text/plain": [
       "tensor([[0, 0, 0],\n",
       "        [0, 0, 0],\n",
       "        [0, 0, 0]])"
      ]
     },
     "execution_count": 25,
     "metadata": {},
     "output_type": "execute_result"
    }
   ],
   "source": [
    "t3"
   ]
  },
  {
   "cell_type": "code",
   "execution_count": 26,
   "id": "1ead4357",
   "metadata": {},
   "outputs": [
    {
     "data": {
      "text/plain": [
       "tensor([[0.9166, 0.4915, 0.8981],\n",
       "        [0.9822, 0.8986, 0.0523],\n",
       "        [0.1678, 0.6900, 0.4685]])"
      ]
     },
     "execution_count": 26,
     "metadata": {},
     "output_type": "execute_result"
    }
   ],
   "source": [
    "t4"
   ]
  },
  {
   "cell_type": "markdown",
   "id": "6eba2620",
   "metadata": {},
   "source": [
    "#  attributes of tensor shape, dtype, device"
   ]
  },
  {
   "cell_type": "code",
   "execution_count": 27,
   "id": "e22d1480",
   "metadata": {},
   "outputs": [
    {
     "data": {
      "text/plain": [
       "torch.Size([3, 3])"
      ]
     },
     "execution_count": 27,
     "metadata": {},
     "output_type": "execute_result"
    }
   ],
   "source": [
    "t4.shape"
   ]
  },
  {
   "cell_type": "code",
   "execution_count": 28,
   "id": "83b4a6c3",
   "metadata": {},
   "outputs": [
    {
     "data": {
      "text/plain": [
       "torch.float32"
      ]
     },
     "execution_count": 28,
     "metadata": {},
     "output_type": "execute_result"
    }
   ],
   "source": [
    "t4.dtype"
   ]
  },
  {
   "cell_type": "code",
   "execution_count": 29,
   "id": "43b5ec13",
   "metadata": {},
   "outputs": [
    {
     "data": {
      "text/plain": [
       "device(type='cpu')"
      ]
     },
     "execution_count": 29,
     "metadata": {},
     "output_type": "execute_result"
    }
   ],
   "source": [
    "t4.device"
   ]
  },
  {
   "cell_type": "code",
   "execution_count": null,
   "id": "ef8f6790",
   "metadata": {},
   "outputs": [],
   "source": []
  }
 ],
 "metadata": {
  "kernelspec": {
   "display_name": "Python 3 (ipykernel)",
   "language": "python",
   "name": "python3"
  },
  "language_info": {
   "codemirror_mode": {
    "name": "ipython",
    "version": 3
   },
   "file_extension": ".py",
   "mimetype": "text/x-python",
   "name": "python",
   "nbconvert_exporter": "python",
   "pygments_lexer": "ipython3",
   "version": "3.9.13"
  }
 },
 "nbformat": 4,
 "nbformat_minor": 5
}
