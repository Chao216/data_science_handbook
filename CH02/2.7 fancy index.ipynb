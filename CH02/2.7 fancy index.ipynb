{
 "cells": [
  {
   "cell_type": "code",
   "execution_count": 11,
   "id": "d48305d2",
   "metadata": {},
   "outputs": [
    {
     "name": "stdout",
     "output_type": "stream",
     "text": [
      "RandomState(MT19937)\n",
      "\n",
      "\n",
      "[51 92 14 71 60 20 82 86 74 74]\n",
      "\n",
      "\n",
      "71 86 14\n",
      "\n",
      "\n",
      "[71 60 20]\n",
      "\n",
      "\n",
      "fancy index change output shape\n",
      "\n",
      "\n",
      "[[14 71]\n",
      " [60 20]]\n",
      "\n",
      "\n",
      "(2, 2)\n"
     ]
    }
   ],
   "source": [
    "import numpy as np\n",
    "rand = np.random.RandomState(42)\n",
    "print(rand)\n",
    "print(\"\\n\")\n",
    "x = rand.randint(100, size=10)\n",
    "print(x)\n",
    "print(\"\\n\")\n",
    "print(x[3], x[7], x[2])\n",
    "print(\"\\n\")\n",
    "ind = [3,4,5]\n",
    "print(x[ind])\n",
    "print(\"\\n\")\n",
    "\n",
    "print(\"fancy index change output shape\")\n",
    "print(\"\\n\")\n",
    "ind = np.array([[2,3],\n",
    "               [4,5]])\n",
    "print(x[ind])\n",
    "print(\"\\n\")\n",
    "print(x[ind].shape)"
   ]
  },
  {
   "cell_type": "code",
   "execution_count": 23,
   "id": "09af8ad6",
   "metadata": {},
   "outputs": [
    {
     "name": "stdout",
     "output_type": "stream",
     "text": [
      "[[[ 0  1  2  3]\n",
      "  [ 4  5  6  7]\n",
      "  [ 8  9 10 11]\n",
      "  [12 13 14 15]]\n",
      "\n",
      " [[16 17 18 19]\n",
      "  [20 21 22 23]\n",
      "  [24 25 26 27]\n",
      "  [28 29 30 31]]\n",
      "\n",
      " [[32 33 34 35]\n",
      "  [36 37 38 39]\n",
      "  [40 41 42 43]\n",
      "  [44 45 46 47]]\n",
      "\n",
      " [[48 49 50 51]\n",
      "  [52 53 54 55]\n",
      "  [56 57 58 59]\n",
      "  [60 61 62 63]]]\n",
      "\n",
      "-------------------------\n",
      "[ 5 46]\n"
     ]
    }
   ],
   "source": [
    "x = np.arange(64).reshape(4,4,4)\n",
    "print(x)\n",
    "axis1 = [0,2]\n",
    "axis2 = [1,3]\n",
    "axis3 = [1,2]\n",
    "print(\"\\n-------------------------\")\n",
    "print(x[axis1, axis2, axis3])"
   ]
  },
  {
   "cell_type": "code",
   "execution_count": null,
   "id": "b00692c3",
   "metadata": {},
   "outputs": [],
   "source": []
  }
 ],
 "metadata": {
  "kernelspec": {
   "display_name": "Python 3 (ipykernel)",
   "language": "python",
   "name": "python3"
  },
  "language_info": {
   "codemirror_mode": {
    "name": "ipython",
    "version": 3
   },
   "file_extension": ".py",
   "mimetype": "text/x-python",
   "name": "python",
   "nbconvert_exporter": "python",
   "pygments_lexer": "ipython3",
   "version": "3.9.13"
  }
 },
 "nbformat": 4,
 "nbformat_minor": 5
}
