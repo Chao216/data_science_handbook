{
 "cells": [
  {
   "cell_type": "code",
   "execution_count": 6,
   "id": "8942b22d",
   "metadata": {},
   "outputs": [
    {
     "name": "stdout",
     "output_type": "stream",
     "text": [
      "[0. 0. 0. 0. 0.]\n",
      "\n",
      "\n",
      "[[0. 0. 0. 0.]\n",
      " [0. 0. 0. 0.]\n",
      " [0. 0. 0. 0.]]\n"
     ]
    }
   ],
   "source": [
    "import numpy as np\n",
    "\n",
    "print(np.zeros(5))\n",
    "print(\"\\n\")\n",
    "print(np.zeros((3,4)))"
   ]
  },
  {
   "cell_type": "code",
   "execution_count": 7,
   "id": "6f127f75",
   "metadata": {},
   "outputs": [
    {
     "name": "stdout",
     "output_type": "stream",
     "text": [
      "[1. 1. 1. 1. 1.]\n",
      "\n",
      "\n",
      "[[[1. 1. 1. 1. 1.]\n",
      "  [1. 1. 1. 1. 1.]\n",
      "  [1. 1. 1. 1. 1.]\n",
      "  [1. 1. 1. 1. 1.]]\n",
      "\n",
      " [[1. 1. 1. 1. 1.]\n",
      "  [1. 1. 1. 1. 1.]\n",
      "  [1. 1. 1. 1. 1.]\n",
      "  [1. 1. 1. 1. 1.]]\n",
      "\n",
      " [[1. 1. 1. 1. 1.]\n",
      "  [1. 1. 1. 1. 1.]\n",
      "  [1. 1. 1. 1. 1.]\n",
      "  [1. 1. 1. 1. 1.]]]\n"
     ]
    }
   ],
   "source": [
    "print(np.ones(5))\n",
    "print(\"\\n\")\n",
    "print(np.ones((3,4,5)))"
   ]
  },
  {
   "cell_type": "code",
   "execution_count": 8,
   "id": "462cb598",
   "metadata": {},
   "outputs": [
    {
     "name": "stdout",
     "output_type": "stream",
     "text": [
      "[[[9 9 9]\n",
      "  [9 9 9]\n",
      "  [9 9 9]]\n",
      "\n",
      " [[9 9 9]\n",
      "  [9 9 9]\n",
      "  [9 9 9]]\n",
      "\n",
      " [[9 9 9]\n",
      "  [9 9 9]\n",
      "  [9 9 9]]]\n"
     ]
    }
   ],
   "source": [
    "print(np.full((3,3,3),9))"
   ]
  },
  {
   "cell_type": "code",
   "execution_count": 14,
   "id": "55f2070d",
   "metadata": {},
   "outputs": [
    {
     "name": "stdout",
     "output_type": "stream",
     "text": [
      "[0 1 2 3 4]\n",
      "[ 1  2  3  4  5  6  7  8  9 10]\n",
      "[ 1  6 11 16]\n"
     ]
    }
   ],
   "source": [
    "print(np.arange(5)) # from 0 to 5\n",
    "print(np.arange(1,11)) # from 1 to 11\n",
    "print(np.arange(1,21,5)) # from 1 to 21 step 5"
   ]
  },
  {
   "cell_type": "code",
   "execution_count": 17,
   "id": "6dda7118",
   "metadata": {},
   "outputs": [
    {
     "name": "stdout",
     "output_type": "stream",
     "text": [
      "[1.  1.4 1.8 2.2 2.6 3. ]\n"
     ]
    }
   ],
   "source": [
    "print(np.linspace(1,3,6)) # linear space from 1 to 3, 6 numbers"
   ]
  },
  {
   "cell_type": "code",
   "execution_count": 18,
   "id": "c1c289bb",
   "metadata": {},
   "outputs": [
    {
     "name": "stdout",
     "output_type": "stream",
     "text": [
      "[[0.57783102 0.95874012 0.35593517 0.01722848]\n",
      " [0.465598   0.56175857 0.86376326 0.29027046]\n",
      " [0.27548575 0.15872714 0.67078668 0.93234724]]\n"
     ]
    }
   ],
   "source": [
    "# random.random Only 1 gragument, shape of array\n",
    "\n",
    "print(np.random.random((3,4)))"
   ]
  },
  {
   "cell_type": "code",
   "execution_count": 21,
   "id": "2b0026d9",
   "metadata": {},
   "outputs": [
    {
     "name": "stdout",
     "output_type": "stream",
     "text": [
      "[[ 1.26099182  0.19758963  1.5854798   0.29427   ]\n",
      " [-0.11770212 -0.65546641 -0.39462305  1.51672259]\n",
      " [ 0.18445484  0.17312162 -0.75187111 -1.25670681]]\n"
     ]
    }
   ],
   "source": [
    "# random.normal 3 args, mean, variabnce, shape\n",
    "print(np.random.normal(0,1,(3,4))) "
   ]
  },
  {
   "cell_type": "code",
   "execution_count": 30,
   "id": "7f6c3827",
   "metadata": {},
   "outputs": [
    {
     "name": "stdout",
     "output_type": "stream",
     "text": [
      "[[87 84 84 97]\n",
      " [93 84 82 88]\n",
      " [81 80 93 94]]\n"
     ]
    }
   ],
   "source": [
    "# random.randint 3 args  min, max, shape\n",
    "print(np.random.randint(80,100,(3,4)))"
   ]
  },
  {
   "cell_type": "code",
   "execution_count": null,
   "id": "ceda112a",
   "metadata": {},
   "outputs": [],
   "source": []
  }
 ],
 "metadata": {
  "kernelspec": {
   "display_name": "Python 3 (ipykernel)",
   "language": "python",
   "name": "python3"
  },
  "language_info": {
   "codemirror_mode": {
    "name": "ipython",
    "version": 3
   },
   "file_extension": ".py",
   "mimetype": "text/x-python",
   "name": "python",
   "nbconvert_exporter": "python",
   "pygments_lexer": "ipython3",
   "version": "3.9.13"
  }
 },
 "nbformat": 4,
 "nbformat_minor": 5
}
