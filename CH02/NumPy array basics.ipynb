{
 "cells": [
  {
   "cell_type": "code",
   "execution_count": 2,
   "id": "42cf86aa",
   "metadata": {},
   "outputs": [
    {
     "name": "stdout",
     "output_type": "stream",
     "text": [
      "array1 ---------------------------------\n",
      "[5 0 3 3 7 9]\n",
      "array2 ---------------------------------\n",
      "[[3 5 2 4 7 6]\n",
      " [8 8 1 6 7 7]\n",
      " [8 1 5 9 8 9]\n",
      " [4 3 0 3 5 0]\n",
      " [2 3 8 1 3 3]\n",
      " [3 7 0 1 9 9]]\n",
      "array3 ---------------------------------\n",
      "[[[0 4 7 3 2 7]\n",
      "  [2 0 0 4 5 5]\n",
      "  [6 8 4 1 4 9]\n",
      "  [8 1 1 7 9 9]\n",
      "  [3 6 7 2 0 3]\n",
      "  [5 9 4 4 6 4]]\n",
      "\n",
      " [[4 3 4 4 8 4]\n",
      "  [3 7 5 5 0 1]\n",
      "  [5 9 3 0 5 0]\n",
      "  [1 2 4 2 0 3]\n",
      "  [2 0 7 5 9 0]\n",
      "  [2 7 2 9 2 3]]\n",
      "\n",
      " [[3 2 3 4 1 2]\n",
      "  [9 1 4 6 8 2]\n",
      "  [3 0 0 6 0 6]\n",
      "  [3 3 8 8 8 2]\n",
      "  [3 2 0 8 8 3]\n",
      "  [8 2 8 4 3 0]]\n",
      "\n",
      " [[4 3 6 9 8 0]\n",
      "  [8 5 9 0 9 6]\n",
      "  [5 3 1 8 0 4]\n",
      "  [9 6 5 7 8 8]\n",
      "  [9 2 8 6 6 9]\n",
      "  [1 6 8 8 3 2]]\n",
      "\n",
      " [[3 6 3 6 5 7]\n",
      "  [0 8 4 6 5 8]\n",
      "  [2 3 9 7 5 3]\n",
      "  [4 5 3 3 7 9]\n",
      "  [9 9 7 3 2 3]\n",
      "  [9 7 7 5 1 2]]\n",
      "\n",
      " [[2 8 1 5 8 4]\n",
      "  [0 2 5 5 0 8]\n",
      "  [1 1 0 3 8 8]\n",
      "  [4 4 0 9 3 7]\n",
      "  [3 2 1 1 2 1]\n",
      "  [4 2 5 5 5 2]]]\n",
      "the dimesnion of x3 is : 3\n",
      "the shape of x3 is : (6, 6, 6)\n",
      "the size of x3 is : 216\n",
      "datetype of x3:  int32\n",
      "itemsize of x3:  4\n",
      "nbytes of x3:  864\n"
     ]
    }
   ],
   "source": [
    "# np array properties\n",
    "\n",
    "import numpy as np\n",
    "np.random.seed(0)\n",
    "print(\"array1 ---------------------------------\")\n",
    "x1 = np.random.randint(10, size=6)\n",
    "print(x1)\n",
    "print(\"array2 ---------------------------------\")\n",
    "x2 = np.random.randint(10, size=(6,6))\n",
    "print(x2)\n",
    "print(\"array3 ---------------------------------\")\n",
    "x3 = np.random.randint(10, size=(6,6,6))\n",
    "print(x3)\n",
    "\n",
    "# ndim dimension, shape, and size \n",
    "\n",
    "print(\"the dimesnion of x3 is : \" + str(x3.ndim) )\n",
    "print(\"the shape of x3 is : \" + str(x3.shape) )\n",
    "print(\"the size of x3 is : \" + str(x3.size) )\n",
    "\n",
    "# also datatype\n",
    "print(\"datetype of x3: \", x3.dtype)\n",
    "print(\"itemsize of x3: \", x3.itemsize)\n",
    "print(\"nbytes of x3: \", x3.nbytes)"
   ]
  },
  {
   "cell_type": "code",
   "execution_count": 13,
   "id": "8c7190eb",
   "metadata": {},
   "outputs": [
    {
     "name": "stdout",
     "output_type": "stream",
     "text": [
      "[0 1 2 3 4 5 6 7 8 9]\n",
      "[0 1 2 3 4]\n",
      "[5 6 7 8 9]\n",
      "[3 4]\n",
      "[0 2 4 6 8]\n",
      "[1 3 5 7 9]\n",
      "[9 8 7 6 5 4 3 2 1 0]\n",
      "[6 4 2 0]\n"
     ]
    }
   ],
   "source": [
    "# slice the array\n",
    "x = np.arange(10) #create array from 0 bis 9\n",
    "print(x)\n",
    "print(x[:5])\n",
    "print(x[5:])\n",
    "print(x[3:5]) # 左边不包括，右边包括\n",
    "print(x[::2])# 每隔一个\n",
    "print(x[1::2])# 从索引1开始每隔两\n",
    "print(x[::-1])# 倒数\n",
    "print(x[6::-2])# 从6开始倒数每隔2"
   ]
  },
  {
   "cell_type": "code",
   "execution_count": 22,
   "id": "568ef724",
   "metadata": {},
   "outputs": [
    {
     "name": "stdout",
     "output_type": "stream",
     "text": [
      "[[3 5 2 4 7 6]\n",
      " [8 8 1 6 7 7]\n",
      " [8 1 5 9 8 9]\n",
      " [4 3 0 3 5 0]\n",
      " [2 3 8 1 3 3]\n",
      " [3 7 0 1 9 9]]\n",
      "-------------\n",
      "[[3 5 2]\n",
      " [8 8 1]]\n",
      "-------------\n",
      "[[3 2 7]\n",
      " [8 1 7]\n",
      " [8 5 8]\n",
      " [4 0 5]\n",
      " [2 8 3]\n",
      " [3 0 9]]\n",
      "-------------\n",
      "[[2 3 8 1 3 3]\n",
      " [8 1 5 9 8 9]\n",
      " [3 5 2 4 7 6]]\n"
     ]
    }
   ],
   "source": [
    "# slice multi-dimension array\n",
    "print(x2)\n",
    "print(\"-------------\")\n",
    "print(x2[:2,:3])# 前两row, 前三col\n",
    "print(\"-------------\")\n",
    "print(x2[:,::2]) # all row, every 2 col\n",
    "print(\"-------------\")\n",
    "print(x2[4::-2,:]) # from index4 row reverse every2 row, all col"
   ]
  },
  {
   "cell_type": "code",
   "execution_count": null,
   "id": "ddc694e8",
   "metadata": {},
   "outputs": [],
   "source": []
  }
 ],
 "metadata": {
  "kernelspec": {
   "display_name": "Python 3 (ipykernel)",
   "language": "python",
   "name": "python3"
  },
  "language_info": {
   "codemirror_mode": {
    "name": "ipython",
    "version": 3
   },
   "file_extension": ".py",
   "mimetype": "text/x-python",
   "name": "python",
   "nbconvert_exporter": "python",
   "pygments_lexer": "ipython3",
   "version": "3.9.13"
  }
 },
 "nbformat": 4,
 "nbformat_minor": 5
}
