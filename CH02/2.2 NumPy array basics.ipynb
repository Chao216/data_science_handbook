{
 "cells": [
  {
   "cell_type": "code",
   "execution_count": 2,
   "id": "42cf86aa",
   "metadata": {},
   "outputs": [
    {
     "name": "stdout",
     "output_type": "stream",
     "text": [
      "array1 ---------------------------------\n",
      "[5 0 3 3 7 9]\n",
      "array2 ---------------------------------\n",
      "[[3 5 2 4 7 6]\n",
      " [8 8 1 6 7 7]\n",
      " [8 1 5 9 8 9]\n",
      " [4 3 0 3 5 0]\n",
      " [2 3 8 1 3 3]\n",
      " [3 7 0 1 9 9]]\n",
      "array3 ---------------------------------\n",
      "[[[0 4 7 3 2 7]\n",
      "  [2 0 0 4 5 5]\n",
      "  [6 8 4 1 4 9]\n",
      "  [8 1 1 7 9 9]\n",
      "  [3 6 7 2 0 3]\n",
      "  [5 9 4 4 6 4]]\n",
      "\n",
      " [[4 3 4 4 8 4]\n",
      "  [3 7 5 5 0 1]\n",
      "  [5 9 3 0 5 0]\n",
      "  [1 2 4 2 0 3]\n",
      "  [2 0 7 5 9 0]\n",
      "  [2 7 2 9 2 3]]\n",
      "\n",
      " [[3 2 3 4 1 2]\n",
      "  [9 1 4 6 8 2]\n",
      "  [3 0 0 6 0 6]\n",
      "  [3 3 8 8 8 2]\n",
      "  [3 2 0 8 8 3]\n",
      "  [8 2 8 4 3 0]]\n",
      "\n",
      " [[4 3 6 9 8 0]\n",
      "  [8 5 9 0 9 6]\n",
      "  [5 3 1 8 0 4]\n",
      "  [9 6 5 7 8 8]\n",
      "  [9 2 8 6 6 9]\n",
      "  [1 6 8 8 3 2]]\n",
      "\n",
      " [[3 6 3 6 5 7]\n",
      "  [0 8 4 6 5 8]\n",
      "  [2 3 9 7 5 3]\n",
      "  [4 5 3 3 7 9]\n",
      "  [9 9 7 3 2 3]\n",
      "  [9 7 7 5 1 2]]\n",
      "\n",
      " [[2 8 1 5 8 4]\n",
      "  [0 2 5 5 0 8]\n",
      "  [1 1 0 3 8 8]\n",
      "  [4 4 0 9 3 7]\n",
      "  [3 2 1 1 2 1]\n",
      "  [4 2 5 5 5 2]]]\n",
      "the dimesnion of x3 is : 3\n",
      "the shape of x3 is : (6, 6, 6)\n",
      "the size of x3 is : 216\n",
      "datetype of x3:  int32\n",
      "itemsize of x3:  4\n",
      "nbytes of x3:  864\n"
     ]
    }
   ],
   "source": [
    "# np array properties\n",
    "\n",
    "import numpy as np\n",
    "np.random.seed(0)\n",
    "print(\"array1 ---------------------------------\")\n",
    "x1 = np.random.randint(10, size=6)\n",
    "print(x1)\n",
    "print(\"array2 ---------------------------------\")\n",
    "x2 = np.random.randint(10, size=(6,6))\n",
    "print(x2)\n",
    "print(\"array3 ---------------------------------\")\n",
    "x3 = np.random.randint(10, size=(6,6,6))\n",
    "print(x3)\n",
    "\n",
    "# ndim dimension, shape, and size \n",
    "\n",
    "print(\"the dimesnion of x3 is : \" + str(x3.ndim) )\n",
    "print(\"the shape of x3 is : \" + str(x3.shape) )\n",
    "print(\"the size of x3 is : \" + str(x3.size) )\n",
    "\n",
    "# also datatype\n",
    "print(\"datetype of x3: \", x3.dtype)\n",
    "print(\"itemsize of x3: \", x3.itemsize)\n",
    "print(\"nbytes of x3: \", x3.nbytes)"
   ]
  },
  {
   "cell_type": "code",
   "execution_count": 13,
   "id": "8c7190eb",
   "metadata": {},
   "outputs": [
    {
     "name": "stdout",
     "output_type": "stream",
     "text": [
      "[0 1 2 3 4 5 6 7 8 9]\n",
      "[0 1 2 3 4]\n",
      "[5 6 7 8 9]\n",
      "[3 4]\n",
      "[0 2 4 6 8]\n",
      "[1 3 5 7 9]\n",
      "[9 8 7 6 5 4 3 2 1 0]\n",
      "[6 4 2 0]\n"
     ]
    }
   ],
   "source": [
    "# slice the array\n",
    "x = np.arange(10) #create array from 0 bis 9\n",
    "print(x)\n",
    "print(x[:5])\n",
    "print(x[5:])\n",
    "print(x[3:5]) # 左边包括，右边not包括\n",
    "print(x[::2])# 每隔一个\n",
    "print(x[1::2])# 从索引1开始每隔两\n",
    "print(x[::-1])# 倒数\n",
    "print(x[6::-2])# 从6开始倒数每隔2"
   ]
  },
  {
   "cell_type": "code",
   "execution_count": 26,
   "id": "31582d99",
   "metadata": {},
   "outputs": [
    {
     "name": "stdout",
     "output_type": "stream",
     "text": [
      "[[3 5 2 4 7 6]\n",
      " [8 8 1 6 7 7]\n",
      " [8 1 5 9 8 9]\n",
      " [4 3 0 3 5 0]\n",
      " [2 3 8 1 3 3]\n",
      " [3 7 0 1 9 9]]\n",
      "-------------\n",
      "[[3 5 2]\n",
      " [8 8 1]]\n",
      "-------------\n",
      "[[3 2 7]\n",
      " [8 1 7]\n",
      " [8 5 8]\n",
      " [4 0 5]\n",
      " [2 8 3]\n",
      " [3 0 9]]\n",
      "-------------\n",
      "[[2 3 8 1 3 3]\n",
      " [8 1 5 9 8 9]\n",
      " [3 5 2 4 7 6]]\n",
      "-------------\n",
      "x2 first row\n",
      "[3 5 2 4 7 6]\n",
      "-------------\n",
      "x2 first col\n",
      "[3 8 8 4 2 3]\n",
      "-------------\n"
     ]
    }
   ],
   "source": [
    "# slice multi-dimension array\n",
    "print(x2)\n",
    "print(\"-------------\")\n",
    "print(x2[:2,:3])# 前两row, 前三col\n",
    "print(\"-------------\")\n",
    "print(x2[:,::2]) # all row, every 2 col\n",
    "print(\"-------------\")\n",
    "print(x2[4::-2,:]) # from index4 row reverse every2 row, all col\n",
    "print(\"-------------\")\n",
    "# get single row, or col\n",
    "print(\"x2 first row\")\n",
    "print(x2[0,:])\n",
    "print(\"-------------\")\n",
    "print(\"x2 first col\")\n",
    "print(x2[:,0])\n",
    "print(\"-------------\")"
   ]
  },
  {
   "cell_type": "code",
   "execution_count": 28,
   "id": "131b5456",
   "metadata": {},
   "outputs": [
    {
     "name": "stdout",
     "output_type": "stream",
     "text": [
      "[[2 4]\n",
      " [1 6]]\n"
     ]
    }
   ],
   "source": [
    "# create a copy of array, colud be partially\n",
    "x2_sub = x2[0:2,2:4].copy()\n",
    "print(x2_sub)"
   ]
  },
  {
   "cell_type": "code",
   "execution_count": 32,
   "id": "70addbb4",
   "metadata": {},
   "outputs": [
    {
     "name": "stdout",
     "output_type": "stream",
     "text": [
      "[[[ 0  1  2]\n",
      "  [ 3  4  5]\n",
      "  [ 6  7  8]]\n",
      "\n",
      " [[ 9 10 11]\n",
      "  [12 13 14]\n",
      "  [15 16 17]]\n",
      "\n",
      " [[18 19 20]\n",
      "  [21 22 23]\n",
      "  [24 25 26]]]\n",
      "grid dim 3\n",
      "grid shape (3, 3, 3)\n",
      "grid size 27\n"
     ]
    }
   ],
   "source": [
    "# reshape of array\n",
    "grid = np.arange(27).reshape(3,3,3)\n",
    "print(grid)\n",
    "print(\"grid dim\", grid.ndim)\n",
    "print(\"grid shape\", grid.shape)\n",
    "print(\"grid size\", grid.size)"
   ]
  },
  {
   "cell_type": "code",
   "execution_count": 36,
   "id": "f3056a49",
   "metadata": {},
   "outputs": [
    {
     "name": "stdout",
     "output_type": "stream",
     "text": [
      "[1 2 3]\n",
      "---------------------------\n",
      "[[1]\n",
      " [2]\n",
      " [3]]\n",
      "---------------------------\n",
      "[[[1]\n",
      "  [2]\n",
      "  [3]]]\n",
      "---------------------------\n"
     ]
    }
   ],
   "source": [
    "# convert row array to col array, and vice versa\n",
    "\n",
    "eins = np.array([1,2,3])\n",
    "print(eins)\n",
    "print(\"---------------------------\")\n",
    "zwei = eins[:, np.newaxis]\n",
    "print(zwei)\n",
    "print(\"---------------------------\")\n",
    "drei = zwei[np.newaxis,:]\n",
    "print(drei)\n",
    "print(\"---------------------------\")"
   ]
  },
  {
   "cell_type": "code",
   "execution_count": 41,
   "id": "da8183a7",
   "metadata": {},
   "outputs": [
    {
     "name": "stdout",
     "output_type": "stream",
     "text": [
      "[1 2 3 4 5 6]\n",
      "-----------------------------------------------------\n",
      "[[ 1  2  3]\n",
      " [ 4  5  6]\n",
      " [ 7  8  9]\n",
      " [10 11 12]\n",
      " [13 14 15]\n",
      " [16 17 18]]\n",
      "\n",
      "-------------------------------------------------------\n",
      "[[ 1  2  3 10 11 12]\n",
      " [ 4  5  6 13 14 15]\n",
      " [ 7  8  9 16 17 18]]\n"
     ]
    }
   ],
   "source": [
    "# concatenate array\n",
    "x = np.array([1,2,3])\n",
    "y = np.array([4,5,6])\n",
    "print(np.concatenate([x,y])) # you can cat many arrays as you wish\n",
    "print(\"-----------------------------------------------------\")\n",
    "a = np.array([[1,2,3],\n",
    "              [4,5,6],\n",
    "              [7,8,9]])\n",
    "b = np.array([[10,11,12],\n",
    "              [13,14,15],\n",
    "              [16,17,18]])\n",
    "print(np.concatenate([a,b]))\n",
    "print(\"\\n-------------------------------------------------------\")\n",
    "print(np.concatenate([a,b], axis = 1))\n"
   ]
  },
  {
   "cell_type": "code",
   "execution_count": 47,
   "id": "f9a954f6",
   "metadata": {},
   "outputs": [
    {
     "name": "stdout",
     "output_type": "stream",
     "text": [
      "stack vertically\n",
      "[[1 2 3]\n",
      " [6 5 4]\n",
      " [9 8 7]]\n",
      "\n",
      "--------------------------\n",
      "[[6 5 4]\n",
      " [9 8 7]\n",
      " [1 2 3]]\n",
      "\n",
      "--------------------------\n",
      "stack horizontally\n",
      "[[11  6  5  4]\n",
      " [19  9  8  7]]\n",
      "\n",
      "--------------------------\n",
      "[[ 6  5  4 11]\n",
      " [ 9  8  7 19]]\n",
      "\n",
      "--------------------------\n"
     ]
    }
   ],
   "source": [
    "# stack array vertically and horizontally\n",
    "\n",
    "x = np.array([1,2,3])\n",
    "y = np.array([[11],\n",
    "             [19]])\n",
    "grid = np.array([[6,5,4],\n",
    "                [9,8,7]])\n",
    "print(\"stack vertically\")\n",
    "print(np.vstack([x,grid]))\n",
    "print(\"\\n--------------------------\")\n",
    "print(np.vstack([grid,x]))\n",
    "print(\"\\n--------------------------\")\n",
    "print(\"stack horizontally\")\n",
    "print(np.hstack([y,grid]))\n",
    "print(\"\\n--------------------------\")\n",
    "print(np.hstack([grid,y]))\n",
    "print(\"\\n--------------------------\")"
   ]
  },
  {
   "cell_type": "code",
   "execution_count": 56,
   "id": "437a6c06",
   "metadata": {},
   "outputs": [
    {
     "name": "stdout",
     "output_type": "stream",
     "text": [
      "[1 2]\n",
      "\n",
      "----------------------------\n",
      "[3 4 5]\n",
      "\n",
      "----------------------------\n",
      "[6 7 8 9]\n",
      "\n",
      "----------------------------\n",
      "\n",
      "\t matrix split\n",
      "----------------------------------------\n",
      "[[ 0  1  2  3]\n",
      " [ 4  5  6  7]\n",
      " [ 8  9 10 11]\n",
      " [12 13 14 15]]\n",
      "\n",
      "----------------------------\n",
      "[[0 1 2 3]\n",
      " [4 5 6 7]]\n",
      "\n",
      "----------------------------\n",
      "[[ 8  9 10 11]\n",
      " [12 13 14 15]]\n",
      "\n",
      "----------------------------\n",
      "[[ 0  1]\n",
      " [ 4  5]\n",
      " [ 8  9]\n",
      " [12 13]]\n",
      "\n",
      "----------------------------\n",
      "[[ 2  3]\n",
      " [ 6  7]\n",
      " [10 11]\n",
      " [14 15]]\n"
     ]
    }
   ],
   "source": [
    "# split an array, .split(), vsplit(), and hsplit()\n",
    "x = np.array([1,2,3,4,5,6,7,8,9])\n",
    "x1, x2, x3 = np.split(x, [2,5])\n",
    "print(x1)\n",
    "print(\"\\n----------------------------\")\n",
    "print(x2)\n",
    "print(\"\\n----------------------------\")\n",
    "print(x3)\n",
    "print(\"\\n----------------------------\")\n",
    "\n",
    "print(\"\\n\\t matrix split\\n----------------------------------------\")\n",
    "\n",
    "grid = np.arange(16).reshape(4,4)\n",
    "print(grid)\n",
    "print(\"\\n----------------------------\")\n",
    "\n",
    "upper, lower = np.vsplit(grid, [2])\n",
    "\n",
    "print(upper)\n",
    "print(\"\\n----------------------------\")\n",
    "print(lower)\n",
    "print(\"\\n----------------------------\")\n",
    "\n",
    "left, right = np.hsplit(grid, [2])\n",
    "\n",
    "print(left)\n",
    "print(\"\\n----------------------------\")\n",
    "print(right)"
   ]
  },
  {
   "cell_type": "code",
   "execution_count": null,
   "id": "5928f75e",
   "metadata": {},
   "outputs": [],
   "source": []
  }
 ],
 "metadata": {
  "kernelspec": {
   "display_name": "Python 3 (ipykernel)",
   "language": "python",
   "name": "python3"
  },
  "language_info": {
   "codemirror_mode": {
    "name": "ipython",
    "version": 3
   },
   "file_extension": ".py",
   "mimetype": "text/x-python",
   "name": "python",
   "nbconvert_exporter": "python",
   "pygments_lexer": "ipython3",
   "version": "3.9.13"
  }
 },
 "nbformat": 4,
 "nbformat_minor": 5
}
