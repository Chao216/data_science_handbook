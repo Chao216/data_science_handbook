{
 "cells": [
  {
   "cell_type": "code",
   "execution_count": 2,
   "id": "5a1028d3",
   "metadata": {},
   "outputs": [
    {
     "name": "stdout",
     "output_type": "stream",
     "text": [
      "1\n",
      "(1000000,)\n",
      "1000000\n"
     ]
    }
   ],
   "source": [
    "import numpy as np\n",
    "\n",
    "big_array = np.random.randint(1,100,size=1000000)\n",
    "print(big_array.ndim)\n",
    "print(big_array.shape)\n",
    "print(big_array.size)"
   ]
  },
  {
   "cell_type": "code",
   "execution_count": 11,
   "id": "15e4af1e",
   "metadata": {},
   "outputs": [
    {
     "name": "stdout",
     "output_type": "stream",
     "text": [
      "[0 1 2 3 4]\n",
      "\n",
      "--------------------\n",
      "x + 5: ---> [5 6 7 8 9]\n",
      "x - 5: ---> [-5 -4 -3 -2 -1]\n",
      "x * 5: ---> [ 0  5 10 15 20]\n",
      "x / 5: ---> [0.  0.2 0.4 0.6 0.8]\n",
      "x // 5: ---> [0 0 0 0 0]\n",
      "\n",
      "--------------------\n",
      "// return quotient 7//3 --> 2\n",
      "\n",
      "--------------------\n",
      "x ** 2: ---> [ 0  1  4  9 16]\n",
      "x % 2: ---> [0 1 0 1 0]\n",
      "\n",
      "--------------------\n",
      "% return remainder 7%3 --> 1\n"
     ]
    }
   ],
   "source": [
    "# unary ufunc and binary ufunc\n",
    "\n",
    "# + - * / and //\n",
    "\n",
    "x = np.arange(5)\n",
    "print(x)\n",
    "print(\"\\n--------------------\")\n",
    "\n",
    "print(\"x + 5: --->\", x+5)\n",
    "print(\"x - 5: --->\", x-5)\n",
    "print(\"x * 5: --->\", x*5)\n",
    "print(\"x / 5: --->\", x/5)\n",
    "print(\"x // 5: --->\", x//5)\n",
    "print(\"\\n--------------------\")\n",
    "print(\"// return quotient 7//3 -->\", 7//3)\n",
    "\n",
    "print(\"\\n--------------------\")\n",
    "\n",
    "print(\"x ** 2: --->\", x**2)\n",
    "print(\"x % 2: --->\", x%2)\n",
    "print(\"\\n--------------------\")\n",
    "print(\"% return remainder 7%3 -->\", 7%3)"
   ]
  },
  {
   "cell_type": "code",
   "execution_count": 12,
   "id": "a8571f8f",
   "metadata": {},
   "outputs": [
    {
     "name": "stdout",
     "output_type": "stream",
     "text": [
      "[ 1  2  3  5 10  8]\n"
     ]
    }
   ],
   "source": [
    "#absolute values with asb\n",
    "x = np.array([1,2,3,-5,-10,-8])\n",
    "print(np.abs(x))"
   ]
  },
  {
   "cell_type": "code",
   "execution_count": 15,
   "id": "3409c411",
   "metadata": {},
   "outputs": [
    {
     "name": "stdout",
     "output_type": "stream",
     "text": [
      "[0.         1.57079633 3.14159265]\n",
      "sin(theta):  ---> [0.0000000e+00 1.0000000e+00 1.2246468e-16]\n",
      "cos(theta):  ---> [ 1.000000e+00  6.123234e-17 -1.000000e+00]\n",
      "tan(theta):  ---> [ 0.00000000e+00  1.63312394e+16 -1.22464680e-16]\n",
      "[-1, 0, 1]\n",
      "arcsin(x):  ----> [-1.57079633  0.          1.57079633]\n",
      "arccos(x):  ----> [3.14159265 1.57079633 0.        ]\n",
      "arctan(x):  ----> [-0.78539816  0.          0.78539816]\n"
     ]
    }
   ],
   "source": [
    "# trigonometric function\n",
    "\n",
    "theta = np.linspace(0, np.pi, 3)\n",
    "print(theta)\n",
    "print(\"sin(theta):  --->\", np.sin(theta))\n",
    "print(\"cos(theta):  --->\", np.cos(theta))\n",
    "print(\"tan(theta):  --->\", np.tan(theta))\n",
    "\n",
    "x = [-1, 0, 1]\n",
    "print(x)\n",
    "print(\"arcsin(x):  ---->\", np.arcsin(x))\n",
    "print(\"arccos(x):  ---->\", np.arccos(x))\n",
    "print(\"arctan(x):  ---->\", np.arctan(x))"
   ]
  },
  {
   "cell_type": "code",
   "execution_count": 22,
   "id": "1d397226",
   "metadata": {},
   "outputs": [
    {
     "name": "stdout",
     "output_type": "stream",
     "text": [
      "[1 2 3 4 5]\n",
      "\n",
      "\n",
      "e to xth power [  2.71828183   7.3890561   20.08553692  54.59815003 148.4131591 ]\n",
      "\n",
      "\n",
      "2 to xth power [ 2.  4.  8. 16. 32.]\n",
      "\n",
      "\n",
      "3 to xth power [  3   9  27  81 243]\n",
      "\n",
      "\n",
      "[1 2 3 4 5]\n",
      "\n",
      "\n",
      "ln(x) [0.         0.69314718 1.09861229 1.38629436 1.60943791]\n",
      "\n",
      "\n",
      "log2(x) [0.         1.         1.5849625  2.         2.32192809]\n",
      "\n",
      "\n",
      "log10(x) [0.         0.30103    0.47712125 0.60205999 0.69897   ]\n"
     ]
    }
   ],
   "source": [
    "# exponential and logrithum\n",
    "\n",
    "x = np.array([1,2,3,4,5])\n",
    "\n",
    "print(x)\n",
    "print(\"\\n\")\n",
    "print(\"e to xth power\",np.exp(x))\n",
    "print(\"\\n\")\n",
    "print(\"2 to xth power\",np.exp2(x))\n",
    "print(\"\\n\")\n",
    "print(\"3 to xth power\",np.power(3,x))\n",
    "\n",
    "print(\"\\n\")\n",
    "print(x)\n",
    "print(\"\\n\")\n",
    "print(\"ln(x)\",np.log(x))\n",
    "print(\"\\n\")\n",
    "print(\"log2(x)\",np.log2(x))\n",
    "print(\"\\n\")\n",
    "print(\"log10(x)\",np.log10(x))"
   ]
  },
  {
   "cell_type": "code",
   "execution_count": 26,
   "id": "59d5256c",
   "metadata": {},
   "outputs": [
    {
     "name": "stdout",
     "output_type": "stream",
     "text": [
      "[ 0.  3.  6.  9. 12.]\n",
      "[ 1.  2.  4.  8. 16.]\n"
     ]
    }
   ],
   "source": [
    "# 高级通用函数\n",
    "\n",
    "# 指定输出\n",
    "x = np.arange(5)\n",
    "y = np.empty(5)\n",
    "\n",
    "np.multiply(x,3,out=y)\n",
    "print(y)\n",
    "\n",
    "z = np.empty(5)\n",
    "np.power(2,x, out=z)\n",
    "print(z)"
   ]
  },
  {
   "cell_type": "code",
   "execution_count": 32,
   "id": "14e7b977",
   "metadata": {},
   "outputs": [
    {
     "name": "stdout",
     "output_type": "stream",
     "text": [
      "add.reduce() 45\n",
      "multiply.reduce() 362880\n",
      "add.accumulate() [ 1  3  6 10 15 21 28 36 45]\n",
      "multiply.accumulate() [     1      2      6     24    120    720   5040  40320 362880]\n"
     ]
    }
   ],
   "source": [
    "# aggregation\n",
    "a = np.arange(1,10)\n",
    "\n",
    "\n",
    "print(\"add.reduce()\", np.add.reduce(a))\n",
    "print(\"multiply.reduce()\", np.multiply.reduce(a))\n",
    "print(\"add.accumulate()\", np.add.accumulate(a))\n",
    "print(\"multiply.accumulate()\", np.multiply.accumulate(a))"
   ]
  },
  {
   "cell_type": "code",
   "execution_count": 34,
   "id": "af526ccb",
   "metadata": {},
   "outputs": [
    {
     "name": "stdout",
     "output_type": "stream",
     "text": [
      "[1 2 3 4 5 6 7 8 9]\n",
      "[[ 1  2  3  4  5  6  7  8  9]\n",
      " [ 2  4  6  8 10 12 14 16 18]\n",
      " [ 3  6  9 12 15 18 21 24 27]\n",
      " [ 4  8 12 16 20 24 28 32 36]\n",
      " [ 5 10 15 20 25 30 35 40 45]\n",
      " [ 6 12 18 24 30 36 42 48 54]\n",
      " [ 7 14 21 28 35 42 49 56 63]\n",
      " [ 8 16 24 32 40 48 56 64 72]\n",
      " [ 9 18 27 36 45 54 63 72 81]]\n"
     ]
    }
   ],
   "source": [
    "# 外积 outer\n",
    "\n",
    "b = np.arange(1,10)\n",
    "print(b)\n",
    "print(np.multiply.outer(b,b))"
   ]
  },
  {
   "cell_type": "code",
   "execution_count": null,
   "id": "7d839142",
   "metadata": {},
   "outputs": [],
   "source": []
  }
 ],
 "metadata": {
  "kernelspec": {
   "display_name": "Python 3 (ipykernel)",
   "language": "python",
   "name": "python3"
  },
  "language_info": {
   "codemirror_mode": {
    "name": "ipython",
    "version": 3
   },
   "file_extension": ".py",
   "mimetype": "text/x-python",
   "name": "python",
   "nbconvert_exporter": "python",
   "pygments_lexer": "ipython3",
   "version": "3.9.13"
  }
 },
 "nbformat": 4,
 "nbformat_minor": 5
}
