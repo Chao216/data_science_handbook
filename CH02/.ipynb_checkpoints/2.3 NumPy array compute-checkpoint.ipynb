{
 "cells": [
  {
   "cell_type": "code",
   "execution_count": 2,
   "id": "72eb23e5",
   "metadata": {},
   "outputs": [
    {
     "name": "stdout",
     "output_type": "stream",
     "text": [
      "1\n",
      "(1000000,)\n",
      "1000000\n"
     ]
    }
   ],
   "source": [
    "import numpy as np\n",
    "\n",
    "big_array = np.random.randint(1,100,size=1000000)\n",
    "print(big_array.ndim)\n",
    "print(big_array.shape)\n",
    "print(big_array.size)"
   ]
  },
  {
   "cell_type": "code",
   "execution_count": 5,
   "id": "fc1ca950",
   "metadata": {},
   "outputs": [
    {
     "name": "stdout",
     "output_type": "stream",
     "text": [
      "[0 1 2 3 4]\n",
      "\n",
      "--------------------\n",
      "x + 5: ---> [5 6 7 8 9]\n",
      "x - 5: ---> [-5 -4 -3 -2 -1]\n",
      "x * 5: ---> [ 0  5 10 15 20]\n",
      "x / 5: ---> [0.  0.2 0.4 0.6 0.8]\n",
      "x // 5: ---> [0 0 0 0 0]\n"
     ]
    }
   ],
   "source": [
    "# unary ufunc and binary ufunc\n",
    "\n",
    "# + - * / and //\n",
    "\n",
    "x = np.arange(5)\n",
    "print(x)\n",
    "print(\"\\n--------------------\")\n",
    "\n",
    "print(\"x + 5: --->\", x+5)\n",
    "print(\"x - 5: --->\", x-5)\n",
    "print(\"x * 5: --->\", x*5)\n",
    "print(\"x / 5: --->\", x/5)\n",
    "print(\"x // 5: --->\", x//5)"
   ]
  },
  {
   "cell_type": "code",
   "execution_count": null,
   "id": "a1cacc42",
   "metadata": {},
   "outputs": [],
   "source": []
  }
 ],
 "metadata": {
  "kernelspec": {
   "display_name": "Python 3 (ipykernel)",
   "language": "python",
   "name": "python3"
  },
  "language_info": {
   "codemirror_mode": {
    "name": "ipython",
    "version": 3
   },
   "file_extension": ".py",
   "mimetype": "text/x-python",
   "name": "python",
   "nbconvert_exporter": "python",
   "pygments_lexer": "ipython3",
   "version": "3.9.13"
  }
 },
 "nbformat": 4,
 "nbformat_minor": 5
}
