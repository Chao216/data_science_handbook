{
 "cells": [
  {
   "cell_type": "code",
   "execution_count": 2,
   "id": "5b20434f",
   "metadata": {},
   "outputs": [
    {
     "name": "stdout",
     "output_type": "stream",
     "text": [
      "1\n",
      "(1000000,)\n",
      "1000000\n"
     ]
    }
   ],
   "source": [
    "import numpy as np\n",
    "\n",
    "big_array = np.random.randint(1,100,size=1000000)\n",
    "print(big_array.ndim)\n",
    "print(big_array.shape)\n",
    "print(big_array.size)"
   ]
  },
  {
   "cell_type": "code",
   "execution_count": 11,
   "id": "5ffce308",
   "metadata": {},
   "outputs": [
    {
     "name": "stdout",
     "output_type": "stream",
     "text": [
      "[0 1 2 3 4]\n",
      "\n",
      "--------------------\n",
      "x + 5: ---> [5 6 7 8 9]\n",
      "x - 5: ---> [-5 -4 -3 -2 -1]\n",
      "x * 5: ---> [ 0  5 10 15 20]\n",
      "x / 5: ---> [0.  0.2 0.4 0.6 0.8]\n",
      "x // 5: ---> [0 0 0 0 0]\n",
      "\n",
      "--------------------\n",
      "// return quotient 7//3 --> 2\n",
      "\n",
      "--------------------\n",
      "x ** 2: ---> [ 0  1  4  9 16]\n",
      "x % 2: ---> [0 1 0 1 0]\n",
      "\n",
      "--------------------\n",
      "% return remainder 7%3 --> 1\n"
     ]
    }
   ],
   "source": [
    "# unary ufunc and binary ufunc\n",
    "\n",
    "# + - * / and //\n",
    "\n",
    "x = np.arange(5)\n",
    "print(x)\n",
    "print(\"\\n--------------------\")\n",
    "\n",
    "print(\"x + 5: --->\", x+5)\n",
    "print(\"x - 5: --->\", x-5)\n",
    "print(\"x * 5: --->\", x*5)\n",
    "print(\"x / 5: --->\", x/5)\n",
    "print(\"x // 5: --->\", x//5)\n",
    "print(\"\\n--------------------\")\n",
    "print(\"// return quotient 7//3 -->\", 7//3)\n",
    "\n",
    "print(\"\\n--------------------\")\n",
    "\n",
    "print(\"x ** 2: --->\", x**2)\n",
    "print(\"x % 2: --->\", x%2)\n",
    "print(\"\\n--------------------\")\n",
    "print(\"% return remainder 7%3 -->\", 7%3)"
   ]
  },
  {
   "cell_type": "code",
   "execution_count": null,
   "id": "6bd5db16",
   "metadata": {},
   "outputs": [],
   "source": []
  }
 ],
 "metadata": {
  "kernelspec": {
   "display_name": "Python 3 (ipykernel)",
   "language": "python",
   "name": "python3"
  },
  "language_info": {
   "codemirror_mode": {
    "name": "ipython",
    "version": 3
   },
   "file_extension": ".py",
   "mimetype": "text/x-python",
   "name": "python",
   "nbconvert_exporter": "python",
   "pygments_lexer": "ipython3",
   "version": "3.9.13"
  }
 },
 "nbformat": 4,
 "nbformat_minor": 5
}
