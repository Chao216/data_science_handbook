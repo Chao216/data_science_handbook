{
 "cells": [
  {
   "cell_type": "code",
   "execution_count": 1,
   "id": "2975f0ce",
   "metadata": {},
   "outputs": [],
   "source": [
    "# 规则 1：如果两个数组的维度数不相同，那么小维度数组的形状将会在最左边补 1。\n",
    "\n",
    "# 规则 2：如果两个数组的形状在任何一个维度上都不匹配，那么数组的形状会沿着维度\n",
    "# 为 1 的维度扩展以匹配另外一个数组的形状。\n",
    "\n",
    "# 规则 3：如果两个数组的形状在任何一个维度上都不匹配并且没有任何一个维度等于 1，\n",
    "# 那么会引发异常。\n",
    "import numpy as np"
   ]
  },
  {
   "cell_type": "code",
   "execution_count": 10,
   "id": "91564baa",
   "metadata": {},
   "outputs": [
    {
     "name": "stdout",
     "output_type": "stream",
     "text": [
      "matrix M \n",
      "\n",
      " [[1. 1. 1.]\n",
      " [1. 1. 1.]] \n",
      "\n",
      "\n",
      " (2, 3)\n",
      "array a \n",
      "\n",
      " [0 1 2] \n",
      "\n",
      "\n",
      " (3,)\n",
      "[[1. 2. 3.]\n",
      " [1. 2. 3.]]\n"
     ]
    }
   ],
   "source": [
    "# example1\n",
    "M = np.ones((2,3))\n",
    "a = np.arange(3)\n",
    "print(\"matrix M \\n\\n\",M, \"\\n\")\n",
    "print(\"\\n\",M.shape)\n",
    "print(\"array a \\n\\n\",a, \"\\n\")\n",
    "print(\"\\n\",a.shape)\n",
    "print(M+a)"
   ]
  },
  {
   "cell_type": "code",
   "execution_count": 13,
   "id": "516022d4",
   "metadata": {},
   "outputs": [
    {
     "name": "stdout",
     "output_type": "stream",
     "text": [
      "N (3, 1)\n",
      "\n",
      " b (3,)\n",
      "\n",
      " [[0 1 2]\n",
      " [1 2 3]\n",
      " [2 3 4]]\n"
     ]
    }
   ],
   "source": [
    "# example2 \n",
    "N = np.arange(3).reshape(3,1)\n",
    "#print(N)\n",
    "b = np.arange(3)\n",
    "\n",
    "print(\"N\", N.shape)\n",
    "print(\"\\n\", \"b\", b.shape)\n",
    "\n",
    "print(\"\\n\", N+b)"
   ]
  },
  {
   "cell_type": "code",
   "execution_count": 15,
   "id": "baf346ae",
   "metadata": {},
   "outputs": [
    {
     "name": "stdout",
     "output_type": "stream",
     "text": [
      "\n",
      " [[1. 1.]\n",
      " [1. 1.]\n",
      " [1. 1.]]\n",
      "\n",
      " [0 1 2]\n"
     ]
    },
    {
     "ename": "ValueError",
     "evalue": "operands could not be broadcast together with shapes (3,2) (3,) ",
     "output_type": "error",
     "traceback": [
      "\u001b[1;31m---------------------------------------------------------------------------\u001b[0m",
      "\u001b[1;31mValueError\u001b[0m                                Traceback (most recent call last)",
      "\u001b[1;32m~\\AppData\\Local\\Temp\\ipykernel_13548\\1165613542.py\u001b[0m in \u001b[0;36m<module>\u001b[1;34m\u001b[0m\n\u001b[0;32m      5\u001b[0m \u001b[0mprint\u001b[0m\u001b[1;33m(\u001b[0m\u001b[1;34m\"\\n\"\u001b[0m\u001b[1;33m,\u001b[0m\u001b[0mc\u001b[0m\u001b[1;33m)\u001b[0m\u001b[1;33m\u001b[0m\u001b[1;33m\u001b[0m\u001b[0m\n\u001b[0;32m      6\u001b[0m \u001b[1;33m\u001b[0m\u001b[0m\n\u001b[1;32m----> 7\u001b[1;33m \u001b[0mprint\u001b[0m\u001b[1;33m(\u001b[0m\u001b[0mO\u001b[0m \u001b[1;33m+\u001b[0m \u001b[0mc\u001b[0m\u001b[1;33m)\u001b[0m\u001b[1;33m\u001b[0m\u001b[1;33m\u001b[0m\u001b[0m\n\u001b[0m",
      "\u001b[1;31mValueError\u001b[0m: operands could not be broadcast together with shapes (3,2) (3,) "
     ]
    }
   ],
   "source": [
    "# example 3 \n",
    "O = np.ones((3,2))\n",
    "c = np.arange(3)\n",
    "print(\"\\n\",O)\n",
    "print(\"\\n\",c)\n",
    "\n",
    "print(O + c)"
   ]
  },
  {
   "cell_type": "code",
   "execution_count": null,
   "id": "6dfbe70f",
   "metadata": {},
   "outputs": [],
   "source": []
  }
 ],
 "metadata": {
  "kernelspec": {
   "display_name": "Python 3 (ipykernel)",
   "language": "python",
   "name": "python3"
  },
  "language_info": {
   "codemirror_mode": {
    "name": "ipython",
    "version": 3
   },
   "file_extension": ".py",
   "mimetype": "text/x-python",
   "name": "python",
   "nbconvert_exporter": "python",
   "pygments_lexer": "ipython3",
   "version": "3.9.13"
  }
 },
 "nbformat": 4,
 "nbformat_minor": 5
}
