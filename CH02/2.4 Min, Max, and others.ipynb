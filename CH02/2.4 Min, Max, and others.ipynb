{
 "cells": [
  {
   "cell_type": "code",
   "execution_count": 1,
   "id": "35af183e",
   "metadata": {},
   "outputs": [
    {
     "name": "stdout",
     "output_type": "stream",
     "text": [
      "[0.72933891 0.13978089 0.64430918 0.8545795  0.52056979 0.51706228\n",
      " 0.07072959 0.7739028  0.46786793 0.58808168]\n",
      "5.306222554717444\n"
     ]
    }
   ],
   "source": [
    "import numpy as np\n",
    "\n",
    "#求和 sum\n",
    "x = np.random.random(10)\n",
    "print(x)\n",
    "print(np.sum(x))"
   ]
  },
  {
   "cell_type": "code",
   "execution_count": 2,
   "id": "cd0e373a",
   "metadata": {},
   "outputs": [
    {
     "name": "stdout",
     "output_type": "stream",
     "text": [
      "93.3 ms ± 9.14 ms per loop (mean ± std. dev. of 7 runs, 10 loops each)\n",
      "1.6 ms ± 12.6 µs per loop (mean ± std. dev. of 7 runs, 1000 loops each)\n"
     ]
    }
   ],
   "source": [
    "bigArray = np.random.random(1000000)\n",
    "%timeit sum(bigArray)\n",
    "%timeit np.sum(bigArray)"
   ]
  },
  {
   "cell_type": "code",
   "execution_count": 3,
   "id": "f72662fd",
   "metadata": {},
   "outputs": [
    {
     "name": "stdout",
     "output_type": "stream",
     "text": [
      "683 µs ± 58.9 µs per loop (mean ± std. dev. of 7 runs, 1000 loops each)\n",
      "69.2 ms ± 1.63 ms per loop (mean ± std. dev. of 7 runs, 10 loops each)\n",
      "723 µs ± 10 µs per loop (mean ± std. dev. of 7 runs, 1000 loops each)\n",
      "65.9 ms ± 7.76 ms per loop (mean ± std. dev. of 7 runs, 10 loops each)\n"
     ]
    }
   ],
   "source": [
    "%timeit np.max(bigArray)\n",
    "%timeit max(bigArray)\n",
    "%timeit np.min(bigArray)\n",
    "%timeit min(bigArray)"
   ]
  },
  {
   "cell_type": "code",
   "execution_count": 6,
   "id": "57b24ead",
   "metadata": {},
   "outputs": [
    {
     "name": "stdout",
     "output_type": "stream",
     "text": [
      "[[0.79258383 0.11427505 0.31880575 0.02455025 0.53515952]\n",
      " [0.16756949 0.1849343  0.72767091 0.83468707 0.52441561]\n",
      " [0.47582916 0.48711869 0.6538513  0.17286626 0.6882268 ]\n",
      " [0.96647221 0.55855303 0.82520722 0.72082725 0.59688292]\n",
      " [0.74032994 0.93943341 0.0982608  0.23882385 0.15421506]]\n",
      "12.541549696806744\n",
      "[0.16756949 0.11427505 0.0982608  0.02455025 0.15421506] [0.79258383 0.83468707 0.6882268  0.96647221 0.93943341]\n"
     ]
    }
   ],
   "source": [
    "# multi-dim aggregation\n",
    "\n",
    "m = np.random.random((5,5))\n",
    "print(m)\n",
    "m_sum = m.sum()\n",
    "print(m_sum)\n",
    "m_min = m.min(axis = 0) # you may decide axis vertical or horizontal , which returns an array back\n",
    "m_max = m.max(axis = 1)\n",
    "print(m_min, m_max)"
   ]
  },
  {
   "cell_type": "code",
   "execution_count": null,
   "id": "8c73c01e",
   "metadata": {},
   "outputs": [],
   "source": []
  }
 ],
 "metadata": {
  "kernelspec": {
   "display_name": "Python 3 (ipykernel)",
   "language": "python",
   "name": "python3"
  },
  "language_info": {
   "codemirror_mode": {
    "name": "ipython",
    "version": 3
   },
   "file_extension": ".py",
   "mimetype": "text/x-python",
   "name": "python",
   "nbconvert_exporter": "python",
   "pygments_lexer": "ipython3",
   "version": "3.9.13"
  }
 },
 "nbformat": 4,
 "nbformat_minor": 5
}
