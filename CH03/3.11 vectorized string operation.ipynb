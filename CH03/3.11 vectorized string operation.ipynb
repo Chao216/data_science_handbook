{
 "cells": [
  {
   "cell_type": "code",
   "execution_count": 5,
   "id": "9a550f47",
   "metadata": {},
   "outputs": [
    {
     "name": "stdout",
     "output_type": "stream",
     "text": [
      "['Hello', 'My', 'Dear', 'Friend']\n"
     ]
    }
   ],
   "source": [
    "import numpy as np\n",
    "import pandas as pd\n",
    "\n",
    "data = [\"HELLO\",\"MY\",\"DEAR\",\"FRIEND\"]\n",
    "new = []\n",
    "for s in data:\n",
    "    s = s.capitalize()\n",
    "    new.append(s)\n",
    "    \n",
    "print(new)"
   ]
  },
  {
   "cell_type": "code",
   "execution_count": 6,
   "id": "f093b017",
   "metadata": {},
   "outputs": [
    {
     "name": "stdout",
     "output_type": "stream",
     "text": [
      "['HELLO', 'MY', 'DEAR', 'FRIEND', None]\n"
     ]
    }
   ],
   "source": [
    "data.append(None)\n",
    "print(data)"
   ]
  },
  {
   "cell_type": "code",
   "execution_count": 7,
   "id": "38f7c694",
   "metadata": {},
   "outputs": [
    {
     "name": "stdout",
     "output_type": "stream",
     "text": [
      "0     HELLO\n",
      "1        MY\n",
      "2      DEAR\n",
      "3    FRIEND\n",
      "4      None\n",
      "dtype: object\n"
     ]
    }
   ],
   "source": [
    "ser = pd.Series(data)\n",
    "print(ser)"
   ]
  },
  {
   "cell_type": "code",
   "execution_count": 14,
   "id": "511d4bc5",
   "metadata": {},
   "outputs": [
    {
     "name": "stdout",
     "output_type": "stream",
     "text": [
      "0     Hello\n",
      "1        My\n",
      "2      Dear\n",
      "3    Friend\n",
      "4      None\n",
      "dtype: object\n",
      "\n",
      "--------------------------------------------\n",
      "\n",
      "0     hello\n",
      "1        my\n",
      "2      dear\n",
      "3    friend\n",
      "4      None\n",
      "dtype: object\n",
      "\n",
      "--------------------------------------------\n",
      "\n",
      "0     HELLO\n",
      "1        MY\n",
      "2      DEAR\n",
      "3    FRIEND\n",
      "4      None\n",
      "dtype: object\n",
      "\n",
      "--------------------------------------------\n",
      "\n",
      "0    True\n",
      "1    True\n",
      "2    True\n",
      "3    True\n",
      "4    None\n",
      "dtype: object\n",
      "\n",
      "--------------------------------------------\n",
      "\n",
      "0    5.0\n",
      "1    2.0\n",
      "2    4.0\n",
      "3    6.0\n",
      "4    NaN\n",
      "dtype: float64\n",
      "\n",
      "--------------------------------------------\n",
      "\n",
      "0    False\n",
      "1    False\n",
      "2     True\n",
      "3    False\n",
      "4     None\n",
      "dtype: object\n",
      "\n",
      "--------------------------------------------\n",
      "\n"
     ]
    }
   ],
   "source": [
    "print(ser.str.capitalize())\n",
    "print(\"\\n--------------------------------------------\\n\")\n",
    "print(ser.str.lower())\n",
    "print(\"\\n--------------------------------------------\\n\")\n",
    "print(ser.str.upper())\n",
    "print(\"\\n--------------------------------------------\\n\")\n",
    "print(ser.str.isalnum())\n",
    "print(\"\\n--------------------------------------------\\n\")\n",
    "print(ser.str.len())\n",
    "print(\"\\n--------------------------------------------\\n\")\n",
    "print(ser.str.startswith(\"D\"))\n",
    "print(\"\\n--------------------------------------------\\n\")"
   ]
  },
  {
   "cell_type": "code",
   "execution_count": 16,
   "id": "1e78c9bb",
   "metadata": {},
   "outputs": [
    {
     "name": "stdout",
     "output_type": "stream",
     "text": [
      "0       [Chao, Jiang]\n",
      "1       [Vova, Balin]\n",
      "2    [Apurva, Potdar]\n",
      "dtype: object\n"
     ]
    }
   ],
   "source": [
    "name = [\"Chao Jiang\", \"Vova Balin\", \"Apurva Potdar\"]\n",
    "names = pd.Series(name)\n",
    "print(names.str.split())"
   ]
  },
  {
   "cell_type": "code",
   "execution_count": 18,
   "id": "1858c3ff",
   "metadata": {},
   "outputs": [
    {
     "name": "stdout",
     "output_type": "stream",
     "text": [
      "0      Chao\n",
      "1      Vova\n",
      "2    Apurva\n",
      "dtype: object\n",
      "\n",
      "\n",
      "\n",
      "0     Jiang\n",
      "1     Balin\n",
      "2    Potdar\n",
      "dtype: object\n"
     ]
    }
   ],
   "source": [
    "print(names.str.split().str.get(0))\n",
    "print(\"\\n\\n\")\n",
    "print(names.str.split().str.get(1))"
   ]
  },
  {
   "cell_type": "code",
   "execution_count": 19,
   "id": "551c85e3",
   "metadata": {},
   "outputs": [
    {
     "name": "stdout",
     "output_type": "stream",
     "text": [
      "            name   info\n",
      "0     Chao Jiang  A|B|C\n",
      "1     Vova Balin    B|C\n",
      "2  Apurva Potdar  A|C|E\n"
     ]
    }
   ],
   "source": [
    "full_df = pd.DataFrame({\"name\":names,\"info\":[\"A|B|C\",\"B|C\",\"A|C|E\"]})\n",
    "print(full_df)"
   ]
  },
  {
   "cell_type": "code",
   "execution_count": 20,
   "id": "2a822cc2",
   "metadata": {},
   "outputs": [
    {
     "data": {
      "text/html": [
       "<div>\n",
       "<style scoped>\n",
       "    .dataframe tbody tr th:only-of-type {\n",
       "        vertical-align: middle;\n",
       "    }\n",
       "\n",
       "    .dataframe tbody tr th {\n",
       "        vertical-align: top;\n",
       "    }\n",
       "\n",
       "    .dataframe thead th {\n",
       "        text-align: right;\n",
       "    }\n",
       "</style>\n",
       "<table border=\"1\" class=\"dataframe\">\n",
       "  <thead>\n",
       "    <tr style=\"text-align: right;\">\n",
       "      <th></th>\n",
       "      <th>A</th>\n",
       "      <th>B</th>\n",
       "      <th>C</th>\n",
       "      <th>E</th>\n",
       "    </tr>\n",
       "  </thead>\n",
       "  <tbody>\n",
       "    <tr>\n",
       "      <th>0</th>\n",
       "      <td>1</td>\n",
       "      <td>1</td>\n",
       "      <td>1</td>\n",
       "      <td>0</td>\n",
       "    </tr>\n",
       "    <tr>\n",
       "      <th>1</th>\n",
       "      <td>0</td>\n",
       "      <td>1</td>\n",
       "      <td>1</td>\n",
       "      <td>0</td>\n",
       "    </tr>\n",
       "    <tr>\n",
       "      <th>2</th>\n",
       "      <td>1</td>\n",
       "      <td>0</td>\n",
       "      <td>1</td>\n",
       "      <td>1</td>\n",
       "    </tr>\n",
       "  </tbody>\n",
       "</table>\n",
       "</div>"
      ],
      "text/plain": [
       "   A  B  C  E\n",
       "0  1  1  1  0\n",
       "1  0  1  1  0\n",
       "2  1  0  1  1"
      ]
     },
     "execution_count": 20,
     "metadata": {},
     "output_type": "execute_result"
    }
   ],
   "source": [
    "# get dummies\n",
    "full_df[\"info\"].str.get_dummies(\"|\") # returns a matrix"
   ]
  },
  {
   "cell_type": "code",
   "execution_count": 22,
   "id": "678b3818",
   "metadata": {},
   "outputs": [
    {
     "name": "stdout",
     "output_type": "stream",
     "text": [
      "   A  B  C  D  L  M\n",
      "0  1  1  1  1  0  0\n",
      "1  1  0  1  0  1  1\n",
      "2  1  0  1  0  0  0\n"
     ]
    }
   ],
   "source": [
    "ser2 = pd.Series([\"A%B%C%D\",\"L%M%A%C\",\"A%C\"])\n",
    "print(ser2.str.get_dummies(\"%\"))"
   ]
  },
  {
   "cell_type": "code",
   "execution_count": null,
   "id": "23a54e26",
   "metadata": {},
   "outputs": [],
   "source": []
  }
 ],
 "metadata": {
  "kernelspec": {
   "display_name": "Python 3 (ipykernel)",
   "language": "python",
   "name": "python3"
  },
  "language_info": {
   "codemirror_mode": {
    "name": "ipython",
    "version": 3
   },
   "file_extension": ".py",
   "mimetype": "text/x-python",
   "name": "python",
   "nbconvert_exporter": "python",
   "pygments_lexer": "ipython3",
   "version": "3.9.13"
  }
 },
 "nbformat": 4,
 "nbformat_minor": 5
}
