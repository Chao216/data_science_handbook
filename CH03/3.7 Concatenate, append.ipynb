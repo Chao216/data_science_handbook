{
 "cells": [
  {
   "cell_type": "code",
   "execution_count": 3,
   "id": "5fb727ee",
   "metadata": {},
   "outputs": [
    {
     "name": "stdout",
     "output_type": "stream",
     "text": [
      "[1 2 3 2 3 4 3 4 5]\n"
     ]
    }
   ],
   "source": [
    "import numpy as np, pandas as pd\n",
    "\n",
    "# review numpy concatenate\n",
    "\n",
    "x = np.array([1,2,3])\n",
    "y = np.array([2,3,4])\n",
    "z = np.array([3,4,5])\n",
    "C= np.concatenate([x,y,z])\n",
    "print(C)"
   ]
  },
  {
   "cell_type": "code",
   "execution_count": 5,
   "id": "7de70e47",
   "metadata": {},
   "outputs": [
    {
     "name": "stdout",
     "output_type": "stream",
     "text": [
      "1    A\n",
      "2    B\n",
      "3    C\n",
      "4    D\n",
      "5    E\n",
      "6    F\n",
      "7    G\n",
      "8    H\n",
      "dtype: object\n"
     ]
    }
   ],
   "source": [
    "# pandas concat\n",
    "\n",
    "ser1 = pd.Series([\"A\",\"B\",\"C\",\"D\"], index=[1,2,3,4])\n",
    "ser2 = pd.Series([\"E\",\"F\",\"G\",\"H\"],index=[5,6,7,8])\n",
    "ser_cat = pd.concat([ser1,ser2])\n",
    "print(ser_cat)"
   ]
  },
  {
   "cell_type": "code",
   "execution_count": 12,
   "id": "24e00ac4",
   "metadata": {},
   "outputs": [],
   "source": [
    " def make_df(cols, ind): \n",
    "     \"\"\"一个简单的DataFrame\"\"\" \n",
    "     data = {c: [str(c) + str(i) for i in ind] \n",
    "         for c in cols} \n",
    "     return pd.DataFrame(data, ind)"
   ]
  },
  {
   "cell_type": "code",
   "execution_count": 14,
   "id": "9578aec8",
   "metadata": {},
   "outputs": [
    {
     "name": "stdout",
     "output_type": "stream",
     "text": [
      "    A   B   C\n",
      "0  A0  B0  C0\n",
      "1  A1  B1  C1\n",
      "2  A2  B2  C2\n"
     ]
    }
   ],
   "source": [
    "df1 = make_df(\"ABC\",range(3))\n",
    "print(df1)"
   ]
  },
  {
   "cell_type": "code",
   "execution_count": 22,
   "id": "8fb5a72b",
   "metadata": {},
   "outputs": [
    {
     "name": "stdout",
     "output_type": "stream",
     "text": [
      "    A   B   C\n",
      "3  A3  B3  C3\n",
      "4  A4  B4  C4\n",
      "5  A5  B5  C5\n"
     ]
    }
   ],
   "source": [
    "df2 = make_df(\"ABC\",range(3,6))\n",
    "print(df2)"
   ]
  },
  {
   "cell_type": "code",
   "execution_count": 16,
   "id": "036d8b01",
   "metadata": {},
   "outputs": [
    {
     "name": "stdout",
     "output_type": "stream",
     "text": [
      "    G   H   I\n",
      "0  G0  H0  I0\n",
      "1  G1  H1  I1\n",
      "2  G2  H2  I2\n"
     ]
    }
   ],
   "source": [
    "df3 = make_df(\"GHI\",range(3))\n",
    "print(df3)"
   ]
  },
  {
   "cell_type": "code",
   "execution_count": 20,
   "id": "5137a1f0",
   "metadata": {},
   "outputs": [
    {
     "name": "stdout",
     "output_type": "stream",
     "text": [
      "    A   B   C   G   H   I\n",
      "0  A0  B0  C0  G0  H0  I0\n",
      "1  A1  B1  C1  G1  H1  I1\n",
      "2  A2  B2  C2  G2  H2  I2\n"
     ]
    }
   ],
   "source": [
    "print(pd.concat([df1,df3],axis=1))"
   ]
  },
  {
   "cell_type": "code",
   "execution_count": 23,
   "id": "c7ffb6f5",
   "metadata": {},
   "outputs": [
    {
     "name": "stdout",
     "output_type": "stream",
     "text": [
      "    A   B   C\n",
      "0  A0  B0  C0\n",
      "1  A1  B1  C1\n",
      "2  A2  B2  C2\n",
      "3  A3  B3  C3\n",
      "4  A4  B4  C4\n",
      "5  A5  B5  C5\n"
     ]
    }
   ],
   "source": [
    "print(pd.concat([df1,df2],axis=0))"
   ]
  },
  {
   "cell_type": "code",
   "execution_count": 24,
   "id": "3c499e91",
   "metadata": {},
   "outputs": [
    {
     "name": "stdout",
     "output_type": "stream",
     "text": [
      "    A   B\n",
      "0  A0  B0\n",
      "1  A1  B1\n",
      "    A   B\n",
      "0  A2  B2\n",
      "1  A3  B3\n",
      "    A   B\n",
      "0  A0  B0\n",
      "1  A1  B1\n",
      "0  A2  B2\n",
      "1  A3  B3\n"
     ]
    }
   ],
   "source": [
    "# index kept\n",
    "x = make_df('AB', [0, 1]) \n",
    " \n",
    "y = make_df('AB', [2, 3]) \n",
    "\n",
    "y.index = x.index # 复制索引\n",
    "\n",
    "print(x); print(y); print(pd.concat([x, y])) "
   ]
  },
  {
   "cell_type": "code",
   "execution_count": 27,
   "id": "f2101581",
   "metadata": {
    "scrolled": true
   },
   "outputs": [
    {
     "name": "stdout",
     "output_type": "stream",
     "text": [
      "Indexes have overlapping values: Int64Index([0, 1], dtype='int64')\n"
     ]
    }
   ],
   "source": [
    "# check overlap of index\n",
    "\n",
    "# verify_integrity = True\n",
    "try:\n",
    "    pd.concat([x,y],verify_integrity=True)\n",
    "except ValueError as e:\n",
    "    print(e)"
   ]
  },
  {
   "cell_type": "code",
   "execution_count": 31,
   "id": "cf363876",
   "metadata": {},
   "outputs": [
    {
     "name": "stdout",
     "output_type": "stream",
     "text": [
      "    A   B\n",
      "0  A0  B0\n",
      "1  A1  B1\n",
      "2  A2  B2\n",
      "3  A3  B3\n"
     ]
    }
   ],
   "source": [
    "# ignore_index\n",
    "try:\n",
    "    print(pd.concat([x,y],ignore_index=True))\n",
    "except:\n",
    "    print(\"something goes wrong\")"
   ]
  },
  {
   "cell_type": "code",
   "execution_count": 32,
   "id": "20da21d4",
   "metadata": {},
   "outputs": [
    {
     "name": "stdout",
     "output_type": "stream",
     "text": [
      "         A   B\n",
      "Some 0  A0  B0\n",
      "     1  A1  B1\n",
      "Any  0  A2  B2\n",
      "     1  A3  B3\n"
     ]
    }
   ],
   "source": [
    "# add multi-indexing\n",
    "\n",
    "print(pd.concat([x,y],keys=[\"Some\",\"Any\"]))"
   ]
  },
  {
   "cell_type": "code",
   "execution_count": 33,
   "id": "ff3569d5",
   "metadata": {},
   "outputs": [
    {
     "name": "stdout",
     "output_type": "stream",
     "text": [
      "     A   B   C    D\n",
      "1   A1  B1  C1  NaN\n",
      "2   A2  B2  C2  NaN\n",
      "3  NaN  B3  C3   D3\n",
      "4  NaN  B4  C4   D4\n"
     ]
    }
   ],
   "source": [
    "# Join Alike\n",
    "\n",
    "df5 = make_df('ABC', [1, 2]) \n",
    "df6 = make_df('BCD', [3, 4]) \n",
    "print(pd.concat([df5,df6]))"
   ]
  },
  {
   "cell_type": "code",
   "execution_count": 34,
   "id": "5a523ab4",
   "metadata": {},
   "outputs": [
    {
     "name": "stdout",
     "output_type": "stream",
     "text": [
      "    B   C\n",
      "1  B1  C1\n",
      "2  B2  C2\n",
      "3  B3  C3\n",
      "4  B4  C4\n"
     ]
    }
   ],
   "source": [
    "# add join type\n",
    "print(pd.concat([df5,df6], join=\"inner\"))"
   ]
  },
  {
   "cell_type": "code",
   "execution_count": 38,
   "id": "93fcfb82",
   "metadata": {},
   "outputs": [
    {
     "name": "stdout",
     "output_type": "stream",
     "text": [
      "     A   B   C\n",
      "0   A1  B1  C1\n",
      "1   A2  B2  C2\n",
      "2  NaN  B3  C3\n",
      "3  NaN  B4  C4\n"
     ]
    }
   ],
   "source": [
    "# something like left, right join\n",
    "\n",
    "print(pd.concat([df5,df6.reindex(columns = df5.columns)],ignore_index=True))"
   ]
  },
  {
   "cell_type": "code",
   "execution_count": 40,
   "id": "4fc9eaa7",
   "metadata": {},
   "outputs": [
    {
     "name": "stdout",
     "output_type": "stream",
     "text": [
      "    B   C    D\n",
      "0  B1  C1  NaN\n",
      "1  B2  C2  NaN\n",
      "2  B3  C3   D3\n",
      "3  B4  C4   D4\n"
     ]
    }
   ],
   "source": [
    "# something like left, right join\n",
    "\n",
    "print(pd.concat([df5.reindex(columns=df6.columns),df6],ignore_index=True))"
   ]
  },
  {
   "cell_type": "code",
   "execution_count": 41,
   "id": "399ea44a",
   "metadata": {},
   "outputs": [
    {
     "name": "stdout",
     "output_type": "stream",
     "text": [
      "    A   B   C\n",
      "0  A0  B0  C0\n",
      "1  A1  B1  C1\n",
      "2  A2  B2  C2 \n",
      "\n",
      "    A   B   C\n",
      "3  A3  B3  C3\n",
      "4  A4  B4  C4\n",
      "5  A5  B5  C5 \n",
      "\n",
      "    A   B   C\n",
      "0  A0  B0  C0\n",
      "1  A1  B1  C1\n",
      "2  A2  B2  C2\n",
      "3  A3  B3  C3\n",
      "4  A4  B4  C4\n",
      "5  A5  B5  C5 \n",
      "\n"
     ]
    },
    {
     "name": "stderr",
     "output_type": "stream",
     "text": [
      "C:\\Users\\chaoc\\AppData\\Local\\Temp\\ipykernel_1456\\3774267411.py:5: FutureWarning: The frame.append method is deprecated and will be removed from pandas in a future version. Use pandas.concat instead.\n",
      "  print(df1.append(df2),\"\\n\")\n"
     ]
    }
   ],
   "source": [
    "#append\n",
    "\n",
    "print(df1,\"\\n\")\n",
    "print(df2,\"\\n\")\n",
    "print(df1.append(df2),\"\\n\")"
   ]
  },
  {
   "cell_type": "code",
   "execution_count": null,
   "id": "7e66d931",
   "metadata": {},
   "outputs": [],
   "source": []
  }
 ],
 "metadata": {
  "kernelspec": {
   "display_name": "Python 3 (ipykernel)",
   "language": "python",
   "name": "python3"
  },
  "language_info": {
   "codemirror_mode": {
    "name": "ipython",
    "version": 3
   },
   "file_extension": ".py",
   "mimetype": "text/x-python",
   "name": "python",
   "nbconvert_exporter": "python",
   "pygments_lexer": "ipython3",
   "version": "3.9.13"
  }
 },
 "nbformat": 4,
 "nbformat_minor": 5
}
