{
 "cells": [
  {
   "cell_type": "code",
   "execution_count": 3,
   "id": "713d8dd4",
   "metadata": {},
   "outputs": [
    {
     "name": "stdout",
     "output_type": "stream",
     "text": [
      "[1 2 3 2 3 4 3 4 5]\n"
     ]
    }
   ],
   "source": [
    "import numpy as np, pandas as pd\n",
    "\n",
    "# review numpy concatenate\n",
    "\n",
    "x = np.array([1,2,3])\n",
    "y = np.array([2,3,4])\n",
    "z = np.array([3,4,5])\n",
    "C= np.concatenate([x,y,z])\n",
    "print(C)"
   ]
  },
  {
   "cell_type": "code",
   "execution_count": 5,
   "id": "26084375",
   "metadata": {},
   "outputs": [
    {
     "name": "stdout",
     "output_type": "stream",
     "text": [
      "1    A\n",
      "2    B\n",
      "3    C\n",
      "4    D\n",
      "5    E\n",
      "6    F\n",
      "7    G\n",
      "8    H\n",
      "dtype: object\n"
     ]
    }
   ],
   "source": [
    "# pandas concat\n",
    "\n",
    "ser1 = pd.Series([\"A\",\"B\",\"C\",\"D\"], index=[1,2,3,4])\n",
    "ser2 = pd.Series([\"E\",\"F\",\"G\",\"H\"],index=[5,6,7,8])\n",
    "ser_cat = pd.concat([ser1,ser2])\n",
    "print(ser_cat)"
   ]
  },
  {
   "cell_type": "code",
   "execution_count": 12,
   "id": "7a9e1c6c",
   "metadata": {},
   "outputs": [],
   "source": [
    " def make_df(cols, ind): \n",
    "     \"\"\"一个简单的DataFrame\"\"\" \n",
    "     data = {c: [str(c) + str(i) for i in ind] \n",
    "         for c in cols} \n",
    "     return pd.DataFrame(data, ind)"
   ]
  },
  {
   "cell_type": "code",
   "execution_count": 14,
   "id": "b2a247b8",
   "metadata": {},
   "outputs": [
    {
     "name": "stdout",
     "output_type": "stream",
     "text": [
      "    A   B   C\n",
      "0  A0  B0  C0\n",
      "1  A1  B1  C1\n",
      "2  A2  B2  C2\n"
     ]
    }
   ],
   "source": [
    "df1 = make_df(\"ABC\",range(3))\n",
    "print(df1)"
   ]
  },
  {
   "cell_type": "code",
   "execution_count": 22,
   "id": "887798b4",
   "metadata": {},
   "outputs": [
    {
     "name": "stdout",
     "output_type": "stream",
     "text": [
      "    A   B   C\n",
      "3  A3  B3  C3\n",
      "4  A4  B4  C4\n",
      "5  A5  B5  C5\n"
     ]
    }
   ],
   "source": [
    "df2 = make_df(\"ABC\",range(3,6))\n",
    "print(df2)"
   ]
  },
  {
   "cell_type": "code",
   "execution_count": 16,
   "id": "3807e89a",
   "metadata": {},
   "outputs": [
    {
     "name": "stdout",
     "output_type": "stream",
     "text": [
      "    G   H   I\n",
      "0  G0  H0  I0\n",
      "1  G1  H1  I1\n",
      "2  G2  H2  I2\n"
     ]
    }
   ],
   "source": [
    "df3 = make_df(\"GHI\",range(3))\n",
    "print(df3)"
   ]
  },
  {
   "cell_type": "code",
   "execution_count": 20,
   "id": "d922e6ee",
   "metadata": {},
   "outputs": [
    {
     "name": "stdout",
     "output_type": "stream",
     "text": [
      "    A   B   C   G   H   I\n",
      "0  A0  B0  C0  G0  H0  I0\n",
      "1  A1  B1  C1  G1  H1  I1\n",
      "2  A2  B2  C2  G2  H2  I2\n"
     ]
    }
   ],
   "source": [
    "print(pd.concat([df1,df3],axis=1))"
   ]
  },
  {
   "cell_type": "code",
   "execution_count": 23,
   "id": "ec7720f5",
   "metadata": {},
   "outputs": [
    {
     "name": "stdout",
     "output_type": "stream",
     "text": [
      "    A   B   C\n",
      "0  A0  B0  C0\n",
      "1  A1  B1  C1\n",
      "2  A2  B2  C2\n",
      "3  A3  B3  C3\n",
      "4  A4  B4  C4\n",
      "5  A5  B5  C5\n"
     ]
    }
   ],
   "source": [
    "print(pd.concat([df1,df2],axis=0))"
   ]
  },
  {
   "cell_type": "code",
   "execution_count": null,
   "id": "ecabde36",
   "metadata": {},
   "outputs": [],
   "source": []
  }
 ],
 "metadata": {
  "kernelspec": {
   "display_name": "Python 3 (ipykernel)",
   "language": "python",
   "name": "python3"
  },
  "language_info": {
   "codemirror_mode": {
    "name": "ipython",
    "version": 3
   },
   "file_extension": ".py",
   "mimetype": "text/x-python",
   "name": "python",
   "nbconvert_exporter": "python",
   "pygments_lexer": "ipython3",
   "version": "3.9.13"
  }
 },
 "nbformat": 4,
 "nbformat_minor": 5
}
