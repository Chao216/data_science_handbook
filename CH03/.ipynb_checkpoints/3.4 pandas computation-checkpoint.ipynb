{
 "cells": [
  {
   "cell_type": "code",
   "execution_count": 3,
   "id": "1528cb84",
   "metadata": {},
   "outputs": [
    {
     "name": "stdout",
     "output_type": "stream",
     "text": [
      "0    6\n",
      "1    3\n",
      "2    7\n",
      "3    4\n",
      "dtype: int32\n",
      "\n",
      "    A   B  V  T\n",
      "0  7  10  3  7\n",
      "1  8   5  4  8\n",
      "2  8   3  6  5\n",
      "3  2   8  6  2\n"
     ]
    }
   ],
   "source": [
    "import numpy as np, pandas as pd\n",
    "rng =np.random.RandomState(42)\n",
    "ser = pd.Series(rng.randint(0,10,4))\n",
    "print(ser)\n",
    "\n",
    "df = pd.DataFrame(rng.randint(1,11,(4,4)), columns=[\"A\",\"B\",\"V\",\"T\"])\n",
    "print(\"\\n\",df)"
   ]
  },
  {
   "cell_type": "code",
   "execution_count": 7,
   "id": "c0e9fae0",
   "metadata": {},
   "outputs": [
    {
     "name": "stdout",
     "output_type": "stream",
     "text": [
      "0     64.0\n",
      "1      8.0\n",
      "2    128.0\n",
      "3     16.0\n",
      "dtype: float64\n",
      "\n",
      "\n",
      " <class 'pandas.core.series.Series'>\n"
     ]
    }
   ],
   "source": [
    "print(np.exp2(ser))\n",
    "\n",
    "print(\"\\n\\n\",type(np.exp2(ser)))"
   ]
  },
  {
   "cell_type": "code",
   "execution_count": 8,
   "id": "a5cc4756",
   "metadata": {},
   "outputs": [
    {
     "name": "stdout",
     "output_type": "stream",
     "text": [
      "     A    B    V    T\n",
      "0  0.5 -0.5 -1.0  0.5\n",
      "1 -0.5  0.5 -0.5 -0.5\n",
      "2 -0.5 -1.0  1.0  0.5\n",
      "3 -0.5 -0.5  1.0 -0.5\n"
     ]
    }
   ],
   "source": [
    "print(np.cos(df*np.pi/3))"
   ]
  },
  {
   "cell_type": "code",
   "execution_count": 9,
   "id": "a51f2eb5",
   "metadata": {},
   "outputs": [
    {
     "name": "stdout",
     "output_type": "stream",
     "text": [
      "Alaska              NaN\n",
      "California    90.413926\n",
      "New York            NaN\n",
      "Texas         38.018740\n",
      "dtype: float64\n"
     ]
    }
   ],
   "source": [
    "area = pd.Series({'Alaska': 1723337, 'Texas': 695662, \n",
    " 'California': 423967}, name='area') \n",
    "population = pd.Series({'California': 38332521, 'Texas': 26448193, \n",
    " 'New York': 19651127}, name='population')\n",
    "\n",
    "print(population/area)"
   ]
  },
  {
   "cell_type": "code",
   "execution_count": 10,
   "id": "118cf940",
   "metadata": {},
   "outputs": [
    {
     "name": "stdout",
     "output_type": "stream",
     "text": [
      "                 area  population\n",
      "Alaska      1723337.0         NaN\n",
      "California   423967.0  38332521.0\n",
      "New York          NaN  19651127.0\n",
      "Texas        695662.0  26448193.0\n"
     ]
    }
   ],
   "source": [
    "df = pd.DataFrame({\"area\":area,\"population\":population})\n",
    "print(df)"
   ]
  },
  {
   "cell_type": "code",
   "execution_count": 14,
   "id": "287d7296",
   "metadata": {},
   "outputs": [
    {
     "name": "stdout",
     "output_type": "stream",
     "text": [
      "Index(['Alaska', 'California', 'New York', 'Texas'], dtype='object')\n",
      "Index(['Texas', 'California'], dtype='object')\n",
      "Index(['Alaska', 'New York'], dtype='object')\n"
     ]
    }
   ],
   "source": [
    "print(area.index.union(population.index))\n",
    "print(area.index.intersection(population.index))\n",
    "print(area.index.symmetric_difference(population.index))"
   ]
  },
  {
   "cell_type": "code",
   "execution_count": 15,
   "id": "87c07db3",
   "metadata": {},
   "outputs": [
    {
     "name": "stdout",
     "output_type": "stream",
     "text": [
      "CMCC    10086\n",
      "CUCC    10010\n",
      "CTCC    10000\n",
      "dtype: int64\n"
     ]
    }
   ],
   "source": [
    "A = pd.Series([10086,10010,10000],index=[\"CMCC\",\"CUCC\",\"CTCC\"])\n",
    "print(A)"
   ]
  },
  {
   "cell_type": "code",
   "execution_count": 16,
   "id": "e15c5981",
   "metadata": {},
   "outputs": [
    {
     "name": "stdout",
     "output_type": "stream",
     "text": [
      "CMCC    10\n",
      "CTCC    20\n",
      "CUCC    30\n",
      "CBCC    40\n",
      "dtype: int64\n"
     ]
    }
   ],
   "source": [
    "B = pd.Series([10,20,30,40], index=[\"CMCC\",\"CTCC\",\"CUCC\",\"CBCC\"])\n",
    "print(B)"
   ]
  },
  {
   "cell_type": "code",
   "execution_count": 17,
   "id": "20884b86",
   "metadata": {},
   "outputs": [
    {
     "name": "stdout",
     "output_type": "stream",
     "text": [
      "CBCC        NaN\n",
      "CMCC    10096.0\n",
      "CTCC    10020.0\n",
      "CUCC    10040.0\n",
      "dtype: float64\n"
     ]
    }
   ],
   "source": [
    "print(A + B)"
   ]
  },
  {
   "cell_type": "code",
   "execution_count": 18,
   "id": "35e74818",
   "metadata": {},
   "outputs": [
    {
     "name": "stdout",
     "output_type": "stream",
     "text": [
      "CBCC        NaN\n",
      "CMCC    10096.0\n",
      "CTCC    10020.0\n",
      "CUCC    10040.0\n",
      "dtype: float64\n"
     ]
    }
   ],
   "source": [
    "print(B + A)"
   ]
  },
  {
   "cell_type": "code",
   "execution_count": 19,
   "id": "cfc48ae1",
   "metadata": {},
   "outputs": [
    {
     "data": {
      "text/plain": [
       "CBCC      733.0\n",
       "CMCC    10096.0\n",
       "CTCC    10020.0\n",
       "CUCC    10040.0\n",
       "dtype: float64"
      ]
     },
     "execution_count": 19,
     "metadata": {},
     "output_type": "execute_result"
    }
   ],
   "source": [
    "# 自定义缺失值\n",
    "A.add(B, fill_value=693)"
   ]
  },
  {
   "cell_type": "code",
   "execution_count": 23,
   "id": "c5101c6f",
   "metadata": {},
   "outputs": [
    {
     "name": "stdout",
     "output_type": "stream",
     "text": [
      "   A  B\n",
      "0  4  6\n",
      "1  2  2\n",
      "\n",
      " ------------------------ \n",
      "\n",
      "    B   C   E   F\n",
      "0  19  13  17  16\n",
      "1  18  17  14  11\n",
      "2  14  17  19  18\n",
      "\n",
      " ------------------------ \n",
      "\n",
      "    A     B   C   E   F\n",
      "0 NaN  25.0 NaN NaN NaN\n",
      "1 NaN  20.0 NaN NaN NaN\n",
      "2 NaN   NaN NaN NaN NaN\n"
     ]
    }
   ],
   "source": [
    "M1 = pd.DataFrame(rng.randint(1,10,(2,2)), columns = list(\"AB\"))\n",
    "print(M1)\n",
    "print(\"\\n\",\"------------------------\",\"\\n\")\n",
    "M2 = pd.DataFrame(rng.randint(10,21,(3,4)), columns = list(\"BCEF\"))\n",
    "print(M2)\n",
    "print(\"\\n\",\"------------------------\",\"\\n\")\n",
    "print(M1 + M2)"
   ]
  },
  {
   "cell_type": "code",
   "execution_count": 29,
   "id": "06077bfe",
   "metadata": {},
   "outputs": [
    {
     "name": "stdout",
     "output_type": "stream",
     "text": [
      "3.5\n",
      "           A          B          C          E          F\n",
      "0  20.083333  25.000000  29.083333  33.083333  32.083333\n",
      "1  18.083333  20.000000  33.083333  30.083333  27.083333\n",
      "2        NaN  30.083333  33.083333  35.083333  34.083333\n"
     ]
    }
   ],
   "source": [
    "print(M1.stack().mean())\n",
    "print(M1.add(M2, fill_value=M2.stack().mean()))"
   ]
  },
  {
   "cell_type": "code",
   "execution_count": 33,
   "id": "700dd9e8",
   "metadata": {},
   "outputs": [
    {
     "name": "stdout",
     "output_type": "stream",
     "text": [
      "[[ 5  6  4 10]\n",
      " [ 7  9  7  1]\n",
      " [ 1  9  9  4]\n",
      " [ 9  3  7  6]\n",
      " [ 8  9  5  1]]\n",
      "\n",
      " ------------------------ \n",
      "\n",
      "[[ 0  0  0  0]\n",
      " [ 2  3  3 -9]\n",
      " [-4  3  5 -6]\n",
      " [ 4 -3  3 -4]\n",
      " [ 3  3  1 -9]]\n"
     ]
    }
   ],
   "source": [
    "# dataframe 与 series 运算\n",
    "\n",
    "A= rng.randint(1,11,(5,4))\n",
    "print(A)\n",
    "print(\"\\n\",\"------------------------\",\"\\n\")\n",
    "\n",
    "print(A-A[0]) #matrix A minus first row for all other rows"
   ]
  },
  {
   "cell_type": "code",
   "execution_count": 40,
   "id": "ce46efd3",
   "metadata": {},
   "outputs": [
    {
     "name": "stdout",
     "output_type": "stream",
     "text": [
      "   Q  R  S   T\n",
      "0  5  6  4  10\n",
      "1  7  9  7   1\n",
      "2  1  9  9   4\n",
      "3  9  3  7   6\n",
      "4  8  9  5   1\n",
      "\n",
      "----------------------------\n",
      "\n",
      "   Q  R  S  T\n",
      "0  0  0  0  0\n",
      "1  2  3  3 -9\n",
      "2 -4  3  5 -6\n",
      "3  4 -3  3 -4\n",
      "4  3  3  1 -9\n",
      "\n",
      "----------------------------\n",
      "\n"
     ]
    }
   ],
   "source": [
    "dfA = pd.DataFrame(A, columns=list(\"QRST\"))\n",
    "print(dfA)\n",
    "\n",
    "print(\"\\n----------------------------\\n\")\n",
    "print(dfA-dfA.iloc[0])\n",
    "print(\"\\n----------------------------\\n\")\n"
   ]
  },
  {
   "cell_type": "code",
   "execution_count": 43,
   "id": "f82a9f94",
   "metadata": {},
   "outputs": [
    {
     "data": {
      "text/html": [
       "<div>\n",
       "<style scoped>\n",
       "    .dataframe tbody tr th:only-of-type {\n",
       "        vertical-align: middle;\n",
       "    }\n",
       "\n",
       "    .dataframe tbody tr th {\n",
       "        vertical-align: top;\n",
       "    }\n",
       "\n",
       "    .dataframe thead th {\n",
       "        text-align: right;\n",
       "    }\n",
       "</style>\n",
       "<table border=\"1\" class=\"dataframe\">\n",
       "  <thead>\n",
       "    <tr style=\"text-align: right;\">\n",
       "      <th></th>\n",
       "      <th>Q</th>\n",
       "      <th>R</th>\n",
       "      <th>S</th>\n",
       "      <th>T</th>\n",
       "    </tr>\n",
       "  </thead>\n",
       "  <tbody>\n",
       "    <tr>\n",
       "      <th>0</th>\n",
       "      <td>1</td>\n",
       "      <td>2</td>\n",
       "      <td>0</td>\n",
       "      <td>6</td>\n",
       "    </tr>\n",
       "    <tr>\n",
       "      <th>1</th>\n",
       "      <td>0</td>\n",
       "      <td>2</td>\n",
       "      <td>0</td>\n",
       "      <td>-6</td>\n",
       "    </tr>\n",
       "    <tr>\n",
       "      <th>2</th>\n",
       "      <td>-8</td>\n",
       "      <td>0</td>\n",
       "      <td>0</td>\n",
       "      <td>-5</td>\n",
       "    </tr>\n",
       "    <tr>\n",
       "      <th>3</th>\n",
       "      <td>2</td>\n",
       "      <td>-4</td>\n",
       "      <td>0</td>\n",
       "      <td>-1</td>\n",
       "    </tr>\n",
       "    <tr>\n",
       "      <th>4</th>\n",
       "      <td>3</td>\n",
       "      <td>4</td>\n",
       "      <td>0</td>\n",
       "      <td>-4</td>\n",
       "    </tr>\n",
       "  </tbody>\n",
       "</table>\n",
       "</div>"
      ],
      "text/plain": [
       "   Q  R  S  T\n",
       "0  1  2  0  6\n",
       "1  0  2  0 -6\n",
       "2 -8  0  0 -5\n",
       "3  2 -4  0 -1\n",
       "4  3  4  0 -4"
      ]
     },
     "execution_count": 43,
     "metadata": {},
     "output_type": "execute_result"
    }
   ],
   "source": [
    "# if you want column subtract column \n",
    "dfA.subtract(dfA[\"S\"], axis=0)"
   ]
  },
  {
   "cell_type": "code",
   "execution_count": null,
   "id": "d8c0f873",
   "metadata": {},
   "outputs": [],
   "source": []
  }
 ],
 "metadata": {
  "kernelspec": {
   "display_name": "Python 3 (ipykernel)",
   "language": "python",
   "name": "python3"
  },
  "language_info": {
   "codemirror_mode": {
    "name": "ipython",
    "version": 3
   },
   "file_extension": ".py",
   "mimetype": "text/x-python",
   "name": "python",
   "nbconvert_exporter": "python",
   "pygments_lexer": "ipython3",
   "version": "3.9.13"
  }
 },
 "nbformat": 4,
 "nbformat_minor": 5
}
