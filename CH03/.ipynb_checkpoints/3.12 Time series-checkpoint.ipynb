{
 "cells": [
  {
   "cell_type": "code",
   "execution_count": 1,
   "id": "d7139f39",
   "metadata": {},
   "outputs": [
    {
     "name": "stdout",
     "output_type": "stream",
     "text": [
      "2008-08-08 00:00:00\n"
     ]
    }
   ],
   "source": [
    "from datetime import datetime as dt\n",
    "print(dt(year=2008, month = 8,day =8))"
   ]
  },
  {
   "cell_type": "code",
   "execution_count": 2,
   "id": "3bdfcd85",
   "metadata": {},
   "outputs": [
    {
     "data": {
      "text/plain": [
       "datetime.datetime(2008, 8, 8, 0, 0)"
      ]
     },
     "execution_count": 2,
     "metadata": {},
     "output_type": "execute_result"
    }
   ],
   "source": [
    "dt(year=2008, month = 8,day =8)"
   ]
  },
  {
   "cell_type": "code",
   "execution_count": 11,
   "id": "fc3f3cb2",
   "metadata": {},
   "outputs": [],
   "source": [
    "from dateutil.parser import parse as pt\n"
   ]
  },
  {
   "cell_type": "code",
   "execution_count": 12,
   "id": "9baaa127",
   "metadata": {},
   "outputs": [
    {
     "name": "stdout",
     "output_type": "stream",
     "text": [
      "2012-11-02 00:00:00\n"
     ]
    }
   ],
   "source": [
    "print(pt(\"2nd of November, 2012\"))"
   ]
  },
  {
   "cell_type": "code",
   "execution_count": 16,
   "id": "96d42f4b",
   "metadata": {},
   "outputs": [
    {
     "name": "stdout",
     "output_type": "stream",
     "text": [
      "2009-05-03 00:00:00\n",
      "Sunday\n"
     ]
    }
   ],
   "source": [
    "date = pt(\"3rd of May, 2009\")\n",
    "print(date)\n",
    "print(date.strftime(\"%A\"))"
   ]
  },
  {
   "cell_type": "code",
   "execution_count": 18,
   "id": "73d02bde",
   "metadata": {},
   "outputs": [
    {
     "name": "stdout",
     "output_type": "stream",
     "text": [
      "2016-09-01\n",
      "<class 'numpy.ndarray'>\n"
     ]
    }
   ],
   "source": [
    "# datetime64 dtype\n",
    "\n",
    "import numpy as np\n",
    "\n",
    "date = np.array(\"2016-09-01\", dtype=\"datetime64\")\n",
    "print(date)\n",
    "print(type(date))"
   ]
  },
  {
   "cell_type": "code",
   "execution_count": 19,
   "id": "e08aad4e",
   "metadata": {},
   "outputs": [
    {
     "data": {
      "text/plain": [
       "array('2016-09-01', dtype='datetime64[D]')"
      ]
     },
     "execution_count": 19,
     "metadata": {},
     "output_type": "execute_result"
    }
   ],
   "source": [
    "date"
   ]
  },
  {
   "cell_type": "code",
   "execution_count": 20,
   "id": "7bc7814b",
   "metadata": {},
   "outputs": [
    {
     "name": "stdout",
     "output_type": "stream",
     "text": [
      "['2016-09-02' '2016-09-03' '2016-09-04' '2016-09-05' '2016-09-06'\n",
      " '2016-09-07' '2016-09-08' '2016-09-09' '2016-09-10']\n"
     ]
    }
   ],
   "source": [
    "print(date+np.arange(1,10))"
   ]
  },
  {
   "cell_type": "code",
   "execution_count": 21,
   "id": "2f850f0a",
   "metadata": {},
   "outputs": [
    {
     "name": "stdout",
     "output_type": "stream",
     "text": [
      "2016-12-10\n"
     ]
    }
   ],
   "source": [
    "print(date+100)"
   ]
  },
  {
   "cell_type": "code",
   "execution_count": 22,
   "id": "67beb5b1",
   "metadata": {},
   "outputs": [
    {
     "name": "stdout",
     "output_type": "stream",
     "text": [
      "2013-03-02 00:00:00\n"
     ]
    }
   ],
   "source": [
    "# pandas to_datetime()\n",
    "\n",
    "import pandas as pd\n",
    "\n",
    "date = pd.to_datetime(\"2nd of March, 2013\")\n",
    "print(date)"
   ]
  },
  {
   "cell_type": "code",
   "execution_count": 23,
   "id": "73872f30",
   "metadata": {},
   "outputs": [
    {
     "data": {
      "text/plain": [
       "Timestamp('2013-03-02 00:00:00')"
      ]
     },
     "execution_count": 23,
     "metadata": {},
     "output_type": "execute_result"
    }
   ],
   "source": [
    "date"
   ]
  },
  {
   "cell_type": "code",
   "execution_count": 26,
   "id": "8cafe84c",
   "metadata": {},
   "outputs": [
    {
     "name": "stdout",
     "output_type": "stream",
     "text": [
      "2013\n",
      "\n",
      "\n",
      "03\n",
      "\n",
      "\n",
      "02\n",
      "\n",
      "\n",
      "00\n",
      "\n",
      "\n",
      "00\n",
      "\n",
      "\n",
      "00\n",
      "\n",
      "\n"
     ]
    }
   ],
   "source": [
    "print(date.strftime(\"%Y\"))\n",
    "print(\"\\n\")\n",
    "print(date.strftime(\"%m\"))\n",
    "print(\"\\n\")\n",
    "print(date.strftime(\"%d\"))\n",
    "print(\"\\n\")\n",
    "print(date.strftime(\"%H\"))\n",
    "print(\"\\n\")\n",
    "print(date.strftime(\"%M\"))\n",
    "print(\"\\n\")\n",
    "print(date.strftime(\"%S\"))\n",
    "print(\"\\n\")"
   ]
  },
  {
   "cell_type": "code",
   "execution_count": 31,
   "id": "712aafce",
   "metadata": {},
   "outputs": [
    {
     "name": "stdout",
     "output_type": "stream",
     "text": [
      "Index(['2014-07-04', '2014-08-04', '2015-07-04', '2015-08-04'], dtype='object')\n",
      "object\n",
      "<class 'pandas.core.indexes.base.Index'>\n"
     ]
    }
   ],
   "source": [
    "index = pd.Index(['2014-07-04', '2014-08-04', \n",
    " '2015-07-04', '2015-08-04'])\n",
    "print(index)\n",
    "print(index.dtype)\n",
    "print(type(index))"
   ]
  },
  {
   "cell_type": "code",
   "execution_count": 32,
   "id": "01c7eed5",
   "metadata": {},
   "outputs": [
    {
     "name": "stdout",
     "output_type": "stream",
     "text": [
      "2014-07-04     693\n",
      "2014-08-04    1024\n",
      "2015-07-04     999\n",
      "2015-08-04     123\n",
      "dtype: int64\n"
     ]
    }
   ],
   "source": [
    "ser = pd.Series([693,1024,999,123], index=index)\n",
    "print(ser)"
   ]
  },
  {
   "cell_type": "code",
   "execution_count": 33,
   "id": "a42def54",
   "metadata": {},
   "outputs": [
    {
     "data": {
      "text/plain": [
       "2014-07-04     693\n",
       "2014-08-04    1024\n",
       "2015-07-04     999\n",
       "2015-08-04     123\n",
       "dtype: int64"
      ]
     },
     "execution_count": 33,
     "metadata": {},
     "output_type": "execute_result"
    }
   ],
   "source": [
    "ser"
   ]
  },
  {
   "cell_type": "code",
   "execution_count": 37,
   "id": "a5ae7dac",
   "metadata": {},
   "outputs": [
    {
     "name": "stdout",
     "output_type": "stream",
     "text": [
      "            pressure\n",
      "time                \n",
      "2014-07-04       693\n",
      "2014-08-04      1024\n",
      "2015-07-04       999\n",
      "2015-08-04       123\n"
     ]
    }
   ],
   "source": [
    "df = pd.DataFrame(ser, columns=[\"pressure\"])\n",
    "df.index.names=[\"time\"]\n",
    "print(df)"
   ]
  },
  {
   "cell_type": "code",
   "execution_count": 40,
   "id": "708aed2d",
   "metadata": {},
   "outputs": [
    {
     "name": "stdout",
     "output_type": "stream",
     "text": [
      "DatetimeIndex(['2008-01-01', '2008-01-02', '2008-01-03', '2008-01-04',\n",
      "               '2008-01-05', '2008-01-06', '2008-01-07', '2008-01-08',\n",
      "               '2008-01-09', '2008-01-10',\n",
      "               ...\n",
      "               '2019-08-31', '2019-09-01', '2019-09-02', '2019-09-03',\n",
      "               '2019-09-04', '2019-09-05', '2019-09-06', '2019-09-07',\n",
      "               '2019-09-08', '2019-09-09'],\n",
      "              dtype='datetime64[ns]', length=4270, freq='D')\n"
     ]
    }
   ],
   "source": [
    "# 有规律的时间序列\n",
    "# 起始日期\n",
    "print(pd.date_range(\"2008-01-01\",\"2019-09-09\"))"
   ]
  },
  {
   "cell_type": "code",
   "execution_count": 44,
   "id": "ffc1eeae",
   "metadata": {},
   "outputs": [
    {
     "name": "stdout",
     "output_type": "stream",
     "text": [
      "DatetimeIndex(['2019-08-21', '2019-08-22', '2019-08-23', '2019-08-24',\n",
      "               '2019-08-25', '2019-08-26', '2019-08-27', '2019-08-28',\n",
      "               '2019-08-29', '2019-08-30',\n",
      "               ...\n",
      "               '2022-09-14', '2022-09-15', '2022-09-16', '2022-09-17',\n",
      "               '2022-09-18', '2022-09-19', '2022-09-20', '2022-09-21',\n",
      "               '2022-09-22', '2022-09-23'],\n",
      "              dtype='datetime64[ns]', length=1130, freq='D')\n"
     ]
    }
   ],
   "source": [
    "# date_range periods\n",
    "print(pd.date_range(\"2019-08-21\", periods = 1130))"
   ]
  },
  {
   "cell_type": "code",
   "execution_count": 61,
   "id": "1376afb7",
   "metadata": {},
   "outputs": [
    {
     "name": "stdout",
     "output_type": "stream",
     "text": [
      "                High       Low      Open     Close       Volume  Adj Close\n",
      "Date                                                                      \n",
      "2004-08-19  2.591785  2.390042  2.490664  2.499133  897427216.0   2.499133\n",
      "2004-08-20  2.716817  2.503118  2.515820  2.697639  458857488.0   2.697639\n",
      "2004-08-23  2.826406  2.716070  2.758411  2.724787  366857939.0   2.724787\n",
      "2004-08-24  2.779581  2.579581  2.770615  2.611960  306396159.0   2.611960\n",
      "2004-08-25  2.689918  2.587302  2.614201  2.640104  184645512.0   2.640104\n",
      "\n",
      "------------------\n",
      "\n",
      "Date\n",
      "2004-08-19    2.499133\n",
      "2004-08-20    2.697639\n",
      "2004-08-23    2.724787\n",
      "2004-08-24    2.611960\n",
      "2004-08-25    2.640104\n",
      "Name: Close, dtype: float64\n"
     ]
    }
   ],
   "source": [
    "from pandas_datareader import data\n",
    "goog = data.DataReader(\"GOOG\", start=\"2004\",end=\"2016\",data_source=\"yahoo\")\n",
    "print(goog.head())\n",
    "print(\"\\n------------------\\n\")\n",
    "goog = goog[\"Close\"]\n",
    "print(goog.head())"
   ]
  },
  {
   "cell_type": "code",
   "execution_count": 63,
   "id": "1ea1403b",
   "metadata": {
    "scrolled": true
   },
   "outputs": [
    {
     "data": {
      "text/plain": [
       "<AxesSubplot:xlabel='Date'>"
      ]
     },
     "execution_count": 63,
     "metadata": {},
     "output_type": "execute_result"
    },
    {
     "data": {
      "image/png": "[encoded data removed]",
      "text/plain": [
       "<Figure size 640x480 with 1 Axes>"
      ]
     },
     "metadata": {},
     "output_type": "display_data"
    }
   ],
   "source": [
    "%matplotlib inline\n",
    "import matplotlib.pyplot as plt\n",
    "import seaborn; seaborn.set()\n",
    "goog.plot()"
   ]
  },
  {
   "cell_type": "code",
   "execution_count": 64,
   "id": "98628777",
   "metadata": {},
   "outputs": [
    {
     "data": {
      "image/png": "[encoded data removed]",
      "text/plain": [
       "<Figure size 640x480 with 1 Axes>"
      ]
     },
     "metadata": {},
     "output_type": "display_data"
    }
   ],
   "source": [
    "goog.plot(alpha=0.5, style='-') \n",
    "goog.resample('BA').mean().plot(style=':') \n",
    "goog.asfreq('BA').plot(style='--'); \n",
    "plt.legend(['input', 'resample', 'asfreq'], \n",
    " loc='upper left');"
   ]
  },
  {
   "cell_type": "code",
   "execution_count": null,
   "id": "e1eb8ecd",
   "metadata": {},
   "outputs": [],
   "source": []
  }
 ],
 "metadata": {
  "kernelspec": {
   "display_name": "Python 3 (ipykernel)",
   "language": "python",
   "name": "python3"
  },
  "language_info": {
   "codemirror_mode": {
    "name": "ipython",
    "version": 3
   },
   "file_extension": ".py",
   "mimetype": "text/x-python",
   "name": "python",
   "nbconvert_exporter": "python",
   "pygments_lexer": "ipython3",
   "version": "3.9.13"
  }
 },
 "nbformat": 4,
 "nbformat_minor": 5
}
