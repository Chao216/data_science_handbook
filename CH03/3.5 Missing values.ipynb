{
 "cells": [
  {
   "cell_type": "code",
   "execution_count": 1,
   "id": "0fe301de",
   "metadata": {},
   "outputs": [],
   "source": [
    "import numpy as np, pandas as pd\n"
   ]
  },
  {
   "cell_type": "code",
   "execution_count": 6,
   "id": "1cc1fa1c",
   "metadata": {},
   "outputs": [
    {
     "name": "stdout",
     "output_type": "stream",
     "text": [
      "[1 3 None 5]\n",
      "<class 'numpy.ndarray'>\n"
     ]
    },
    {
     "ename": "TypeError",
     "evalue": "unsupported operand type(s) for +: 'int' and 'NoneType'",
     "output_type": "error",
     "traceback": [
      "\u001b[1;31m---------------------------------------------------------------------------\u001b[0m",
      "\u001b[1;31mTypeError\u001b[0m                                 Traceback (most recent call last)",
      "\u001b[1;32m~\\AppData\\Local\\Temp\\ipykernel_13516\\1289388069.py\u001b[0m in \u001b[0;36m<module>\u001b[1;34m\u001b[0m\n\u001b[0;32m      4\u001b[0m \u001b[0mprint\u001b[0m\u001b[1;33m(\u001b[0m\u001b[0ma\u001b[0m\u001b[1;33m)\u001b[0m\u001b[1;33m\u001b[0m\u001b[1;33m\u001b[0m\u001b[0m\n\u001b[0;32m      5\u001b[0m \u001b[0mprint\u001b[0m\u001b[1;33m(\u001b[0m\u001b[0mtype\u001b[0m\u001b[1;33m(\u001b[0m\u001b[0ma\u001b[0m\u001b[1;33m)\u001b[0m\u001b[1;33m)\u001b[0m\u001b[1;33m\u001b[0m\u001b[1;33m\u001b[0m\u001b[0m\n\u001b[1;32m----> 6\u001b[1;33m \u001b[0mprint\u001b[0m\u001b[1;33m(\u001b[0m\u001b[0ma\u001b[0m\u001b[1;33m.\u001b[0m\u001b[0msum\u001b[0m\u001b[1;33m(\u001b[0m\u001b[1;33m)\u001b[0m\u001b[1;33m)\u001b[0m\u001b[1;33m\u001b[0m\u001b[1;33m\u001b[0m\u001b[0m\n\u001b[0m",
      "\u001b[1;32m~\\anaconda3\\lib\\site-packages\\numpy\\core\\_methods.py\u001b[0m in \u001b[0;36m_sum\u001b[1;34m(a, axis, dtype, out, keepdims, initial, where)\u001b[0m\n\u001b[0;32m     46\u001b[0m def _sum(a, axis=None, dtype=None, out=None, keepdims=False,\n\u001b[0;32m     47\u001b[0m          initial=_NoValue, where=True):\n\u001b[1;32m---> 48\u001b[1;33m     \u001b[1;32mreturn\u001b[0m \u001b[0mumr_sum\u001b[0m\u001b[1;33m(\u001b[0m\u001b[0ma\u001b[0m\u001b[1;33m,\u001b[0m \u001b[0maxis\u001b[0m\u001b[1;33m,\u001b[0m \u001b[0mdtype\u001b[0m\u001b[1;33m,\u001b[0m \u001b[0mout\u001b[0m\u001b[1;33m,\u001b[0m \u001b[0mkeepdims\u001b[0m\u001b[1;33m,\u001b[0m \u001b[0minitial\u001b[0m\u001b[1;33m,\u001b[0m \u001b[0mwhere\u001b[0m\u001b[1;33m)\u001b[0m\u001b[1;33m\u001b[0m\u001b[1;33m\u001b[0m\u001b[0m\n\u001b[0m\u001b[0;32m     49\u001b[0m \u001b[1;33m\u001b[0m\u001b[0m\n\u001b[0;32m     50\u001b[0m def _prod(a, axis=None, dtype=None, out=None, keepdims=False,\n",
      "\u001b[1;31mTypeError\u001b[0m: unsupported operand type(s) for +: 'int' and 'NoneType'"
     ]
    }
   ],
   "source": [
    "# None\n",
    "\n",
    "a = np.array([1,3,None,5])\n",
    "print(a)\n",
    "print(type(a))\n",
    "print(a.sum())"
   ]
  },
  {
   "cell_type": "code",
   "execution_count": 11,
   "id": "4d1da8fc",
   "metadata": {},
   "outputs": [
    {
     "name": "stdout",
     "output_type": "stream",
     "text": [
      "[  1.   3.   5.  nan 693.]\n",
      "float64\n",
      "nan\n",
      "nan\n"
     ]
    }
   ],
   "source": [
    "# NaN, not a number\n",
    "vals2 = np.array([1,3,5, np.nan, 693])\n",
    "print(vals2)\n",
    "print(vals2.dtype)\n",
    "print(vals2.sum())\n",
    "print(vals2.max())"
   ]
  },
  {
   "cell_type": "code",
   "execution_count": 15,
   "id": "a3c66fc4",
   "metadata": {},
   "outputs": [
    {
     "name": "stdout",
     "output_type": "stream",
     "text": [
      "702.0\n",
      "693.0\n",
      "1.0\n"
     ]
    }
   ],
   "source": [
    "# toignore nan \n",
    "print(np.nansum(vals2))\n",
    "print(np.nanmax(vals2))\n",
    "print(np.nanmin(vals2))"
   ]
  },
  {
   "cell_type": "code",
   "execution_count": 16,
   "id": "cb1f4e31",
   "metadata": {},
   "outputs": [
    {
     "name": "stdout",
     "output_type": "stream",
     "text": [
      "0     1.0\n",
      "1     3.0\n",
      "2     NaN\n",
      "3    34.0\n",
      "4     5.0\n",
      "5     NaN\n",
      "dtype: float64\n"
     ]
    }
   ],
   "source": [
    "# pandas None and NaN\n",
    "\n",
    "ser = pd.Series([1,3,np.nan,34,5,None]) # None will be converted to NaN\n",
    "print(ser)"
   ]
  },
  {
   "cell_type": "code",
   "execution_count": 20,
   "id": "13f6110f",
   "metadata": {},
   "outputs": [
    {
     "name": "stdout",
     "output_type": "stream",
     "text": [
      "0    False\n",
      "1     True\n",
      "2    False\n",
      "3    False\n",
      "4    False\n",
      "5     True\n",
      "dtype: bool\n",
      "\n",
      "-------------------------------------------------------------------------\n",
      "\n",
      "0     True\n",
      "1    False\n",
      "2     True\n",
      "3     True\n",
      "4     True\n",
      "5    False\n",
      "dtype: bool\n",
      "\n",
      "-------------------------------------------------------------------------\n",
      "\n",
      "1   NaN\n",
      "5   NaN\n",
      "dtype: float64\n",
      "\n",
      "-------------------------------------------------------------------------\n",
      "\n",
      "0     1.0\n",
      "2     3.0\n",
      "3     4.0\n",
      "4    32.0\n",
      "dtype: float64\n"
     ]
    }
   ],
   "source": [
    "# how to deal with missing values\n",
    "\n",
    "#find missing values\n",
    "\n",
    "#isnull()\n",
    "\n",
    "data = pd.Series([1,None, 3,4,32,np.nan])\n",
    "print(data.isnull())\n",
    "print(\"\\n-------------------------------------------------------------------------\\n\")\n",
    "print(data.notnull())\n",
    "print(\"\\n-------------------------------------------------------------------------\\n\")\n",
    "print(data[data.isnull()])\n",
    "print(\"\\n-------------------------------------------------------------------------\\n\")\n",
    "print(data[data.notnull()])"
   ]
  },
  {
   "cell_type": "code",
   "execution_count": 21,
   "id": "719a7eff",
   "metadata": {},
   "outputs": [
    {
     "name": "stdout",
     "output_type": "stream",
     "text": [
      "0     1.0\n",
      "2     3.0\n",
      "3     4.0\n",
      "4    32.0\n",
      "dtype: float64\n"
     ]
    }
   ],
   "source": [
    "# remove missing values\n",
    "\n",
    "print(data.dropna())"
   ]
  },
  {
   "cell_type": "code",
   "execution_count": 42,
   "id": "82250e56",
   "metadata": {},
   "outputs": [
    {
     "name": "stdout",
     "output_type": "stream",
     "text": [
      "    A  B   C  D\n",
      "0   3  1   6  2\n",
      "1   2  4   5  5\n",
      "2  10  3  10  2\n",
      "\n",
      "-------------------------------------------------------------------------\n",
      "\n",
      "    A    B   C  D\n",
      "0   3  1.0   6  2\n",
      "1   2  NaN   5  5\n",
      "2  10  3.0  10  2\n",
      "\n",
      "-------------------------------------------------------------------------\n",
      "\n",
      "    A    B   C  D\n",
      "0   3  1.0   6  2\n",
      "2  10  3.0  10  2\n",
      "\n",
      "-------------------------------------------------------------------------\n",
      "\n",
      "    A   C  D\n",
      "0   3   6  2\n",
      "1   2   5  5\n",
      "2  10  10  2\n",
      "\n",
      "-------------------------------------------------------------------------\n",
      "\n",
      "    A    B   C  D\n",
      "0   3  1.0   6  2\n",
      "2  10  3.0  10  2\n",
      "\n",
      "-------------------------------------------------------------------------\n",
      "\n",
      "    A    B   C  D\n",
      "0   3  1.0   6  2\n",
      "1   2  NaN   5  5\n",
      "2  10  NaN  10  2\n"
     ]
    }
   ],
   "source": [
    "rng = np.random.RandomState(693)\n",
    "\n",
    "M = pd.DataFrame(rng.randint(1,11,(3,4)), columns=list(\"ABCD\"))\n",
    "print(M)\n",
    "\n",
    "print(\"\\n-------------------------------------------------------------------------\\n\")\n",
    "M.loc[1,\"B\"] = np.nan\n",
    "print(M)\n",
    "print(\"\\n-------------------------------------------------------------------------\\n\")\n",
    "print(M.dropna()) # by default, drop entire row\n",
    "print(\"\\n-------------------------------------------------------------------------\\n\")\n",
    "print(M.dropna(axis=\"columns\"))\n",
    "print(\"\\n-------------------------------------------------------------------------\\n\")\n",
    "print(M.dropna(axis=\"rows\"))\n",
    "print(\"\\n-------------------------------------------------------------------------\\n\")\n",
    "M.iloc[2,1]=np.nan\n",
    "print(M)"
   ]
  },
  {
   "cell_type": "code",
   "execution_count": 50,
   "id": "3f1c7a79",
   "metadata": {},
   "outputs": [
    {
     "name": "stdout",
     "output_type": "stream",
     "text": [
      "    A    B   C  D\n",
      "0   3  1.0   6  2\n",
      "1   2  NaN   5  5\n",
      "2  10  NaN  10  2\n",
      "\n",
      "-------------------------------------------------------------------------\n",
      "\n",
      "    A    B   C  D\n",
      "0   3  1.0   6  2\n",
      "1   2  NaN   5  5\n",
      "2  10  NaN  10  2\n",
      "\n",
      "-------------------------------------------------------------------------\n",
      "\n",
      "    A    B   C  D\n",
      "0   3  1.0   6  2\n",
      "1   2  NaN   5  5\n",
      "2  10  NaN  10  2\n",
      "\n",
      "-------------------------------------------------------------------------\n",
      "\n",
      "   A    B  C  D\n",
      "0  3  1.0  6  2\n"
     ]
    }
   ],
   "source": [
    "# how , thresh\n",
    "\n",
    "# how any,all\n",
    "# thresh how many non na values in rows or columns to reserve\n",
    "\n",
    "\n",
    "print(M.dropna(how=\"all\"))\n",
    "print(\"\\n-------------------------------------------------------------------------\\n\")\n",
    "print(M.dropna(axis=\"columns\", thresh=1))\n",
    "print(\"\\n-------------------------------------------------------------------------\\n\")\n",
    "print(M.dropna(axis=\"rows\", thresh=2))\n",
    "print(\"\\n-------------------------------------------------------------------------\\n\")\n",
    "print(M.dropna(axis=\"rows\", thresh=4))"
   ]
  },
  {
   "cell_type": "code",
   "execution_count": 61,
   "id": "b239925d",
   "metadata": {},
   "outputs": [
    {
     "name": "stdout",
     "output_type": "stream",
     "text": [
      "A       1.0\n",
      "B       2.0\n",
      "C       NaN\n",
      "D       5.0\n",
      "E     693.0\n",
      "F      21.0\n",
      "G       NaN\n",
      "H      23.0\n",
      "I       NaN\n",
      "J       NaN\n",
      "K       NaN\n",
      "L    1024.0\n",
      "dtype: float64\n",
      "\n",
      "-------------------------------------------------\n",
      "\n",
      "A       1.0\n",
      "B       2.0\n",
      "C      66.0\n",
      "D       5.0\n",
      "E     693.0\n",
      "F      21.0\n",
      "G      66.0\n",
      "H      23.0\n",
      "I      66.0\n",
      "J      66.0\n",
      "K      66.0\n",
      "L    1024.0\n",
      "dtype: float64\n",
      "\n",
      "-------------------------------------------------\n",
      "\n",
      "A       1.0\n",
      "B       2.0\n",
      "C       2.0\n",
      "D       5.0\n",
      "E     693.0\n",
      "F      21.0\n",
      "G      21.0\n",
      "H      23.0\n",
      "I      23.0\n",
      "J      23.0\n",
      "K      23.0\n",
      "L    1024.0\n",
      "dtype: float64\n",
      "\n",
      "-------------------------------------------------\n",
      "\n",
      "A       1.0\n",
      "B       2.0\n",
      "C       2.0\n",
      "D       5.0\n",
      "E     693.0\n",
      "F      21.0\n",
      "G      21.0\n",
      "H      23.0\n",
      "I      23.0\n",
      "J      23.0\n",
      "K      23.0\n",
      "L    1024.0\n",
      "dtype: float64\n",
      "\n",
      "-------------------------------------------------\n",
      "\n",
      "A       1.0\n",
      "B       2.0\n",
      "C       5.0\n",
      "D       5.0\n",
      "E     693.0\n",
      "F      21.0\n",
      "G      23.0\n",
      "H      23.0\n",
      "I    1024.0\n",
      "J    1024.0\n",
      "K    1024.0\n",
      "L    1024.0\n",
      "dtype: float64\n"
     ]
    }
   ],
   "source": [
    "# filling the missing values\n",
    "\n",
    "# fillna(number_to_fill), methods ffill forward fill, bfill backward fill\n",
    "\n",
    "ser = pd.Series([1,2,None,5,693,21,np.nan,23,None,None,np.nan,1024], index=list(\"ABCDEFGHIJKL\"))\n",
    "print(ser)\n",
    "print(\"\\n-------------------------------------------------\\n\")\n",
    "print(ser.fillna(66)) # here fill all missing values with 66\n",
    "print(\"\\n-------------------------------------------------\\n\")\n",
    "print(ser.ffill()) # forward filling , fill with previous value\n",
    "print(\"\\n-------------------------------------------------\\n\")\n",
    "print(ser.fillna(method=\"ffill\"))\n",
    "print(\"\\n-------------------------------------------------\\n\")\n",
    "print(ser.fillna(method=\"bfill\"))"
   ]
  },
  {
   "cell_type": "code",
   "execution_count": null,
   "id": "5ecea29b",
   "metadata": {},
   "outputs": [],
   "source": []
  }
 ],
 "metadata": {
  "kernelspec": {
   "display_name": "Python 3 (ipykernel)",
   "language": "python",
   "name": "python3"
  },
  "language_info": {
   "codemirror_mode": {
    "name": "ipython",
    "version": 3
   },
   "file_extension": ".py",
   "mimetype": "text/x-python",
   "name": "python",
   "nbconvert_exporter": "python",
   "pygments_lexer": "ipython3",
   "version": "3.9.13"
  }
 },
 "nbformat": 4,
 "nbformat_minor": 5
}
