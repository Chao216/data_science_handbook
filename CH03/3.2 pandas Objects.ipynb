{
 "cells": [
  {
   "cell_type": "code",
   "execution_count": 4,
   "id": "3a2d0ee2",
   "metadata": {},
   "outputs": [
    {
     "name": "stdout",
     "output_type": "stream",
     "text": [
      "Numpy:  1.21.5 \n",
      "Pandas:  1.4.4\n"
     ]
    }
   ],
   "source": [
    "import numpy as np, pandas as pd\n",
    "print(\"Numpy: \",np.__version__, \"\\nPandas: \",pd.__version__)"
   ]
  },
  {
   "cell_type": "code",
   "execution_count": 10,
   "id": "84708133",
   "metadata": {},
   "outputs": [
    {
     "name": "stdout",
     "output_type": "stream",
     "text": [
      "0    0.25\n",
      "1    0.50\n",
      "2    0.75\n",
      "3    1.00\n",
      "dtype: float64\n",
      "\n",
      " data values [0.25 0.5  0.75 1.  ]\n",
      "\n",
      " data index RangeIndex(start=0, stop=4, step=1)\n",
      "\n",
      " data[1:3]\n",
      " 1    0.50\n",
      "2    0.75\n",
      "dtype: float64\n"
     ]
    }
   ],
   "source": [
    "# Series\n",
    "data = pd.Series([0.25, 0.5, 0.75,1])\n",
    "print(data)\n",
    "\n",
    "print(\"\\n data values\", data.values)\n",
    "\n",
    "print(\"\\n data index\", data.index)\n",
    "\n",
    "print(\"\\n data[1:3]\\n\", data[1:3])"
   ]
  },
  {
   "cell_type": "code",
   "execution_count": 13,
   "id": "061bb0a7",
   "metadata": {},
   "outputs": [
    {
     "name": "stdout",
     "output_type": "stream",
     "text": [
      "a    1\n",
      "b    2\n",
      "c    3\n",
      "d    4\n",
      "e    5\n",
      "dtype: int64\n",
      "\n",
      "[1 2 3 4 5]\n",
      "\n",
      "\n",
      "Index(['a', 'b', 'c', 'd', 'e'], dtype='object')\n",
      "\n"
     ]
    }
   ],
   "source": [
    "# index as you wish\n",
    "\n",
    "data = pd.Series([1,2,3,4,5], index=[\"a\",\"b\",\"c\",\"d\",\"e\"])\n",
    "\n",
    "print(data)\n",
    "\n",
    "print(f\"\\n{data.values}\\n\")\n",
    "print(f\"\\n{data.index}\\n\")"
   ]
  },
  {
   "cell_type": "code",
   "execution_count": 21,
   "id": "7659b7a2",
   "metadata": {},
   "outputs": [
    {
     "name": "stdout",
     "output_type": "stream",
     "text": [
      "\n",
      "{'chao': 25, 'vova': 28, 'apurva': 26}\n",
      "\n",
      "\n",
      "<class 'dict'>\n",
      "\n",
      "\n",
      "chao      25\n",
      "vova      28\n",
      "apurva    26\n",
      "dtype: int64\n",
      "\n",
      "\n",
      "<class 'pandas.core.series.Series'>\n",
      "\n",
      "\n",
      " vova      28\n",
      "apurva    26\n",
      "dtype: int64 \n",
      "\n",
      "\n",
      " chao    25\n",
      "vova    28\n",
      "dtype: int64 \n",
      "\n"
     ]
    }
   ],
   "source": [
    "# python dictionary and pd series\n",
    "\n",
    "man_dict = {\"chao\":25, \"vova\":28, \"apurva\":26}\n",
    "print(f\"\\n{man_dict}\\n\")\n",
    "print(f\"\\n{type(man_dict)}\\n\")\n",
    "man_ser = pd.Series(man_dict)\n",
    "print(f\"\\n{man_ser}\\n\")\n",
    "print(f\"\\n{type(man_ser)}\\n\")\n",
    "print(\"\\n\",man_ser[\"vova\":],\"\\n\")\n",
    "print(\"\\n\",man_ser[:\"vova\"],\"\\n\")"
   ]
  },
  {
   "cell_type": "code",
   "execution_count": 30,
   "id": "31cbe31a",
   "metadata": {},
   "outputs": [
    {
     "name": "stdout",
     "output_type": "stream",
     "text": [
      "\n",
      " {'shanghai': 1021, 'beijing': 1010, 'jiaxing': 10573, 'yidong': 10086, 'liantong': 10010, 'dianxin': 10000} \n",
      "\n",
      "\n",
      " <class 'dict'> \n",
      "\n",
      "\n",
      " {'shanghai': 2000, 'beijing': 2300, 'jiaxing': 900, 'yidong': 86, 'liantong': 1001, 'dianxin': 10} \n",
      "\n",
      "\n",
      " <class 'dict'> \n",
      "\n",
      "\n",
      " shanghai     1021\n",
      "beijing      1010\n",
      "jiaxing     10573\n",
      "yidong      10086\n",
      "liantong    10010\n",
      "dianxin     10000\n",
      "dtype: int64\n",
      "\n",
      " shanghai    2000\n",
      "beijing     2300\n",
      "jiaxing      900\n",
      "yidong        86\n",
      "liantong    1001\n",
      "dianxin       10\n",
      "dtype: int64\n",
      "          area code  population guess\n",
      "shanghai       1021              2000\n",
      "beijing        1010              2300\n",
      "jiaxing       10573               900\n",
      "yidong        10086                86\n",
      "liantong      10010              1001\n",
      "dianxin       10000                10\n",
      "\n",
      "df index\n",
      "\n",
      "Index(['shanghai', 'beijing', 'jiaxing', 'yidong', 'liantong', 'dianxin'], dtype='object')\n",
      "\n",
      "df columns\n",
      "\n",
      "Index(['area code', 'population guess'], dtype='object')\n",
      "\n",
      "\n",
      "\n",
      " shanghai     1021\n",
      "beijing      1010\n",
      "jiaxing     10573\n",
      "yidong      10086\n",
      "liantong    10010\n",
      "dianxin     10000\n",
      "Name: area code, dtype: int64 \n",
      "\n",
      "\n",
      " shanghai    2000\n",
      "beijing     2300\n",
      "jiaxing      900\n",
      "yidong        86\n",
      "liantong    1001\n",
      "dianxin       10\n",
      "Name: population guess, dtype: int64 \n",
      "\n"
     ]
    }
   ],
   "source": [
    "# dataframe\n",
    "area_dict = {\"shanghai\":1021, \"beijing\":1010, \"jiaxing\":10573, \"yidong\":10086,\"liantong\":10010,\"dianxin\":10000}\n",
    "print(\"\\n\",area_dict,\"\\n\")\n",
    "print(\"\\n\",type(area_dict),\"\\n\")\n",
    "pop_dict = {\"shanghai\":2000, \"beijing\":2300, \"jiaxing\":900, \"yidong\":86,\"liantong\":1001,\"dianxin\":10}\n",
    "print(\"\\n\",pop_dict,\"\\n\")\n",
    "print(\"\\n\",type(pop_dict),\"\\n\")\n",
    "\n",
    "area=pd.Series(area_dict)\n",
    "pop = pd.Series(pop_dict)\n",
    "print(\"\\n\",area)\n",
    "print(\"\\n\",pop)\n",
    "\n",
    "cities = pd.DataFrame({\"area code\":area,\"population guess\":pop})\n",
    "print(cities)\n",
    "\n",
    "# DataFrame.index, and columns\n",
    "\n",
    "print(\"\\ndf index\\n\")\n",
    "print(cities.index)\n",
    "\n",
    "print(\"\\ndf columns\\n\")\n",
    "print(cities.columns)\n",
    "print(\"\\n\")\n",
    "\n",
    "# df is special dictionary column name is key, column values are values\n",
    "\n",
    "print(\"\\n\",cities[\"area code\"],\"\\n\")\n",
    "print(\"\\n\",cities[\"population guess\"],\"\\n\")"
   ]
  },
  {
   "cell_type": "code",
   "execution_count": 31,
   "id": "78a8ff72",
   "metadata": {},
   "outputs": [
    {
     "name": "stdout",
     "output_type": "stream",
     "text": [
      "Int64Index([2, 3, 5, 7, 11], dtype='int64')\n"
     ]
    }
   ],
   "source": [
    "# pandas  index\n",
    "# 可以看成不可变数组\n",
    "ind = pd.Index([2,3,5,7,11])\n",
    "print(ind)"
   ]
  },
  {
   "cell_type": "code",
   "execution_count": 42,
   "id": "c783ec65",
   "metadata": {},
   "outputs": [
    {
     "name": "stdout",
     "output_type": "stream",
     "text": [
      "\n",
      " replace & with intersection() \n",
      "\n",
      "Int64Index([0, 1, 2, 3, 4, 5, 6, 7, 8, 9], dtype='int64')\n",
      "\n",
      " replace | with union() \n",
      "\n",
      "Int64Index([0, 1, 2, 3, 4, 5, 6, 7, 8, 9, 10, 11, 12, 13, 14, 15, 16, 17, 18,\n",
      "            19],\n",
      "           dtype='int64')\n",
      "\n",
      " use symmetric_difference to replace ^ \n",
      "\n",
      "Int64Index([10, 11, 12, 13, 14, 15, 16, 17, 18, 19], dtype='int64')\n"
     ]
    }
   ],
   "source": [
    "# 看成有序集合\n",
    "indA = pd.Index(np.arange(10))\n",
    "indB = pd.Index(np.arange(20))\n",
    "\n",
    "print(\"\\n\",\"replace & with intersection()\",\"\\n\",)\n",
    "print(indA.intersection(indB))\n",
    "print(\"\\n\",\"replace | with union()\",\"\\n\")\n",
    "print(indA.union(indB))\n",
    "print(\"\\n\",\"use symmetric_difference to replace ^\", \"\\n\")\n",
    "print(indA.symmetric_difference(indB))\n"
   ]
  },
  {
   "cell_type": "code",
   "execution_count": null,
   "id": "d332bab5",
   "metadata": {},
   "outputs": [],
   "source": []
  }
 ],
 "metadata": {
  "kernelspec": {
   "display_name": "Python 3 (ipykernel)",
   "language": "python",
   "name": "python3"
  },
  "language_info": {
   "codemirror_mode": {
    "name": "ipython",
    "version": 3
   },
   "file_extension": ".py",
   "mimetype": "text/x-python",
   "name": "python",
   "nbconvert_exporter": "python",
   "pygments_lexer": "ipython3",
   "version": "3.9.13"
  }
 },
 "nbformat": 4,
 "nbformat_minor": 5
}
