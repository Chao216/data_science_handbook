{
 "cells": [
  {
   "cell_type": "code",
   "execution_count": 1,
   "id": "1848205b",
   "metadata": {},
   "outputs": [],
   "source": [
    "# eval() and query()\n",
    "import numpy as np, pandas as pd\n"
   ]
  },
  {
   "cell_type": "code",
   "execution_count": 5,
   "id": "7ff8c2ca",
   "metadata": {},
   "outputs": [
    {
     "name": "stdout",
     "output_type": "stream",
     "text": [
      "         0         1         2         3         4         5         6   \\\n",
      "0  0.374540  0.950714  0.731994  0.598658  0.156019  0.155995  0.058084   \n",
      "1  0.031429  0.636410  0.314356  0.508571  0.907566  0.249292  0.410383   \n",
      "2  0.642032  0.084140  0.161629  0.898554  0.606429  0.009197  0.101472   \n",
      "3  0.051682  0.531355  0.540635  0.637430  0.726091  0.975852  0.516300   \n",
      "4  0.103124  0.902553  0.505252  0.826457  0.320050  0.895523  0.389202   \n",
      "\n",
      "         7         8         9   ...        90        91        92        93  \\\n",
      "0  0.866176  0.601115  0.708073  ...  0.119594  0.713245  0.760785  0.561277   \n",
      "1  0.755551  0.228798  0.076980  ...  0.093103  0.897216  0.900418  0.633101   \n",
      "2  0.663502  0.005062  0.160808  ...  0.030500  0.037348  0.822601  0.360191   \n",
      "3  0.322956  0.795186  0.270832  ...  0.990505  0.412618  0.372018  0.776413   \n",
      "4  0.010838  0.905382  0.091287  ...  0.455657  0.620133  0.277381  0.188121   \n",
      "\n",
      "         94        95        96        97        98        99  \n",
      "0  0.770967  0.493796  0.522733  0.427541  0.025419  0.107891  \n",
      "1  0.339030  0.349210  0.725956  0.897110  0.887086  0.779876  \n",
      "2  0.127061  0.522243  0.769994  0.215821  0.622890  0.085347  \n",
      "3  0.340804  0.930757  0.858413  0.428994  0.750871  0.754543  \n",
      "4  0.463698  0.353352  0.583656  0.077735  0.974395  0.986211  \n",
      "\n",
      "[5 rows x 100 columns]\n"
     ]
    }
   ],
   "source": [
    "nrows, ncols = 100000,100\n",
    "rng = np.random.RandomState(42)\n",
    "df1,df2,df3,df4 = (pd.DataFrame(rng.rand(nrows,ncols)) for i in range(4))\n",
    "print(df1.head())"
   ]
  },
  {
   "cell_type": "code",
   "execution_count": 6,
   "id": "ced57bc8",
   "metadata": {},
   "outputs": [
    {
     "name": "stdout",
     "output_type": "stream",
     "text": [
      "77.2 ms ± 966 µs per loop (mean ± std. dev. of 7 runs, 10 loops each)\n"
     ]
    }
   ],
   "source": [
    "%timeit df1 + df2 + df3 + df4"
   ]
  },
  {
   "cell_type": "code",
   "execution_count": 7,
   "id": "b7fe1636",
   "metadata": {},
   "outputs": [
    {
     "name": "stdout",
     "output_type": "stream",
     "text": [
      "34.6 ms ± 1.88 ms per loop (mean ± std. dev. of 7 runs, 10 loops each)\n"
     ]
    }
   ],
   "source": [
    "%timeit pd.eval(\"df1 + df2 + df3 + df4\")"
   ]
  },
  {
   "cell_type": "code",
   "execution_count": 8,
   "id": "3d764d05",
   "metadata": {},
   "outputs": [
    {
     "data": {
      "text/plain": [
       "True"
      ]
     },
     "execution_count": 8,
     "metadata": {},
     "output_type": "execute_result"
    }
   ],
   "source": [
    "np.allclose((df1+df2+df3+df4),pd.eval(\"df1+df2+df3+df4\"))"
   ]
  },
  {
   "cell_type": "code",
   "execution_count": 13,
   "id": "c3bcdb36",
   "metadata": {},
   "outputs": [
    {
     "name": "stdout",
     "output_type": "stream",
     "text": [
      "1.99 ms ± 58.6 µs per loop (mean ± std. dev. of 7 runs, 100 loops each)\n"
     ]
    }
   ],
   "source": [
    "df1, df2, df3, df4, df5 = (pd.DataFrame(rng.randint(0, 1000, (100, 3))) \n",
    " for i in range(5))\n",
    "\n",
    "pd.eval(\"df1-df2/df3 +df4*df5\")\n",
    "%timeit pd.eval(\"df1-df2/df3 +df4*df5\")"
   ]
  },
  {
   "cell_type": "code",
   "execution_count": 12,
   "id": "33af8c42",
   "metadata": {},
   "outputs": [
    {
     "name": "stdout",
     "output_type": "stream",
     "text": [
      "331 µs ± 19.4 µs per loop (mean ± std. dev. of 7 runs, 1000 loops each)\n"
     ]
    }
   ],
   "source": [
    "df1-df2/df3 +df4*df5\n",
    "%timeit df1-df2/df3 +df4*df5"
   ]
  },
  {
   "cell_type": "code",
   "execution_count": 14,
   "id": "6f4b8d59",
   "metadata": {},
   "outputs": [
    {
     "name": "stdout",
     "output_type": "stream",
     "text": [
      "      0    1    2\n",
      "0   210  776  615\n",
      "1   831  792  266\n",
      "2   302  952  747\n",
      "3   186  322  610\n",
      "4   494   89  329\n",
      "..  ...  ...  ...\n",
      "95  956  312  337\n",
      "96  393  789  585\n",
      "97  764  819  261\n",
      "98  288  157  464\n",
      "99  485  875  508\n",
      "\n",
      "[100 rows x 3 columns]\n"
     ]
    }
   ],
   "source": [
    "print(df2)"
   ]
  },
  {
   "cell_type": "code",
   "execution_count": 15,
   "id": "4920d1a2",
   "metadata": {},
   "outputs": [
    {
     "data": {
      "text/plain": [
       "0    210\n",
       "1    776\n",
       "2    615\n",
       "Name: 0, dtype: int32"
      ]
     },
     "execution_count": 15,
     "metadata": {},
     "output_type": "execute_result"
    }
   ],
   "source": [
    "df2.T[0]"
   ]
  },
  {
   "cell_type": "code",
   "execution_count": 16,
   "id": "9a688373",
   "metadata": {},
   "outputs": [],
   "source": [
    "# DataFrame.eval（）\n",
    "\n",
    "df = pd.DataFrame(rng.rand(1000, 3), columns=['A', 'B', 'C']) "
   ]
  },
  {
   "cell_type": "code",
   "execution_count": 17,
   "id": "35ba1aa0",
   "metadata": {},
   "outputs": [
    {
     "data": {
      "text/html": [
       "<div>\n",
       "<style scoped>\n",
       "    .dataframe tbody tr th:only-of-type {\n",
       "        vertical-align: middle;\n",
       "    }\n",
       "\n",
       "    .dataframe tbody tr th {\n",
       "        vertical-align: top;\n",
       "    }\n",
       "\n",
       "    .dataframe thead th {\n",
       "        text-align: right;\n",
       "    }\n",
       "</style>\n",
       "<table border=\"1\" class=\"dataframe\">\n",
       "  <thead>\n",
       "    <tr style=\"text-align: right;\">\n",
       "      <th></th>\n",
       "      <th>A</th>\n",
       "      <th>B</th>\n",
       "      <th>C</th>\n",
       "    </tr>\n",
       "  </thead>\n",
       "  <tbody>\n",
       "    <tr>\n",
       "      <th>0</th>\n",
       "      <td>0.876529</td>\n",
       "      <td>0.024433</td>\n",
       "      <td>0.554679</td>\n",
       "    </tr>\n",
       "    <tr>\n",
       "      <th>1</th>\n",
       "      <td>0.158917</td>\n",
       "      <td>0.247287</td>\n",
       "      <td>0.038619</td>\n",
       "    </tr>\n",
       "    <tr>\n",
       "      <th>2</th>\n",
       "      <td>0.088836</td>\n",
       "      <td>0.763975</td>\n",
       "      <td>0.743225</td>\n",
       "    </tr>\n",
       "    <tr>\n",
       "      <th>3</th>\n",
       "      <td>0.496724</td>\n",
       "      <td>0.529605</td>\n",
       "      <td>0.286836</td>\n",
       "    </tr>\n",
       "    <tr>\n",
       "      <th>4</th>\n",
       "      <td>0.946466</td>\n",
       "      <td>0.673888</td>\n",
       "      <td>0.078722</td>\n",
       "    </tr>\n",
       "    <tr>\n",
       "      <th>...</th>\n",
       "      <td>...</td>\n",
       "      <td>...</td>\n",
       "      <td>...</td>\n",
       "    </tr>\n",
       "    <tr>\n",
       "      <th>995</th>\n",
       "      <td>0.501263</td>\n",
       "      <td>0.398217</td>\n",
       "      <td>0.778836</td>\n",
       "    </tr>\n",
       "    <tr>\n",
       "      <th>996</th>\n",
       "      <td>0.045402</td>\n",
       "      <td>0.722676</td>\n",
       "      <td>0.045683</td>\n",
       "    </tr>\n",
       "    <tr>\n",
       "      <th>997</th>\n",
       "      <td>0.412850</td>\n",
       "      <td>0.125680</td>\n",
       "      <td>0.163177</td>\n",
       "    </tr>\n",
       "    <tr>\n",
       "      <th>998</th>\n",
       "      <td>0.256159</td>\n",
       "      <td>0.570129</td>\n",
       "      <td>0.464632</td>\n",
       "    </tr>\n",
       "    <tr>\n",
       "      <th>999</th>\n",
       "      <td>0.515183</td>\n",
       "      <td>0.560789</td>\n",
       "      <td>0.321999</td>\n",
       "    </tr>\n",
       "  </tbody>\n",
       "</table>\n",
       "<p>1000 rows × 3 columns</p>\n",
       "</div>"
      ],
      "text/plain": [
       "            A         B         C\n",
       "0    0.876529  0.024433  0.554679\n",
       "1    0.158917  0.247287  0.038619\n",
       "2    0.088836  0.763975  0.743225\n",
       "3    0.496724  0.529605  0.286836\n",
       "4    0.946466  0.673888  0.078722\n",
       "..        ...       ...       ...\n",
       "995  0.501263  0.398217  0.778836\n",
       "996  0.045402  0.722676  0.045683\n",
       "997  0.412850  0.125680  0.163177\n",
       "998  0.256159  0.570129  0.464632\n",
       "999  0.515183  0.560789  0.321999\n",
       "\n",
       "[1000 rows x 3 columns]"
      ]
     },
     "execution_count": 17,
     "metadata": {},
     "output_type": "execute_result"
    }
   ],
   "source": [
    "df"
   ]
  },
  {
   "cell_type": "code",
   "execution_count": 19,
   "id": "bbf197f6",
   "metadata": {},
   "outputs": [
    {
     "name": "stdout",
     "output_type": "stream",
     "text": [
      "1.39 ms ± 67 µs per loop (mean ± std. dev. of 7 runs, 1000 loops each)\n"
     ]
    }
   ],
   "source": [
    "%timeit df.eval(\"A-C +B/1.5\")"
   ]
  },
  {
   "cell_type": "code",
   "execution_count": 23,
   "id": "238a1430",
   "metadata": {},
   "outputs": [
    {
     "name": "stdout",
     "output_type": "stream",
     "text": [
      "            A         B         C       New\n",
      "0    0.876529  0.024433  0.554679  1.490259\n",
      "1    0.158917  0.247287  0.038619  1.066428\n",
      "2    0.088836  0.763975  0.743225  1.741782\n",
      "3    0.496724  0.529605  0.286836  1.483030\n",
      "4    0.946466  0.673888  0.078722  1.693894\n",
      "..        ...       ...       ...       ...\n",
      "995  0.501263  0.398217  0.778836  1.915357\n",
      "996  0.045402  0.722676  0.045683  1.064983\n",
      "997  0.412850  0.125680  0.163177  1.171637\n",
      "998  0.256159  0.570129  0.464632  1.526009\n",
      "999  0.515183  0.560789  0.321999  1.538970\n",
      "\n",
      "[1000 rows x 4 columns]\n"
     ]
    }
   ],
   "source": [
    "# create a new column with df.eval\n",
    "\n",
    "df.eval(\"New = A*B+2**C\", inplace=True)\n",
    "print(df)"
   ]
  },
  {
   "cell_type": "code",
   "execution_count": 29,
   "id": "6c87013b",
   "metadata": {},
   "outputs": [
    {
     "name": "stdout",
     "output_type": "stream",
     "text": [
      "0      0.140054\n",
      "1     -0.218896\n",
      "2     -0.745618\n",
      "3     -0.202325\n",
      "4      0.098223\n",
      "         ...   \n",
      "995   -0.397156\n",
      "996   -0.424284\n",
      "997   -0.055486\n",
      "998   -0.448073\n",
      "999   -0.219052\n",
      "Length: 1000, dtype: float64\n"
     ]
    }
   ],
   "source": [
    "column_mean = df.mean(axis=1)\n",
    "print(df.eval(\"A-@column_mean\")) # here @column_mean is local variable"
   ]
  },
  {
   "cell_type": "code",
   "execution_count": 30,
   "id": "71ee6310",
   "metadata": {},
   "outputs": [
    {
     "name": "stdout",
     "output_type": "stream",
     "text": [
      "            A         B         C       New\n",
      "0    0.876529  0.024433  0.554679  1.490259\n",
      "1    0.158917  0.247287  0.038619  1.066428\n",
      "2    0.088836  0.763975  0.743225  1.741782\n",
      "3    0.496724  0.529605  0.286836  1.483030\n",
      "4    0.946466  0.673888  0.078722  1.693894\n",
      "..        ...       ...       ...       ...\n",
      "995  0.501263  0.398217  0.778836  1.915357\n",
      "996  0.045402  0.722676  0.045683  1.064983\n",
      "997  0.412850  0.125680  0.163177  1.171637\n",
      "998  0.256159  0.570129  0.464632  1.526009\n",
      "999  0.515183  0.560789  0.321999  1.538970\n",
      "\n",
      "[1000 rows x 4 columns]\n"
     ]
    }
   ],
   "source": [
    "print(df)"
   ]
  },
  {
   "cell_type": "code",
   "execution_count": 33,
   "id": "92b74fe2",
   "metadata": {},
   "outputs": [
    {
     "name": "stdout",
     "output_type": "stream",
     "text": [
      "            A         B         C       New\n",
      "4    0.946466  0.673888  0.078722  1.693894\n",
      "7    0.656516  0.007673  0.037735  1.031538\n",
      "10   0.526926  0.293596  0.071545  1.205545\n",
      "14   0.771922  0.084988  0.266686  1.268645\n",
      "15   0.513573  0.244810  0.000244  1.125897\n",
      "..        ...       ...       ...       ...\n",
      "984  0.626595  0.566441  0.255659  1.548810\n",
      "986  0.545638  0.534858  0.234758  1.468548\n",
      "987  0.993345  0.408831  0.429270  1.752663\n",
      "989  0.971941  0.212441  0.067530  1.254401\n",
      "999  0.515183  0.560789  0.321999  1.538970\n",
      "\n",
      "[256 rows x 4 columns]\n",
      "\n",
      "             A         B         C       New\n",
      "31   0.164931  0.862450  0.895457  2.002444\n",
      "59   0.197416  0.966331  0.035518  1.215694\n",
      "120  0.029164  0.881193  0.471609  1.412354\n",
      "152  0.063828  0.862129  0.049658  1.090047\n",
      "161  0.183623  0.803214  0.883057  1.991767\n",
      "167  0.095530  0.817117  0.412077  1.408659\n",
      "182  0.003619  0.934794  0.210851  1.160753\n",
      "184  0.119972  0.987358  0.374439  1.414791\n",
      "186  0.073639  0.814427  0.411798  1.390317\n",
      "213  0.092415  0.899109  0.025390  1.100846\n",
      "245  0.190739  0.895946  0.018254  1.183625\n",
      "260  0.106137  0.851720  0.930422  1.996233\n",
      "274  0.048338  0.868185  0.260320  1.239711\n",
      "357  0.137145  0.917718  0.835817  1.910727\n",
      "372  0.133247  0.947374  0.563320  1.603901\n",
      "386  0.026084  0.907624  0.461547  1.400692\n",
      "400  0.167580  0.979712  0.111171  1.244284\n",
      "430  0.026077  0.862833  0.782985  1.743188\n",
      "473  0.062299  0.825372  0.750397  1.733676\n",
      "489  0.095529  0.984870  0.997795  2.091030\n",
      "500  0.155218  0.930606  0.213848  1.304225\n",
      "544  0.046524  0.902019  0.360606  1.325930\n",
      "560  0.095885  0.825812  0.214814  1.239738\n",
      "595  0.078971  0.915377  0.987604  2.055177\n",
      "599  0.131798  0.867249  0.718491  1.759761\n",
      "635  0.024509  0.820197  0.106671  1.096843\n",
      "637  0.031684  0.874436  0.988051  2.011210\n",
      "697  0.099402  0.810779  0.809955  1.833750\n",
      "708  0.094610  0.910791  0.346398  1.357552\n",
      "764  0.101560  0.992974  0.170822  1.226547\n",
      "769  0.120867  0.837626  0.699566  1.725258\n",
      "783  0.182758  0.918605  0.157450  1.283197\n",
      "784  0.171237  0.941503  0.406736  1.486903\n",
      "785  0.048217  0.848776  0.614923  1.572402\n",
      "796  0.093583  0.807395  0.502996  1.492712\n",
      "822  0.172251  0.989584  0.229875  1.343190\n",
      "900  0.050948  0.856224  0.329384  1.300100\n",
      "903  0.058578  0.934591  0.326557  1.308763\n",
      "937  0.128944  0.933691  0.729759  1.778756\n",
      "967  0.059992  0.868499  0.297252  1.280905\n",
      "971  0.109036  0.977646  0.520130  1.540682\n"
     ]
    }
   ],
   "source": [
    "# dateFrame.query()\n",
    "\n",
    "print(df.query(\"A > 0.5 & C <0.5\"))\n",
    "sel = df.query(\"A<0.2 & B>0.8\")\n",
    "print(\"\\n\",sel)"
   ]
  },
  {
   "cell_type": "code",
   "execution_count": null,
   "id": "36d6dbc9",
   "metadata": {},
   "outputs": [],
   "source": []
  }
 ],
 "metadata": {
  "kernelspec": {
   "display_name": "Python 3 (ipykernel)",
   "language": "python",
   "name": "python3"
  },
  "language_info": {
   "codemirror_mode": {
    "name": "ipython",
    "version": 3
   },
   "file_extension": ".py",
   "mimetype": "text/x-python",
   "name": "python",
   "nbconvert_exporter": "python",
   "pygments_lexer": "ipython3",
   "version": "3.9.13"
  }
 },
 "nbformat": 4,
 "nbformat_minor": 5
}
