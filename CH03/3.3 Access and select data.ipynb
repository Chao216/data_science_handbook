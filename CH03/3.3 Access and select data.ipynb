{
 "cells": [
  {
   "cell_type": "code",
   "execution_count": 1,
   "metadata": {},
   "outputs": [
    {
     "name": "stdout",
     "output_type": "stream",
     "text": [
      "1.4.4 \n",
      " 1.21.5\n"
     ]
    }
   ],
   "source": [
    "import numpy as np, pandas as pd\n",
    "print(pd.__version__,\"\\n\",np.__version__)"
   ]
  },
  {
   "cell_type": "code",
   "execution_count": 2,
   "metadata": {},
   "outputs": [
    {
     "name": "stdout",
     "output_type": "stream",
     "text": [
      "a     1\n",
      "b     2\n",
      "c     3\n",
      "d    44\n",
      "e     5\n",
      "f     7\n",
      "g     9\n",
      "h     0\n",
      "dtype: int64\n",
      "\n",
      " 3 \n",
      "\n",
      "\n",
      " True \n",
      "\n",
      "\n",
      " Index(['a', 'b', 'c', 'd', 'e', 'f', 'g', 'h'], dtype='object') \n",
      "\n",
      "\n",
      " [('a', 1), ('b', 2), ('c', 3), ('d', 44), ('e', 5), ('f', 7), ('g', 9), ('h', 0)] \n",
      "\n"
     ]
    }
   ],
   "source": [
    "# Series data \n",
    "\n",
    "# see series as a dictionary\n",
    "data = pd.Series([1,2,3,44,5,7,9,0], index = [\"a\",\"b\",\"c\",\"d\",\"e\",\"f\",\"g\",\"h\"])\n",
    "print(data)\n",
    "\n",
    "print(\"\\n\",data[\"c\"], \"\\n\")\n",
    "\n",
    "print(\"\\n\",\"b\" in data, \"\\n\")\n",
    "\n",
    "print(\"\\n\",data.keys(), \"\\n\")\n",
    "print(\"\\n\",list(data.items()), \"\\n\")"
   ]
  },
  {
   "cell_type": "code",
   "execution_count": 3,
   "metadata": {},
   "outputs": [
    {
     "name": "stdout",
     "output_type": "stream",
     "text": [
      "2    a\n",
      "4    b\n",
      "6    c\n",
      "dtype: object\n",
      "\n",
      " a \n",
      "\n",
      "\n",
      " b \n",
      "\n",
      "\n",
      " c \n",
      "\n",
      "\n",
      " a \n",
      "\n",
      "\n",
      "loc will locate key.\n",
      "iloc will locate index\n",
      "\n"
     ]
    }
   ],
   "source": [
    "# 索引器\n",
    "# loc and iloc\n",
    "data = pd.Series([\"a\",\"b\",\"c\"], index = [2,4,6])\n",
    "print(data)\n",
    "print(\"\\n\",data.loc[2],\"\\n\")\n",
    "print(\"\\n\",data.loc[4],\"\\n\")\n",
    "print(\"\\n\",data.iloc[2],\"\\n\")\n",
    "print(\"\\n\",data.iloc[0],\"\\n\")\n",
    "print(\"\\nloc will locate key.\\niloc will locate index\\n\")"
   ]
  },
  {
   "cell_type": "code",
   "execution_count": 4,
   "metadata": {},
   "outputs": [
    {
     "name": "stdout",
     "output_type": "stream",
     "text": [
      "              area       pop\n",
      "California  423967  38332521\n",
      "Texas       695662  26448193\n",
      "New York    141297  19651127\n",
      "Florida     170312  19552860\n",
      "Illinois    149995  12882135\n"
     ]
    }
   ],
   "source": [
    "# DataFrame selection\n",
    "area = pd.Series({'California': 423967, 'Texas': 695662, \n",
    " 'New York': 141297, 'Florida': 170312, \n",
    " 'Illinois': 149995}) \n",
    "\n",
    "pop = pd.Series({'California': 38332521, 'Texas': 26448193, \n",
    " 'New York': 19651127, 'Florida': 19552860, \n",
    " 'Illinois': 12882135}) \n",
    "\n",
    "data = pd.DataFrame({'area':area, 'pop':pop}) \n",
    "\n",
    "print(data)"
   ]
  },
  {
   "cell_type": "code",
   "execution_count": 5,
   "metadata": {},
   "outputs": [
    {
     "name": "stdout",
     "output_type": "stream",
     "text": [
      "California    423967\n",
      "Texas         695662\n",
      "New York      141297\n",
      "Florida       170312\n",
      "Illinois      149995\n",
      "Name: area, dtype: int64\n"
     ]
    }
   ],
   "source": [
    "# see df as dictionary\n",
    "\n",
    "print(data[\"area\"])\n"
   ]
  },
  {
   "cell_type": "code",
   "execution_count": 6,
   "metadata": {},
   "outputs": [
    {
     "name": "stdout",
     "output_type": "stream",
     "text": [
      "California    423967\n",
      "Texas         695662\n",
      "New York      141297\n",
      "Florida       170312\n",
      "Illinois      149995\n",
      "Name: area, dtype: int64\n"
     ]
    }
   ],
   "source": [
    "# access as attributes\n",
    "\n",
    "print(data.area)"
   ]
  },
  {
   "cell_type": "code",
   "execution_count": 9,
   "metadata": {},
   "outputs": [
    {
     "name": "stdout",
     "output_type": "stream",
     "text": [
      "[[4.23967000e+05 3.83325210e+07 9.04139261e+01]\n",
      " [6.95662000e+05 2.64481930e+07 3.80187404e+01]\n",
      " [1.41297000e+05 1.96511270e+07 1.39076746e+02]\n",
      " [1.70312000e+05 1.95528600e+07 1.14806121e+02]\n",
      " [1.49995000e+05 1.28821350e+07 8.58837628e+01]]\n",
      "you can transpose the matrix\n",
      "\n",
      "\n",
      "            California         Texas      New York       Florida      Illinois\n",
      "area     4.239670e+05  6.956620e+05  1.412970e+05  1.703120e+05  1.499950e+05\n",
      "pop      3.833252e+07  2.644819e+07  1.965113e+07  1.955286e+07  1.288214e+07\n",
      "density  9.041393e+01  3.801874e+01  1.390767e+02  1.148061e+02  8.588376e+01 \n",
      "\n"
     ]
    }
   ],
   "source": [
    "# see it as matrix\n",
    "data['density'] = data['pop'] / data['area'] # added the third column\n",
    "\n",
    "print(data.values)\n",
    "\n",
    "print(\"you can transpose the matrix\\n\")\n",
    "print(\"\\n\",data.T,\"\\n\") # transpose the matrix "
   ]
  },
  {
   "cell_type": "code",
   "execution_count": 10,
   "metadata": {},
   "outputs": [
    {
     "name": "stdout",
     "output_type": "stream",
     "text": [
      "[4.23967000e+05 3.83325210e+07 9.04139261e+01]\n"
     ]
    }
   ],
   "source": [
    "# to access one row \n",
    "print(data.values[0])"
   ]
  },
  {
   "cell_type": "code",
   "execution_count": 11,
   "metadata": {},
   "outputs": [
    {
     "name": "stdout",
     "output_type": "stream",
     "text": [
      "California     90.413926\n",
      "Texas          38.018740\n",
      "New York      139.076746\n",
      "Florida       114.806121\n",
      "Illinois       85.883763\n",
      "Name: density, dtype: float64\n"
     ]
    }
   ],
   "source": [
    "# to access one clomun\n",
    "print(data[\"density\"])"
   ]
  },
  {
   "cell_type": "code",
   "execution_count": 18,
   "metadata": {},
   "outputs": [
    {
     "name": "stdout",
     "output_type": "stream",
     "text": [
      "              area       pop\n",
      "California  423967  38332521\n",
      "Texas       695662  26448193\n",
      "\n",
      "                pop     density\n",
      "Texas     26448193   38.018740\n",
      "New York  19651127  139.076746 \n",
      "\n"
     ]
    }
   ],
   "source": [
    "# 使用index locator iloc\n",
    "\n",
    "print(data.iloc[:2,:2]) # get 2 rows and 2 cllumns\n",
    "print(\"\\n\",data.iloc[1:3,1:3],\"\\n\")"
   ]
  },
  {
   "cell_type": "code",
   "execution_count": null,
   "metadata": {},
   "outputs": [],
   "source": []
  }
 ],
 "metadata": {
  "kernelspec": {
   "display_name": "Python 3 (ipykernel)",
   "language": "python",
   "name": "python3"
  },
  "language_info": {
   "codemirror_mode": {
    "name": "ipython",
    "version": 3
   },
   "file_extension": ".py",
   "mimetype": "text/x-python",
   "name": "python",
   "nbconvert_exporter": "python",
   "pygments_lexer": "ipython3",
   "version": "3.9.13"
  }
 },
 "nbformat": 4,
 "nbformat_minor": 4
}
