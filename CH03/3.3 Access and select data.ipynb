{
 "cells": [
  {
   "cell_type": "code",
   "execution_count": 2,
   "metadata": {},
   "outputs": [
    {
     "name": "stdout",
     "output_type": "stream",
     "text": [
      "1.1.3 \n",
      " 1.19.2\n"
     ]
    }
   ],
   "source": [
    "import numpy as np, pandas as pd\n",
    "print(pd.__version__,\"\\n\",np.__version__)"
   ]
  },
  {
   "cell_type": "code",
   "execution_count": 10,
   "metadata": {},
   "outputs": [
    {
     "name": "stdout",
     "output_type": "stream",
     "text": [
      "a     1\n",
      "b     2\n",
      "c     3\n",
      "d    44\n",
      "e     5\n",
      "f     7\n",
      "g     9\n",
      "h     0\n",
      "dtype: int64\n",
      "\n",
      " 3 \n",
      "\n",
      "\n",
      " True \n",
      "\n",
      "\n",
      " Index(['a', 'b', 'c', 'd', 'e', 'f', 'g', 'h'], dtype='object') \n",
      "\n",
      "\n",
      " [('a', 1), ('b', 2), ('c', 3), ('d', 44), ('e', 5), ('f', 7), ('g', 9), ('h', 0)] \n",
      "\n"
     ]
    }
   ],
   "source": [
    "# Series data \n",
    "\n",
    "# see series as a dictionary\n",
    "data = pd.Series([1,2,3,44,5,7,9,0], index = [\"a\",\"b\",\"c\",\"d\",\"e\",\"f\",\"g\",\"h\"])\n",
    "print(data)\n",
    "\n",
    "print(\"\\n\",data[\"c\"], \"\\n\")\n",
    "\n",
    "print(\"\\n\",\"b\" in data, \"\\n\")\n",
    "\n",
    "print(\"\\n\",data.keys(), \"\\n\")\n",
    "print(\"\\n\",list(data.items()), \"\\n\")"
   ]
  },
  {
   "cell_type": "code",
   "execution_count": null,
   "metadata": {},
   "outputs": [],
   "source": []
  }
 ],
 "metadata": {
  "kernelspec": {
   "display_name": "Python 3",
   "language": "python",
   "name": "python3"
  },
  "language_info": {
   "codemirror_mode": {
    "name": "ipython",
    "version": 3
   },
   "file_extension": ".py",
   "mimetype": "text/x-python",
   "name": "python",
   "nbconvert_exporter": "python",
   "pygments_lexer": "ipython3",
   "version": "3.8.5"
  }
 },
 "nbformat": 4,
 "nbformat_minor": 4
}
