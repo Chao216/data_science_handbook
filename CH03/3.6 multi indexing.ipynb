{
 "cells": [
  {
   "cell_type": "code",
   "execution_count": 1,
   "id": "f79d4809",
   "metadata": {},
   "outputs": [
    {
     "name": "stdout",
     "output_type": "stream",
     "text": [
      "(California, 2000)    33871648\n",
      "(California, 2010)    37253956\n",
      "(New York, 2000)      18976457\n",
      "(New York, 2010)      19378102\n",
      "(Texas, 2000)         20851820\n",
      "(Texas, 2010)         25145561\n",
      "dtype: int64\n"
     ]
    }
   ],
   "source": [
    "import numpy as np, pandas as pd\n",
    "\n",
    "index = [('California', 2000), ('California', 2010), \n",
    " ('New York', 2000), ('New York', 2010), \n",
    " ('Texas', 2000), ('Texas', 2010)] \n",
    "\n",
    "populations = [33871648, 37253956, \n",
    " 18976457, 19378102, \n",
    " 20851820, 25145561] \n",
    "pop = pd.Series(populations, index=index) \n",
    " \n",
    "print(pop) \n"
   ]
  },
  {
   "cell_type": "code",
   "execution_count": 3,
   "id": "fa39f100",
   "metadata": {},
   "outputs": [
    {
     "data": {
      "text/plain": [
       "MultiIndex([('California', 2000),\n",
       "            ('California', 2010),\n",
       "            (  'New York', 2000),\n",
       "            (  'New York', 2010),\n",
       "            (     'Texas', 2000),\n",
       "            (     'Texas', 2010)],\n",
       "           )"
      ]
     },
     "execution_count": 3,
     "metadata": {},
     "output_type": "execute_result"
    }
   ],
   "source": [
    "index = pd.MultiIndex.from_tuples(index)\n",
    "index"
   ]
  },
  {
   "cell_type": "code",
   "execution_count": 4,
   "id": "9df61259",
   "metadata": {},
   "outputs": [
    {
     "data": {
      "text/plain": [
       "California  2000    33871648\n",
       "            2010    37253956\n",
       "New York    2000    18976457\n",
       "            2010    19378102\n",
       "Texas       2000    20851820\n",
       "            2010    25145561\n",
       "dtype: int64"
      ]
     },
     "execution_count": 4,
     "metadata": {},
     "output_type": "execute_result"
    }
   ],
   "source": [
    "pop = pop.reindex(index)\n",
    "pop"
   ]
  },
  {
   "cell_type": "code",
   "execution_count": 11,
   "id": "ee189fc8",
   "metadata": {},
   "outputs": [
    {
     "name": "stdout",
     "output_type": "stream",
     "text": [
      "California    37253956\n",
      "New York      19378102\n",
      "Texas         25145561\n",
      "dtype: int64\n",
      "\n",
      "-------------------------------------\n",
      "\n",
      "2000    33871648\n",
      "2010    37253956\n",
      "dtype: int64\n"
     ]
    }
   ],
   "source": [
    "print(pop[:,2010])\n",
    "print(\"\\n-------------------------------------\\n\")\n",
    "print(pop[\"California\",])"
   ]
  },
  {
   "cell_type": "code",
   "execution_count": 12,
   "id": "72d1c020",
   "metadata": {},
   "outputs": [
    {
     "name": "stdout",
     "output_type": "stream",
     "text": [
      "                2000      2010\n",
      "California  33871648  37253956\n",
      "New York    18976457  19378102\n",
      "Texas       20851820  25145561\n"
     ]
    }
   ],
   "source": [
    "# unstack and stack\n",
    "\n",
    "pop_df = pop.unstack()\n",
    "print(pop_df)"
   ]
  },
  {
   "cell_type": "code",
   "execution_count": 13,
   "id": "2ce0e901",
   "metadata": {},
   "outputs": [
    {
     "name": "stdout",
     "output_type": "stream",
     "text": [
      "California  2000    33871648\n",
      "            2010    37253956\n",
      "New York    2000    18976457\n",
      "            2010    19378102\n",
      "Texas       2000    20851820\n",
      "            2010    25145561\n",
      "dtype: int64\n"
     ]
    }
   ],
   "source": [
    "pop_stack = pop_df.stack()\n",
    "print(pop_stack)"
   ]
  },
  {
   "cell_type": "code",
   "execution_count": 18,
   "id": "f370b12d",
   "metadata": {},
   "outputs": [
    {
     "name": "stdout",
     "output_type": "stream",
     "text": [
      "[[0.14215676 0.12074468]\n",
      " [0.36901676 0.81713123]\n",
      " [0.5327172  0.32076164]\n",
      " [0.83001416 0.35605361]]\n",
      "            X         Y         Z\n",
      "A 1  0.336536  0.889826  0.434002\n",
      "  2  0.112206  0.255963  0.253268\n",
      "  3  0.200350  0.073074  0.638359\n",
      "B 1  0.459190  0.735313  0.642241\n",
      "  2  0.744598  0.456900  0.419964\n",
      "  3  0.181240  0.401190  0.982894\n",
      "C 1  0.319773  0.285484  0.594799\n",
      "  2  0.553834  0.101952  0.507852\n",
      "  3  0.790725  0.306459  0.166001\n",
      "          X                             Y                             Z  \\\n",
      "          1         2         3         1         2         3         1   \n",
      "A  0.336536  0.112206  0.200350  0.889826  0.255963  0.073074  0.434002   \n",
      "B  0.459190  0.744598  0.181240  0.735313  0.456900  0.401190  0.642241   \n",
      "C  0.319773  0.553834  0.790725  0.285484  0.101952  0.306459  0.594799   \n",
      "\n",
      "                       \n",
      "          2         3  \n",
      "A  0.253268  0.638359  \n",
      "B  0.419964  0.982894  \n",
      "C  0.507852  0.166001  \n"
     ]
    }
   ],
   "source": [
    "# create multi-indexing\n",
    "\n",
    "print(np.random.rand(4,2))\n",
    "\n",
    "df = pd.DataFrame(np.random.rand(9,3), # 9 by 3 matrix\n",
    "                 index=[[\"A\",\"A\",\"A\",\"B\",\"B\",\"B\",\"C\",\"C\",\"C\"],[1,2,3,1,2,3,1,2,3]], # both numbers = row numbers, in order of index\n",
    "                 columns=list(\"XYZ\"))\n",
    "print(df)\n",
    "print(df.unstack())"
   ]
  },
  {
   "cell_type": "code",
   "execution_count": 19,
   "id": "2315787b",
   "metadata": {},
   "outputs": [
    {
     "name": "stdout",
     "output_type": "stream",
     "text": [
      "MultiIndex([('A', 6),\n",
      "            ('A', 9),\n",
      "            ('B', 6),\n",
      "            ('B', 9),\n",
      "            ('C', 6),\n",
      "            ('C', 9),\n",
      "            ('D', 6),\n",
      "            ('D', 9)],\n",
      "           )\n"
     ]
    }
   ],
   "source": [
    "# 显式地创建多级索引\n",
    "# from array\n",
    "print(pd.MultiIndex.from_arrays([[\"A\",\"A\",\"B\",\"B\",\"C\",\"C\",\"D\",\"D\"],[6,9,6,9,6,9,6,9]]))"
   ]
  },
  {
   "cell_type": "code",
   "execution_count": 20,
   "id": "6428957a",
   "metadata": {},
   "outputs": [
    {
     "name": "stdout",
     "output_type": "stream",
     "text": [
      "MultiIndex([('A', 1),\n",
      "            ('A', 3),\n",
      "            ('A', 5),\n",
      "            ('B', 1),\n",
      "            ('B', 3),\n",
      "            ('B', 5)],\n",
      "           )\n"
     ]
    }
   ],
   "source": [
    "# from tuples\n",
    "print(pd.MultiIndex.from_tuples([(\"A\",1),(\"A\",3),(\"A\",5),(\"B\",1),(\"B\",3),(\"B\",5)]))"
   ]
  },
  {
   "cell_type": "code",
   "execution_count": 22,
   "id": "f1ba2e11",
   "metadata": {},
   "outputs": [
    {
     "name": "stdout",
     "output_type": "stream",
     "text": [
      "MultiIndex([('A', 3),\n",
      "            ('A', 4),\n",
      "            ('A', 5),\n",
      "            ('A', 6),\n",
      "            ('A', 7),\n",
      "            ('B', 3),\n",
      "            ('B', 4),\n",
      "            ('B', 5),\n",
      "            ('B', 6),\n",
      "            ('B', 7),\n",
      "            ('C', 3),\n",
      "            ('C', 4),\n",
      "            ('C', 5),\n",
      "            ('C', 6),\n",
      "            ('C', 7),\n",
      "            ('D', 3),\n",
      "            ('D', 4),\n",
      "            ('D', 5),\n",
      "            ('D', 6),\n",
      "            ('D', 7),\n",
      "            ('E', 3),\n",
      "            ('E', 4),\n",
      "            ('E', 5),\n",
      "            ('E', 6),\n",
      "            ('E', 7)],\n",
      "           )\n"
     ]
    }
   ],
   "source": [
    "# from rpoduct\n",
    "print(pd.MultiIndex.from_product([[\"A\",\"B\",\"C\",\"D\",\"E\"],[3,4,5,6,7]]))"
   ]
  },
  {
   "cell_type": "code",
   "execution_count": 25,
   "id": "2f3bb18c",
   "metadata": {},
   "outputs": [
    {
     "name": "stdout",
     "output_type": "stream",
     "text": [
      "1.4.4\n"
     ]
    }
   ],
   "source": [
    "print(pd.__version__)"
   ]
  },
  {
   "cell_type": "code",
   "execution_count": 26,
   "id": "40bd8c56",
   "metadata": {},
   "outputs": [
    {
     "name": "stdout",
     "output_type": "stream",
     "text": [
      "                            X         Y         Z\n",
      "Upper Letter Number                              \n",
      "A            1       0.336536  0.889826  0.434002\n",
      "             2       0.112206  0.255963  0.253268\n",
      "             3       0.200350  0.073074  0.638359\n",
      "B            1       0.459190  0.735313  0.642241\n",
      "             2       0.744598  0.456900  0.419964\n",
      "             3       0.181240  0.401190  0.982894\n",
      "C            1       0.319773  0.285484  0.594799\n",
      "             2       0.553834  0.101952  0.507852\n",
      "             3       0.790725  0.306459  0.166001\n"
     ]
    }
   ],
   "source": [
    "# giving you index names\n",
    "df.index.names=[\"Upper Letter\",\"Number\"]\n",
    "print(df)"
   ]
  },
  {
   "cell_type": "code",
   "execution_count": 29,
   "id": "4de99d6b",
   "metadata": {},
   "outputs": [
    {
     "data": {
      "text/html": [
       "<div>\n",
       "<style scoped>\n",
       "    .dataframe tbody tr th:only-of-type {\n",
       "        vertical-align: middle;\n",
       "    }\n",
       "\n",
       "    .dataframe tbody tr th {\n",
       "        vertical-align: top;\n",
       "    }\n",
       "\n",
       "    .dataframe thead tr th {\n",
       "        text-align: left;\n",
       "    }\n",
       "\n",
       "    .dataframe thead tr:last-of-type th {\n",
       "        text-align: right;\n",
       "    }\n",
       "</style>\n",
       "<table border=\"1\" class=\"dataframe\">\n",
       "  <thead>\n",
       "    <tr>\n",
       "      <th></th>\n",
       "      <th>subject</th>\n",
       "      <th colspan=\"2\" halign=\"left\">Bob</th>\n",
       "      <th colspan=\"2\" halign=\"left\">Guido</th>\n",
       "      <th colspan=\"2\" halign=\"left\">Sue</th>\n",
       "    </tr>\n",
       "    <tr>\n",
       "      <th></th>\n",
       "      <th>type</th>\n",
       "      <th>HR</th>\n",
       "      <th>Temp</th>\n",
       "      <th>HR</th>\n",
       "      <th>Temp</th>\n",
       "      <th>HR</th>\n",
       "      <th>Temp</th>\n",
       "    </tr>\n",
       "    <tr>\n",
       "      <th>year</th>\n",
       "      <th>visit</th>\n",
       "      <th></th>\n",
       "      <th></th>\n",
       "      <th></th>\n",
       "      <th></th>\n",
       "      <th></th>\n",
       "      <th></th>\n",
       "    </tr>\n",
       "  </thead>\n",
       "  <tbody>\n",
       "    <tr>\n",
       "      <th rowspan=\"2\" valign=\"top\">2013</th>\n",
       "      <th>1</th>\n",
       "      <td>40.0</td>\n",
       "      <td>38.1</td>\n",
       "      <td>27.0</td>\n",
       "      <td>36.7</td>\n",
       "      <td>29.0</td>\n",
       "      <td>38.2</td>\n",
       "    </tr>\n",
       "    <tr>\n",
       "      <th>2</th>\n",
       "      <td>39.0</td>\n",
       "      <td>37.6</td>\n",
       "      <td>47.0</td>\n",
       "      <td>35.9</td>\n",
       "      <td>22.0</td>\n",
       "      <td>35.7</td>\n",
       "    </tr>\n",
       "    <tr>\n",
       "      <th rowspan=\"2\" valign=\"top\">2014</th>\n",
       "      <th>1</th>\n",
       "      <td>21.0</td>\n",
       "      <td>38.8</td>\n",
       "      <td>25.0</td>\n",
       "      <td>37.5</td>\n",
       "      <td>43.0</td>\n",
       "      <td>37.4</td>\n",
       "    </tr>\n",
       "    <tr>\n",
       "      <th>2</th>\n",
       "      <td>34.0</td>\n",
       "      <td>37.4</td>\n",
       "      <td>27.0</td>\n",
       "      <td>37.9</td>\n",
       "      <td>30.0</td>\n",
       "      <td>37.5</td>\n",
       "    </tr>\n",
       "  </tbody>\n",
       "</table>\n",
       "</div>"
      ],
      "text/plain": [
       "subject      Bob       Guido         Sue      \n",
       "type          HR  Temp    HR  Temp    HR  Temp\n",
       "year visit                                    \n",
       "2013 1      40.0  38.1  27.0  36.7  29.0  38.2\n",
       "     2      39.0  37.6  47.0  35.9  22.0  35.7\n",
       "2014 1      21.0  38.8  25.0  37.5  43.0  37.4\n",
       "     2      34.0  37.4  27.0  37.9  30.0  37.5"
      ]
     },
     "execution_count": 29,
     "metadata": {},
     "output_type": "execute_result"
    }
   ],
   "source": [
    "# multiindex for columns\n",
    "\n",
    "index = pd.MultiIndex.from_product([[2013, 2014], [1, 2]], \n",
    " names=['year', 'visit']) \n",
    "\n",
    "columns = pd.MultiIndex.from_product([['Bob', 'Guido', 'Sue'], ['HR', 'Temp']], \n",
    " names=['subject', 'type'])\n",
    "\n",
    "data = np.round(np.random.randn(4, 6), 1) \n",
    "data[:, ::2] *= 10 \n",
    "data += 37 \n",
    "\n",
    "health_data = pd.DataFrame(data, index=index, columns=columns) \n",
    "health_data "
   ]
  },
  {
   "cell_type": "code",
   "execution_count": 30,
   "id": "a37e0f52",
   "metadata": {},
   "outputs": [
    {
     "data": {
      "text/html": [
       "<div>\n",
       "<style scoped>\n",
       "    .dataframe tbody tr th:only-of-type {\n",
       "        vertical-align: middle;\n",
       "    }\n",
       "\n",
       "    .dataframe tbody tr th {\n",
       "        vertical-align: top;\n",
       "    }\n",
       "\n",
       "    .dataframe thead th {\n",
       "        text-align: right;\n",
       "    }\n",
       "</style>\n",
       "<table border=\"1\" class=\"dataframe\">\n",
       "  <thead>\n",
       "    <tr style=\"text-align: right;\">\n",
       "      <th></th>\n",
       "      <th>type</th>\n",
       "      <th>HR</th>\n",
       "      <th>Temp</th>\n",
       "    </tr>\n",
       "    <tr>\n",
       "      <th>year</th>\n",
       "      <th>visit</th>\n",
       "      <th></th>\n",
       "      <th></th>\n",
       "    </tr>\n",
       "  </thead>\n",
       "  <tbody>\n",
       "    <tr>\n",
       "      <th rowspan=\"2\" valign=\"top\">2013</th>\n",
       "      <th>1</th>\n",
       "      <td>40.0</td>\n",
       "      <td>38.1</td>\n",
       "    </tr>\n",
       "    <tr>\n",
       "      <th>2</th>\n",
       "      <td>39.0</td>\n",
       "      <td>37.6</td>\n",
       "    </tr>\n",
       "    <tr>\n",
       "      <th rowspan=\"2\" valign=\"top\">2014</th>\n",
       "      <th>1</th>\n",
       "      <td>21.0</td>\n",
       "      <td>38.8</td>\n",
       "    </tr>\n",
       "    <tr>\n",
       "      <th>2</th>\n",
       "      <td>34.0</td>\n",
       "      <td>37.4</td>\n",
       "    </tr>\n",
       "  </tbody>\n",
       "</table>\n",
       "</div>"
      ],
      "text/plain": [
       "type          HR  Temp\n",
       "year visit            \n",
       "2013 1      40.0  38.1\n",
       "     2      39.0  37.6\n",
       "2014 1      21.0  38.8\n",
       "     2      34.0  37.4"
      ]
     },
     "execution_count": 30,
     "metadata": {},
     "output_type": "execute_result"
    }
   ],
   "source": [
    "health_data[\"Bob\"] # select column Bob"
   ]
  },
  {
   "cell_type": "code",
   "execution_count": 31,
   "id": "d75959d1",
   "metadata": {},
   "outputs": [
    {
     "name": "stdout",
     "output_type": "stream",
     "text": [
      "California  2000    33871648\n",
      "            2010    37253956\n",
      "New York    2000    18976457\n",
      "            2010    19378102\n",
      "Texas       2000    20851820\n",
      "            2010    25145561\n",
      "dtype: int64\n"
     ]
    }
   ],
   "source": [
    "print(pop)"
   ]
  },
  {
   "cell_type": "code",
   "execution_count": 32,
   "id": "c3384496",
   "metadata": {},
   "outputs": [
    {
     "data": {
      "text/plain": [
       "33871648"
      ]
     },
     "execution_count": 32,
     "metadata": {},
     "output_type": "execute_result"
    }
   ],
   "source": [
    "# selecting multiIndex\n",
    "pop[\"California\",2000]"
   ]
  },
  {
   "cell_type": "code",
   "execution_count": 33,
   "id": "e3c78138",
   "metadata": {},
   "outputs": [
    {
     "data": {
      "text/plain": [
       "2000    33871648\n",
       "2010    37253956\n",
       "dtype: int64"
      ]
     },
     "execution_count": 33,
     "metadata": {},
     "output_type": "execute_result"
    }
   ],
   "source": [
    "pop[\"California\"]"
   ]
  },
  {
   "cell_type": "code",
   "execution_count": 35,
   "id": "3f9c15cd",
   "metadata": {},
   "outputs": [
    {
     "data": {
      "text/plain": [
       "California    33871648\n",
       "New York      18976457\n",
       "Texas         20851820\n",
       "dtype: int64"
      ]
     },
     "execution_count": 35,
     "metadata": {},
     "output_type": "execute_result"
    }
   ],
   "source": [
    "pop[:,2000]"
   ]
  },
  {
   "cell_type": "code",
   "execution_count": 36,
   "id": "df44e766",
   "metadata": {},
   "outputs": [
    {
     "data": {
      "text/plain": [
       "California    37253956\n",
       "New York      19378102\n",
       "Texas         25145561\n",
       "dtype: int64"
      ]
     },
     "execution_count": 36,
     "metadata": {},
     "output_type": "execute_result"
    }
   ],
   "source": [
    "pop[:,2010]"
   ]
  },
  {
   "cell_type": "code",
   "execution_count": 38,
   "id": "48bcfd58",
   "metadata": {},
   "outputs": [
    {
     "data": {
      "text/html": [
       "<div>\n",
       "<style scoped>\n",
       "    .dataframe tbody tr th:only-of-type {\n",
       "        vertical-align: middle;\n",
       "    }\n",
       "\n",
       "    .dataframe tbody tr th {\n",
       "        vertical-align: top;\n",
       "    }\n",
       "\n",
       "    .dataframe thead tr th {\n",
       "        text-align: left;\n",
       "    }\n",
       "\n",
       "    .dataframe thead tr:last-of-type th {\n",
       "        text-align: right;\n",
       "    }\n",
       "</style>\n",
       "<table border=\"1\" class=\"dataframe\">\n",
       "  <thead>\n",
       "    <tr>\n",
       "      <th></th>\n",
       "      <th>subject</th>\n",
       "      <th colspan=\"2\" halign=\"left\">Bob</th>\n",
       "      <th colspan=\"2\" halign=\"left\">Guido</th>\n",
       "      <th colspan=\"2\" halign=\"left\">Sue</th>\n",
       "    </tr>\n",
       "    <tr>\n",
       "      <th></th>\n",
       "      <th>type</th>\n",
       "      <th>HR</th>\n",
       "      <th>Temp</th>\n",
       "      <th>HR</th>\n",
       "      <th>Temp</th>\n",
       "      <th>HR</th>\n",
       "      <th>Temp</th>\n",
       "    </tr>\n",
       "    <tr>\n",
       "      <th>year</th>\n",
       "      <th>visit</th>\n",
       "      <th></th>\n",
       "      <th></th>\n",
       "      <th></th>\n",
       "      <th></th>\n",
       "      <th></th>\n",
       "      <th></th>\n",
       "    </tr>\n",
       "  </thead>\n",
       "  <tbody>\n",
       "    <tr>\n",
       "      <th rowspan=\"2\" valign=\"top\">2013</th>\n",
       "      <th>1</th>\n",
       "      <td>40.0</td>\n",
       "      <td>38.1</td>\n",
       "      <td>27.0</td>\n",
       "      <td>36.7</td>\n",
       "      <td>29.0</td>\n",
       "      <td>38.2</td>\n",
       "    </tr>\n",
       "    <tr>\n",
       "      <th>2</th>\n",
       "      <td>39.0</td>\n",
       "      <td>37.6</td>\n",
       "      <td>47.0</td>\n",
       "      <td>35.9</td>\n",
       "      <td>22.0</td>\n",
       "      <td>35.7</td>\n",
       "    </tr>\n",
       "    <tr>\n",
       "      <th rowspan=\"2\" valign=\"top\">2014</th>\n",
       "      <th>1</th>\n",
       "      <td>21.0</td>\n",
       "      <td>38.8</td>\n",
       "      <td>25.0</td>\n",
       "      <td>37.5</td>\n",
       "      <td>43.0</td>\n",
       "      <td>37.4</td>\n",
       "    </tr>\n",
       "    <tr>\n",
       "      <th>2</th>\n",
       "      <td>34.0</td>\n",
       "      <td>37.4</td>\n",
       "      <td>27.0</td>\n",
       "      <td>37.9</td>\n",
       "      <td>30.0</td>\n",
       "      <td>37.5</td>\n",
       "    </tr>\n",
       "  </tbody>\n",
       "</table>\n",
       "</div>"
      ],
      "text/plain": [
       "subject      Bob       Guido         Sue      \n",
       "type          HR  Temp    HR  Temp    HR  Temp\n",
       "year visit                                    \n",
       "2013 1      40.0  38.1  27.0  36.7  29.0  38.2\n",
       "     2      39.0  37.6  47.0  35.9  22.0  35.7\n",
       "2014 1      21.0  38.8  25.0  37.5  43.0  37.4\n",
       "     2      34.0  37.4  27.0  37.9  30.0  37.5"
      ]
     },
     "execution_count": 38,
     "metadata": {},
     "output_type": "execute_result"
    }
   ],
   "source": [
    "# DataFrame multi_index selection\n",
    "health_data"
   ]
  },
  {
   "cell_type": "code",
   "execution_count": 39,
   "id": "d212afdb",
   "metadata": {},
   "outputs": [
    {
     "data": {
      "text/html": [
       "<div>\n",
       "<style scoped>\n",
       "    .dataframe tbody tr th:only-of-type {\n",
       "        vertical-align: middle;\n",
       "    }\n",
       "\n",
       "    .dataframe tbody tr th {\n",
       "        vertical-align: top;\n",
       "    }\n",
       "\n",
       "    .dataframe thead th {\n",
       "        text-align: right;\n",
       "    }\n",
       "</style>\n",
       "<table border=\"1\" class=\"dataframe\">\n",
       "  <thead>\n",
       "    <tr style=\"text-align: right;\">\n",
       "      <th></th>\n",
       "      <th>type</th>\n",
       "      <th>HR</th>\n",
       "      <th>Temp</th>\n",
       "    </tr>\n",
       "    <tr>\n",
       "      <th>year</th>\n",
       "      <th>visit</th>\n",
       "      <th></th>\n",
       "      <th></th>\n",
       "    </tr>\n",
       "  </thead>\n",
       "  <tbody>\n",
       "    <tr>\n",
       "      <th rowspan=\"2\" valign=\"top\">2013</th>\n",
       "      <th>1</th>\n",
       "      <td>29.0</td>\n",
       "      <td>38.2</td>\n",
       "    </tr>\n",
       "    <tr>\n",
       "      <th>2</th>\n",
       "      <td>22.0</td>\n",
       "      <td>35.7</td>\n",
       "    </tr>\n",
       "    <tr>\n",
       "      <th rowspan=\"2\" valign=\"top\">2014</th>\n",
       "      <th>1</th>\n",
       "      <td>43.0</td>\n",
       "      <td>37.4</td>\n",
       "    </tr>\n",
       "    <tr>\n",
       "      <th>2</th>\n",
       "      <td>30.0</td>\n",
       "      <td>37.5</td>\n",
       "    </tr>\n",
       "  </tbody>\n",
       "</table>\n",
       "</div>"
      ],
      "text/plain": [
       "type          HR  Temp\n",
       "year visit            \n",
       "2013 1      29.0  38.2\n",
       "     2      22.0  35.7\n",
       "2014 1      43.0  37.4\n",
       "     2      30.0  37.5"
      ]
     },
     "execution_count": 39,
     "metadata": {},
     "output_type": "execute_result"
    }
   ],
   "source": [
    "health_data[\"Sue\"]"
   ]
  },
  {
   "cell_type": "code",
   "execution_count": 40,
   "id": "32ffaf35",
   "metadata": {},
   "outputs": [
    {
     "data": {
      "text/plain": [
       "year  visit\n",
       "2013  1        38.2\n",
       "      2        35.7\n",
       "2014  1        37.4\n",
       "      2        37.5\n",
       "Name: (Sue, Temp), dtype: float64"
      ]
     },
     "execution_count": 40,
     "metadata": {},
     "output_type": "execute_result"
    }
   ],
   "source": [
    "health_data[\"Sue\",\"Temp\"]"
   ]
  },
  {
   "cell_type": "code",
   "execution_count": 55,
   "id": "443d952e",
   "metadata": {},
   "outputs": [
    {
     "name": "stdout",
     "output_type": "stream",
     "text": [
      "MultiIndex([('a', 1),\n",
      "            ('a', 2),\n",
      "            ('a', 3),\n",
      "            ('c', 1),\n",
      "            ('c', 2),\n",
      "            ('c', 3),\n",
      "            ('b', 1),\n",
      "            ('b', 2),\n",
      "            ('b', 3)],\n",
      "           )\n",
      "\n",
      "-----------------------------------------------------------\n",
      "\n",
      "lower  num\n",
      "a      1      0.436889\n",
      "       2      0.858677\n",
      "       3      0.652154\n",
      "c      1      0.434584\n",
      "       2      0.297850\n",
      "       3      0.608629\n",
      "b      1      0.005528\n",
      "       2      0.139458\n",
      "       3      0.012884\n",
      "dtype: float64\n",
      "\n",
      "-----------------------------------------------------------\n",
      "\n",
      "<class 'pandas.errors.UnsortedIndexError'>\n",
      "'Key length (1) was greater than MultiIndex lexsort depth (0)'\n",
      "\n",
      "-----------------------------------------------------------\n",
      "\n",
      "<class 'pandas.errors.UnsortedIndexError'>\n",
      "'Key length (1) was greater than MultiIndex lexsort depth (0)'\n"
     ]
    }
   ],
   "source": [
    "#无序索引，有序索引\n",
    "index = pd.MultiIndex.from_product([[\"a\",\"c\",\"b\"],[1,2,3]])\n",
    "print(index)\n",
    "print(\"\\n-----------------------------------------------------------\\n\")\n",
    "data=pd.Series(np.random.rand(9),index=index)\n",
    "data.index.names=[\"lower\", \"num\"]\n",
    "print(data)\n",
    "print(\"\\n-----------------------------------------------------------\\n\")\n",
    "try:\n",
    "    data[\"a\":\"b\"]\n",
    "except KeyError as e:\n",
    "    print(type(e))\n",
    "    print(e)\n",
    "print(\"\\n-----------------------------------------------------------\\n\")\n",
    "try:\n",
    "    data[\"b\":\"c\"]\n",
    "except KeyError as ke:\n",
    "    print(type(ke))\n",
    "    print(ke)"
   ]
  },
  {
   "cell_type": "code",
   "execution_count": 58,
   "id": "36c32d48",
   "metadata": {},
   "outputs": [
    {
     "name": "stdout",
     "output_type": "stream",
     "text": [
      "lower  num\n",
      "a      1      0.436889\n",
      "       2      0.858677\n",
      "       3      0.652154\n",
      "b      1      0.005528\n",
      "       2      0.139458\n",
      "       3      0.012884\n",
      "dtype: float64\n",
      "\n",
      "-----------------------------------------------------------\n",
      "\n",
      "lower  num\n",
      "b      1      0.005528\n",
      "       2      0.139458\n",
      "       3      0.012884\n",
      "c      1      0.434584\n",
      "       2      0.297850\n",
      "       3      0.608629\n",
      "dtype: float64\n"
     ]
    }
   ],
   "source": [
    "# use sort_index\n",
    "data = data.sort_index()\n",
    "print(data[\"a\":\"b\"])\n",
    "print(\"\\n-----------------------------------------------------------\\n\")\n",
    "print(data[\"b\":\"c\"])\n"
   ]
  },
  {
   "cell_type": "code",
   "execution_count": 59,
   "id": "3df04cb3",
   "metadata": {},
   "outputs": [
    {
     "name": "stdout",
     "output_type": "stream",
     "text": [
      "California  2000    33871648\n",
      "            2010    37253956\n",
      "New York    2000    18976457\n",
      "            2010    19378102\n",
      "Texas       2000    20851820\n",
      "            2010    25145561\n",
      "dtype: int64\n"
     ]
    }
   ],
   "source": [
    "print(pop)"
   ]
  },
  {
   "cell_type": "code",
   "execution_count": 62,
   "id": "bc653688",
   "metadata": {},
   "outputs": [
    {
     "name": "stdout",
     "output_type": "stream",
     "text": [
      "      California  New York     Texas\n",
      "2000    33871648  18976457  20851820\n",
      "2010    37253956  19378102  25145561\n",
      "\n",
      "-----------------------------------------------\n",
      "\n",
      "2000  California    33871648\n",
      "      New York      18976457\n",
      "      Texas         20851820\n",
      "2010  California    37253956\n",
      "      New York      19378102\n",
      "      Texas         25145561\n",
      "dtype: int64\n"
     ]
    }
   ],
   "source": [
    "print(pop.unstack(level=0))\n",
    "print(\"\\n-----------------------------------------------\\n\")\n",
    "print(pop.unstack(level=0).stack())"
   ]
  },
  {
   "cell_type": "code",
   "execution_count": 63,
   "id": "bbaf39fd",
   "metadata": {},
   "outputs": [
    {
     "name": "stdout",
     "output_type": "stream",
     "text": [
      "                2000      2010\n",
      "California  33871648  37253956\n",
      "New York    18976457  19378102\n",
      "Texas       20851820  25145561\n",
      "\n",
      "-----------------------------------------------\n",
      "\n",
      "California  2000    33871648\n",
      "            2010    37253956\n",
      "New York    2000    18976457\n",
      "            2010    19378102\n",
      "Texas       2000    20851820\n",
      "            2010    25145561\n",
      "dtype: int64\n"
     ]
    }
   ],
   "source": [
    "print(pop.unstack(level=1))\n",
    "print(\"\\n-----------------------------------------------\\n\")\n",
    "print(pop.unstack(level=1).stack())"
   ]
  },
  {
   "cell_type": "code",
   "execution_count": 71,
   "id": "18f792d1",
   "metadata": {},
   "outputs": [
    {
     "name": "stdout",
     "output_type": "stream",
     "text": [
      "state       year\n",
      "California  2000    33871648\n",
      "            2010    37253956\n",
      "New York    2000    18976457\n",
      "            2010    19378102\n",
      "Texas       2000    20851820\n",
      "            2010    25145561\n",
      "dtype: int64\n",
      "\n",
      "-----------------------------------------------\n",
      "\n",
      "        state  year  population\n",
      "0  California  2000    33871648\n",
      "1  California  2010    37253956\n",
      "2    New York  2000    18976457\n",
      "3    New York  2010    19378102\n",
      "4       Texas  2000    20851820\n",
      "5       Texas  2010    25145561\n",
      "\n",
      "-----------------------------------------------\n",
      "\n",
      "                       year\n",
      "state      population      \n",
      "California 33871648    2000\n",
      "           37253956    2010\n",
      "New York   18976457    2000\n",
      "           19378102    2010\n",
      "Texas      20851820    2000\n",
      "           25145561    2010\n",
      "\n",
      "-----------------------------------------------\n",
      "\n",
      "                 population\n",
      "state      year            \n",
      "California 2000    33871648\n",
      "           2010    37253956\n",
      "New York   2000    18976457\n",
      "           2010    19378102\n",
      "Texas      2000    20851820\n",
      "           2010    25145561\n",
      "\n",
      "-----------------------------------------------\n",
      "\n",
      "                      state\n",
      "year population            \n",
      "2000 33871648    California\n",
      "2010 37253956    California\n",
      "2000 18976457      New York\n",
      "2010 19378102      New York\n",
      "2000 20851820         Texas\n",
      "2010 25145561         Texas\n"
     ]
    }
   ],
   "source": [
    "# set index , reset index\n",
    "pop.index.names=[\"state\",\"year\"]\n",
    "print(pop)\n",
    "print(\"\\n-----------------------------------------------\\n\")\n",
    "pop_flat = pop.reset_index(name=\"population\")\n",
    "print(pop_flat)\n",
    "print(\"\\n-----------------------------------------------\\n\")\n",
    "print(pop_flat.set_index([\"state\",\"population\"]))\n",
    "print(\"\\n-----------------------------------------------\\n\")\n",
    "print(pop_flat.set_index([\"state\",\"year\"]))\n",
    "print(\"\\n-----------------------------------------------\\n\")\n",
    "print(pop_flat.set_index([\"year\",\"population\"]))"
   ]
  },
  {
   "cell_type": "code",
   "execution_count": 79,
   "id": "feb5426f",
   "metadata": {},
   "outputs": [
    {
     "name": "stdout",
     "output_type": "stream",
     "text": [
      "subject      Bob       Guido         Sue      \n",
      "type          HR  Temp    HR  Temp    HR  Temp\n",
      "year visit                                    \n",
      "2013 1      40.0  38.1  27.0  36.7  29.0  38.2\n",
      "     2      39.0  37.6  47.0  35.9  22.0  35.7\n",
      "2014 1      21.0  38.8  25.0  37.5  43.0  37.4\n",
      "     2      34.0  37.4  27.0  37.9  30.0  37.5\n",
      "\n",
      "------------------------------------\n",
      "\n",
      "subject   Bob        Guido         Sue       \n",
      "type       HR   Temp    HR  Temp    HR   Temp\n",
      "year                                         \n",
      "2013     39.5  37.85  37.0  36.3  25.5  36.95\n",
      "2014     27.5  38.10  26.0  37.7  36.5  37.45\n",
      "\n",
      "------------------------------------\n",
      "\n",
      "subject       Bob  Guido    Sue\n",
      "year visit                     \n",
      "2013 1      39.05  31.85  33.60\n",
      "     2      38.30  41.45  28.85\n",
      "2014 1      29.90  31.25  40.20\n",
      "     2      35.70  32.45  33.75\n"
     ]
    }
   ],
   "source": [
    "# again max, min, sum, mean\n",
    "\n",
    "print(health_data)\n",
    "print(\"\\n------------------------------------\\n\")\n",
    "\n",
    "print(health_data.groupby(level=\"year\").mean())\n",
    "print(\"\\n------------------------------------\\n\")\n",
    "\n",
    "print(health_data.groupby(level=\"subject\", axis=1).mean())"
   ]
  },
  {
   "cell_type": "code",
   "execution_count": null,
   "id": "88ee4c83",
   "metadata": {},
   "outputs": [],
   "source": []
  }
 ],
 "metadata": {
  "kernelspec": {
   "display_name": "Python 3 (ipykernel)",
   "language": "python",
   "name": "python3"
  },
  "language_info": {
   "codemirror_mode": {
    "name": "ipython",
    "version": 3
   },
   "file_extension": ".py",
   "mimetype": "text/x-python",
   "name": "python",
   "nbconvert_exporter": "python",
   "pygments_lexer": "ipython3",
   "version": "3.9.13"
  }
 },
 "nbformat": 4,
 "nbformat_minor": 5
}
