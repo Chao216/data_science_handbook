{
 "cells": [
  {
   "cell_type": "code",
   "execution_count": 1,
   "id": "c46ea8af",
   "metadata": {},
   "outputs": [
    {
     "name": "stdout",
     "output_type": "stream",
     "text": [
      "   survived  pclass     sex   age  sibsp  parch     fare embarked  class  \\\n",
      "0         0       3    male  22.0      1      0   7.2500        S  Third   \n",
      "1         1       1  female  38.0      1      0  71.2833        C  First   \n",
      "2         1       3  female  26.0      0      0   7.9250        S  Third   \n",
      "3         1       1  female  35.0      1      0  53.1000        S  First   \n",
      "4         0       3    male  35.0      0      0   8.0500        S  Third   \n",
      "\n",
      "     who  adult_male deck  embark_town alive  alone  \n",
      "0    man        True  NaN  Southampton    no  False  \n",
      "1  woman       False    C    Cherbourg   yes  False  \n",
      "2  woman       False  NaN  Southampton   yes   True  \n",
      "3  woman       False    C  Southampton   yes  False  \n",
      "4    man        True  NaN  Southampton    no   True  \n"
     ]
    }
   ],
   "source": [
    "import numpy as np, pandas as pd, seaborn as sns\n",
    "titanic = sns.load_dataset(\"titanic\")\n",
    "print(titanic.head())"
   ]
  },
  {
   "cell_type": "code",
   "execution_count": 2,
   "id": "7ddefe85",
   "metadata": {},
   "outputs": [
    {
     "name": "stdout",
     "output_type": "stream",
     "text": [
      "sex\n",
      "female    0.742038\n",
      "male      0.188908\n",
      "Name: survived, dtype: float64\n"
     ]
    }
   ],
   "source": [
    "print(titanic.groupby(\"sex\")[\"survived\"].mean())"
   ]
  },
  {
   "cell_type": "code",
   "execution_count": 4,
   "id": "ce21ea4a",
   "metadata": {},
   "outputs": [
    {
     "name": "stdout",
     "output_type": "stream",
     "text": [
      "class      First    Second     Third\n",
      "sex                                 \n",
      "female  0.968085  0.921053  0.500000\n",
      "male    0.368852  0.157407  0.135447\n"
     ]
    }
   ],
   "source": [
    "# pivot_table \n",
    "\n",
    "print(titanic.pivot_table(\"survived\", index=\"sex\", columns=\"class\"))"
   ]
  },
  {
   "cell_type": "code",
   "execution_count": 5,
   "id": "ee058e31",
   "metadata": {},
   "outputs": [
    {
     "name": "stdout",
     "output_type": "stream",
     "text": [
      "class      First     Second      Third\n",
      "alive                                 \n",
      "no     43.695312  33.544444  26.555556\n",
      "yes    35.368197  25.901566  20.646118\n"
     ]
    }
   ],
   "source": [
    "print(titanic.pivot_table(\"age\",index=\"alive\",columns=\"class\"))"
   ]
  },
  {
   "cell_type": "code",
   "execution_count": 8,
   "id": "f276f848",
   "metadata": {},
   "outputs": [
    {
     "name": "stdout",
     "output_type": "stream",
     "text": [
      "class               First    Second     Third\n",
      "sex    age                                   \n",
      "female (0, 18]   0.909091  1.000000  0.511628\n",
      "       (18, 80]  0.972973  0.900000  0.423729\n",
      "male   (0, 18]   0.800000  0.600000  0.215686\n",
      "       (18, 80]  0.375000  0.071429  0.133663\n"
     ]
    }
   ],
   "source": [
    "age = pd.cut(titanic[\"age\"],[0,18,80])\n",
    "print(titanic.pivot_table(\"survived\",[\"sex\",age],columns=\"class\"))"
   ]
  },
  {
   "cell_type": "code",
   "execution_count": 9,
   "id": "29db1886",
   "metadata": {},
   "outputs": [
    {
     "name": "stdout",
     "output_type": "stream",
     "text": [
      "fare            (-0.001, 14.454]                     (14.454, 512.329]  \\\n",
      "class                      First    Second     Third             First   \n",
      "sex    age                                                               \n",
      "female (0, 18]               NaN  1.000000  0.714286          0.909091   \n",
      "       (18, 80]              NaN  0.880000  0.444444          0.972973   \n",
      "male   (0, 18]               NaN  0.000000  0.260870          0.800000   \n",
      "       (18, 80]              0.0  0.098039  0.125000          0.391304   \n",
      "\n",
      "fare                                 \n",
      "class              Second     Third  \n",
      "sex    age                           \n",
      "female (0, 18]   1.000000  0.318182  \n",
      "       (18, 80]  0.914286  0.391304  \n",
      "male   (0, 18]   0.818182  0.178571  \n",
      "       (18, 80]  0.030303  0.192308  \n"
     ]
    }
   ],
   "source": [
    "fare = pd.qcut(titanic[\"fare\"],2)\n",
    "print(titanic.pivot_table(\"survived\",[\"sex\",age],[fare, \"class\"]))"
   ]
  },
  {
   "cell_type": "code",
   "execution_count": null,
   "id": "c5d52f5f",
   "metadata": {},
   "outputs": [],
   "source": []
  }
 ],
 "metadata": {
  "kernelspec": {
   "display_name": "Python 3 (ipykernel)",
   "language": "python",
   "name": "python3"
  },
  "language_info": {
   "codemirror_mode": {
    "name": "ipython",
    "version": 3
   },
   "file_extension": ".py",
   "mimetype": "text/x-python",
   "name": "python",
   "nbconvert_exporter": "python",
   "pygments_lexer": "ipython3",
   "version": "3.9.13"
  }
 },
 "nbformat": 4,
 "nbformat_minor": 5
}
