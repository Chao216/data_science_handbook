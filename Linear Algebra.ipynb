{
 "cells": [
  {
   "cell_type": "code",
   "execution_count": 1,
   "id": "5c2a9ca6",
   "metadata": {},
   "outputs": [],
   "source": [
    "import numpy as np\n",
    "from scipy import linalg as lina"
   ]
  },
  {
   "cell_type": "code",
   "execution_count": 4,
   "id": "25896210",
   "metadata": {},
   "outputs": [],
   "source": [
    "A = np.random.randint(1,100,(3,3))"
   ]
  },
  {
   "cell_type": "code",
   "execution_count": 5,
   "id": "ca3ee36a",
   "metadata": {},
   "outputs": [
    {
     "data": {
      "text/plain": [
       "array([[55, 12, 11],\n",
       "       [63, 77, 97],\n",
       "       [ 2,  5, 24]])"
      ]
     },
     "execution_count": 5,
     "metadata": {},
     "output_type": "execute_result"
    }
   ],
   "source": [
    "A"
   ]
  },
  {
   "cell_type": "code",
   "execution_count": 9,
   "id": "86c69ce2",
   "metadata": {},
   "outputs": [],
   "source": [
    "b = [[np.random.randint(1,100,1)],[np.random.randint(1,100,1)],[np.random.randint(1,100,1)]]"
   ]
  },
  {
   "cell_type": "code",
   "execution_count": 10,
   "id": "944f0329",
   "metadata": {},
   "outputs": [
    {
     "data": {
      "text/plain": [
       "[[array([23])], [array([36])], [array([76])]]"
      ]
     },
     "execution_count": 10,
     "metadata": {},
     "output_type": "execute_result"
    }
   ],
   "source": [
    "b"
   ]
  },
  {
   "cell_type": "markdown",
   "id": "3c982b6d",
   "metadata": {},
   "source": [
    "# find inverse matrix of A"
   ]
  },
  {
   "cell_type": "code",
   "execution_count": 11,
   "id": "af84e94a",
   "metadata": {},
   "outputs": [
    {
     "data": {
      "text/plain": [
       "array([[ 0.0223736 , -0.00382469,  0.00520355],\n",
       "       [-0.02163493,  0.02130663, -0.07619829],\n",
       "       [ 0.00264281, -0.00412016,  0.05710768]])"
      ]
     },
     "execution_count": 11,
     "metadata": {},
     "output_type": "execute_result"
    }
   ],
   "source": [
    "lina.inv(A)"
   ]
  },
  {
   "cell_type": "markdown",
   "id": "935ba478",
   "metadata": {},
   "source": [
    "# Solve linear equation systems"
   ]
  },
  {
   "cell_type": "code",
   "execution_count": 13,
   "id": "6c80e512",
   "metadata": {},
   "outputs": [
    {
     "data": {
      "text/plain": [
       "array([[[ 0.7723736 ]],\n",
       "\n",
       "       [[-5.52163493]],\n",
       "\n",
       "       [[ 4.25264281]]])"
      ]
     },
     "execution_count": 13,
     "metadata": {},
     "output_type": "execute_result"
    }
   ],
   "source": [
    "lina.solve(A,b)"
   ]
  },
  {
   "cell_type": "markdown",
   "id": "6edb9c94",
   "metadata": {},
   "source": [
    "# find the determinent"
   ]
  },
  {
   "cell_type": "code",
   "execution_count": 14,
   "id": "6ae01d49",
   "metadata": {},
   "outputs": [
    {
     "data": {
      "text/plain": [
       "60920.0"
      ]
     },
     "execution_count": 14,
     "metadata": {},
     "output_type": "execute_result"
    }
   ],
   "source": [
    "lina.det(A)"
   ]
  },
  {
   "cell_type": "markdown",
   "id": "0083edfc",
   "metadata": {},
   "source": [
    "# find eigen vectors and eigen values"
   ]
  },
  {
   "cell_type": "code",
   "execution_count": 19,
   "id": "2bdf9961",
   "metadata": {},
   "outputs": [],
   "source": [
    "values, vectors = lina.eig(A)"
   ]
  },
  {
   "cell_type": "code",
   "execution_count": 20,
   "id": "963ba49c",
   "metadata": {},
   "outputs": [
    {
     "name": "stdout",
     "output_type": "stream",
     "text": [
      "(101.3473939476292+0j)\n",
      "(39.39386421033202+0j)\n",
      "(15.258741842038837+0j)\n"
     ]
    }
   ],
   "source": [
    "for i in values:\n",
    "    print(i)"
   ]
  },
  {
   "cell_type": "code",
   "execution_count": 21,
   "id": "fadd96f8",
   "metadata": {},
   "outputs": [
    {
     "name": "stdout",
     "output_type": "stream",
     "text": [
      "[-0.26537333 -0.6670471   0.13388228]\n",
      "[-0.96167156  0.72968855 -0.87310716]\n",
      "[-0.06902759  0.15034227  0.46878506]\n"
     ]
    }
   ],
   "source": [
    "for v in vectors:\n",
    "    print(v)"
   ]
  },
  {
   "cell_type": "markdown",
   "id": "448f6d1a",
   "metadata": {},
   "source": [
    "# test "
   ]
  },
  {
   "cell_type": "code",
   "execution_count": 33,
   "id": "bbc42802",
   "metadata": {},
   "outputs": [],
   "source": [
    "M = np.array([[0.8,0.3],[0.2,0.7]])"
   ]
  },
  {
   "cell_type": "code",
   "execution_count": 34,
   "id": "d3a06f63",
   "metadata": {},
   "outputs": [
    {
     "data": {
      "text/plain": [
       "array([[0.8, 0.3],\n",
       "       [0.2, 0.7]])"
      ]
     },
     "execution_count": 34,
     "metadata": {},
     "output_type": "execute_result"
    }
   ],
   "source": [
    "M"
   ]
  },
  {
   "cell_type": "code",
   "execution_count": 35,
   "id": "d21a937c",
   "metadata": {},
   "outputs": [],
   "source": [
    "values, vectors = lina.eig(M)"
   ]
  },
  {
   "cell_type": "code",
   "execution_count": 36,
   "id": "b2eb6795",
   "metadata": {},
   "outputs": [
    {
     "name": "stdout",
     "output_type": "stream",
     "text": [
      "(1+0j)\n",
      "(0.5+0j)\n"
     ]
    }
   ],
   "source": [
    "for  i in values:\n",
    "    print(i)"
   ]
  },
  {
   "cell_type": "code",
   "execution_count": 37,
   "id": "3690e820",
   "metadata": {},
   "outputs": [
    {
     "name": "stdout",
     "output_type": "stream",
     "text": [
      "[ 0.83205029 -0.70710678]\n",
      "[0.5547002  0.70710678]\n"
     ]
    }
   ],
   "source": [
    "for j in vectors:\n",
    "    print(j)"
   ]
  },
  {
   "cell_type": "code",
   "execution_count": 38,
   "id": "d701a926",
   "metadata": {},
   "outputs": [],
   "source": [
    "M2 = np.array([[0.5,0.5],[0.5,0.5]])"
   ]
  },
  {
   "cell_type": "code",
   "execution_count": 42,
   "id": "c48332b4",
   "metadata": {},
   "outputs": [],
   "source": [
    "values, vectors = np.linalg.eig(M2)"
   ]
  },
  {
   "cell_type": "code",
   "execution_count": 43,
   "id": "a34d7ea8",
   "metadata": {},
   "outputs": [
    {
     "name": "stdout",
     "output_type": "stream",
     "text": [
      "[1.00000000e+00 1.11022302e-16]\n"
     ]
    }
   ],
   "source": [
    "print(values)"
   ]
  },
  {
   "cell_type": "code",
   "execution_count": 44,
   "id": "30afcdd1",
   "metadata": {},
   "outputs": [
    {
     "name": "stdout",
     "output_type": "stream",
     "text": [
      "[[ 0.70710678 -0.70710678]\n",
      " [ 0.70710678  0.70710678]]\n"
     ]
    }
   ],
   "source": [
    "print(vectors)"
   ]
  },
  {
   "cell_type": "code",
   "execution_count": 45,
   "id": "76cb4c2a",
   "metadata": {},
   "outputs": [],
   "source": [
    "M = np.array([[0,1],[1,0]])"
   ]
  },
  {
   "cell_type": "code",
   "execution_count": 46,
   "id": "72ec5258",
   "metadata": {},
   "outputs": [],
   "source": [
    "s,t = lina.eig(M)"
   ]
  },
  {
   "cell_type": "code",
   "execution_count": 47,
   "id": "6545297f",
   "metadata": {},
   "outputs": [
    {
     "name": "stdout",
     "output_type": "stream",
     "text": [
      "[ 1.+0.j -1.+0.j]\n"
     ]
    }
   ],
   "source": [
    "print(s)"
   ]
  },
  {
   "cell_type": "code",
   "execution_count": 49,
   "id": "51a108aa",
   "metadata": {},
   "outputs": [
    {
     "name": "stdout",
     "output_type": "stream",
     "text": [
      "[ 0.70710678 -0.70710678]\n",
      "[0.70710678 0.70710678]\n"
     ]
    }
   ],
   "source": [
    "for i in t:\n",
    "    print(i)"
   ]
  },
  {
   "cell_type": "code",
   "execution_count": null,
   "id": "9a0d2600",
   "metadata": {},
   "outputs": [],
   "source": []
  }
 ],
 "metadata": {
  "kernelspec": {
   "display_name": "Python 3 (ipykernel)",
   "language": "python",
   "name": "python3"
  },
  "language_info": {
   "codemirror_mode": {
    "name": "ipython",
    "version": 3
   },
   "file_extension": ".py",
   "mimetype": "text/x-python",
   "name": "python",
   "nbconvert_exporter": "python",
   "pygments_lexer": "ipython3",
   "version": "3.9.13"
  }
 },
 "nbformat": 4,
 "nbformat_minor": 5
}
