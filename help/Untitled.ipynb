{
 "cells": [
  {
   "cell_type": "code",
   "execution_count": 3,
   "id": "6e85bef7",
   "metadata": {},
   "outputs": [
    {
     "name": "stdout",
     "output_type": "stream",
     "text": [
      "Search results for 'random.randint'\n",
      "-----------------------------------\n",
      "numpy.chararray.item\n",
      "    a.item(*args)\n",
      "numpy.chararray.itemset\n",
      "    a.itemset(*args)\n",
      "numpy.random.RandomState.choice\n",
      "    Generates a random sample from a given 1-D array\n",
      "numpy.random.RandomState.randint\n",
      "    Return random integers from `low` (inclusive) to `high` (exclusive).\n",
      "numpy.random.tests.test_random.TestRandint.rfunc\n",
      "    Return random integers from `low` (inclusive) to `high` (exclusive).\n"
     ]
    }
   ],
   "source": [
    "import numpy as np, pandas as pd\n",
    "\n",
    "np.lookfor(\"random.randint\")"
   ]
  },
  {
   "cell_type": "code",
   "execution_count": null,
   "id": "946a747c",
   "metadata": {},
   "outputs": [],
   "source": []
  }
 ],
 "metadata": {
  "kernelspec": {
   "display_name": "Python 3 (ipykernel)",
   "language": "python",
   "name": "python3"
  },
  "language_info": {
   "codemirror_mode": {
    "name": "ipython",
    "version": 3
   },
   "file_extension": ".py",
   "mimetype": "text/x-python",
   "name": "python",
   "nbconvert_exporter": "python",
   "pygments_lexer": "ipython3",
   "version": "3.9.13"
  }
 },
 "nbformat": 4,
 "nbformat_minor": 5
}
