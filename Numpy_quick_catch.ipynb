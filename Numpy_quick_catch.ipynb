{
 "cells": [
  {
   "cell_type": "code",
   "execution_count": 6,
   "id": "8d95029b",
   "metadata": {},
   "outputs": [
    {
     "name": "stdout",
     "output_type": "stream",
     "text": [
      "<class 'list'>\n",
      "<class 'int'>\n"
     ]
    }
   ],
   "source": [
    "#Python list is not just a list\n",
    "list1 = [1,2,3,4,5]\n",
    "print(type(list1))\n",
    "print(type(list1[1]))\n",
    "\n"
   ]
  },
  {
   "cell_type": "code",
   "execution_count": 7,
   "id": "4e8f4059",
   "metadata": {},
   "outputs": [
    {
     "name": "stdout",
     "output_type": "stream",
     "text": [
      "<class 'list'>\n",
      "<class 'str'>\n"
     ]
    }
   ],
   "source": [
    "# craete a string list\n",
    "str_list = [str(i) for i in list1]\n",
    "print(type(str_list))\n",
    "print(type(str_list[0]))"
   ]
  },
  {
   "cell_type": "code",
   "execution_count": 11,
   "id": "8cffd731",
   "metadata": {},
   "outputs": [
    {
     "name": "stdout",
     "output_type": "stream",
     "text": [
      "[1 2 3 4 5]\n",
      "1\n",
      "2\n",
      "3\n",
      "4\n",
      "5\n"
     ]
    }
   ],
   "source": [
    "# use numpy create array\n",
    "import numpy as np\n",
    "\n",
    "ar1 = np.array([1,2,3,4,5])\n",
    "\n",
    "print(ar1)\n",
    "\n",
    "for i in ar1:\n",
    "    print(i)"
   ]
  },
  {
   "cell_type": "code",
   "execution_count": 12,
   "id": "41188f98",
   "metadata": {},
   "outputs": [
    {
     "data": {
      "text/plain": [
       "array([0, 0, 0, 0, 0, 0, 0, 0, 0, 0])"
      ]
     },
     "execution_count": 12,
     "metadata": {},
     "output_type": "execute_result"
    }
   ],
   "source": [
    "# create zeros array\n",
    "np.zeros(10, dtype = int)"
   ]
  },
  {
   "cell_type": "code",
   "execution_count": 13,
   "id": "6576d535",
   "metadata": {},
   "outputs": [
    {
     "data": {
      "text/plain": [
       "array([[1., 1., 1., 1., 1.],\n",
       "       [1., 1., 1., 1., 1.],\n",
       "       [1., 1., 1., 1., 1.]])"
      ]
     },
     "execution_count": 13,
     "metadata": {},
     "output_type": "execute_result"
    }
   ],
   "source": [
    "# create ones array\n",
    "\n",
    "np.ones((3,5), dtype = float)"
   ]
  },
  {
   "cell_type": "code",
   "execution_count": 15,
   "id": "a49ee1b5",
   "metadata": {},
   "outputs": [
    {
     "data": {
      "text/plain": [
       "array([[3.14, 3.14, 3.14, 3.14, 3.14, 3.14, 3.14, 3.14, 3.14, 3.14],\n",
       "       [3.14, 3.14, 3.14, 3.14, 3.14, 3.14, 3.14, 3.14, 3.14, 3.14],\n",
       "       [3.14, 3.14, 3.14, 3.14, 3.14, 3.14, 3.14, 3.14, 3.14, 3.14],\n",
       "       [3.14, 3.14, 3.14, 3.14, 3.14, 3.14, 3.14, 3.14, 3.14, 3.14],\n",
       "       [3.14, 3.14, 3.14, 3.14, 3.14, 3.14, 3.14, 3.14, 3.14, 3.14],\n",
       "       [3.14, 3.14, 3.14, 3.14, 3.14, 3.14, 3.14, 3.14, 3.14, 3.14],\n",
       "       [3.14, 3.14, 3.14, 3.14, 3.14, 3.14, 3.14, 3.14, 3.14, 3.14],\n",
       "       [3.14, 3.14, 3.14, 3.14, 3.14, 3.14, 3.14, 3.14, 3.14, 3.14],\n",
       "       [3.14, 3.14, 3.14, 3.14, 3.14, 3.14, 3.14, 3.14, 3.14, 3.14],\n",
       "       [3.14, 3.14, 3.14, 3.14, 3.14, 3.14, 3.14, 3.14, 3.14, 3.14]])"
      ]
     },
     "execution_count": 15,
     "metadata": {},
     "output_type": "execute_result"
    }
   ],
   "source": [
    "# create full float array\n",
    "\n",
    "np.full((10,10), 3.14)"
   ]
  },
  {
   "cell_type": "code",
   "execution_count": 16,
   "id": "ccea2a24",
   "metadata": {},
   "outputs": [
    {
     "data": {
      "text/plain": [
       "array([ 0,  3,  6,  9, 12, 15, 18, 21, 24, 27, 30, 33, 36, 39, 42, 45, 48,\n",
       "       51, 54, 57, 60, 63, 66, 69, 72, 75, 78, 81, 84, 87, 90, 93, 96, 99])"
      ]
     },
     "execution_count": 16,
     "metadata": {},
     "output_type": "execute_result"
    }
   ],
   "source": [
    "# create with arange step\n",
    "\n",
    "np.arange(0,100,3)"
   ]
  },
  {
   "cell_type": "code",
   "execution_count": 18,
   "id": "fe5fdad5",
   "metadata": {},
   "outputs": [
    {
     "data": {
      "text/plain": [
       "array([ 1.  ,  3.25,  5.5 ,  7.75, 10.  ])"
      ]
     },
     "execution_count": 18,
     "metadata": {},
     "output_type": "execute_result"
    }
   ],
   "source": [
    "# crate betwen 1 and 10 \n",
    "np.linspace(1,10,5)"
   ]
  },
  {
   "cell_type": "code",
   "execution_count": 20,
   "id": "0316b2db",
   "metadata": {},
   "outputs": [
    {
     "data": {
      "text/plain": [
       "array([[0.17332012, 0.11116923, 0.87443295, 0.59367956, 0.97048435],\n",
       "       [0.97748953, 0.14757254, 0.87688794, 0.64022392, 0.34043168],\n",
       "       [0.93617642, 0.72887088, 0.2107513 , 0.82368749, 0.27983848]])"
      ]
     },
     "execution_count": 20,
     "metadata": {},
     "output_type": "execute_result"
    }
   ],
   "source": [
    "# create random matrix\n",
    "np.random.random((3,5))"
   ]
  },
  {
   "cell_type": "code",
   "execution_count": 21,
   "id": "79363314",
   "metadata": {
    "scrolled": true
   },
   "outputs": [
    {
     "data": {
      "text/plain": [
       "array([[-0.82469029, -1.05235372, -1.96293313,  0.22429749, -1.23579121],\n",
       "       [ 1.48915519,  1.60978157, -0.39534804, -1.84395571, -0.12209078],\n",
       "       [ 0.67967288, -0.88964647,  0.26559705,  0.92722025, -0.1723165 ],\n",
       "       [-0.28812412,  2.76086384,  1.33210189,  1.20126772, -2.59313201],\n",
       "       [-0.50439616, -1.73126868,  0.20691465, -1.11833013,  0.65375004]])"
      ]
     },
     "execution_count": 21,
     "metadata": {},
     "output_type": "execute_result"
    }
   ],
   "source": [
    "# create random but normal distribution\n",
    "\n",
    "np.random.normal(0,1,(5,5)) # 5by5 mean 0 sd 1"
   ]
  },
  {
   "cell_type": "code",
   "execution_count": 22,
   "id": "07556de4",
   "metadata": {},
   "outputs": [
    {
     "data": {
      "text/plain": [
       "array([[6, 6, 2, 6, 8],\n",
       "       [5, 7, 5, 8, 6],\n",
       "       [8, 5, 8, 6, 8],\n",
       "       [7, 6, 9, 1, 6],\n",
       "       [1, 1, 1, 5, 3]])"
      ]
     },
     "execution_count": 22,
     "metadata": {},
     "output_type": "execute_result"
    }
   ],
   "source": [
    "# random int matrix\n",
    "\n",
    "np.random.randint(1,10, (5,5))"
   ]
  },
  {
   "cell_type": "code",
   "execution_count": 23,
   "id": "8e50dda5",
   "metadata": {},
   "outputs": [
    {
     "data": {
      "text/plain": [
       "array([[1., 0., 0., 0., 0.],\n",
       "       [0., 1., 0., 0., 0.],\n",
       "       [0., 0., 1., 0., 0.],\n",
       "       [0., 0., 0., 1., 0.],\n",
       "       [0., 0., 0., 0., 1.]])"
      ]
     },
     "execution_count": 23,
     "metadata": {},
     "output_type": "execute_result"
    }
   ],
   "source": [
    "# create identity matrix with eye\n",
    "np.eye(5)"
   ]
  },
  {
   "cell_type": "code",
   "execution_count": 24,
   "id": "2427c328",
   "metadata": {},
   "outputs": [
    {
     "data": {
      "text/plain": [
       "array([9.56166408e-312, 0.00000000e+000, 1.89146896e-307])"
      ]
     },
     "execution_count": 24,
     "metadata": {},
     "output_type": "execute_result"
    }
   ],
   "source": [
    "# create array from radom values from computer memory\n",
    "np.empty(3)"
   ]
  },
  {
   "cell_type": "code",
   "execution_count": 37,
   "id": "2136e191",
   "metadata": {},
   "outputs": [
    {
     "name": "stdout",
     "output_type": "stream",
     "text": [
      "Dimension 2\n",
      "--------------------------------------------\n",
      "[[1 2 3]\n",
      " [4 5 6]\n",
      " [7 8 9]]\n",
      "--------------------------------------------\n",
      "[[4 5 6]\n",
      " [7 8 9]\n",
      " [1 2 3]]\n",
      "--------------------------------------------\n",
      "[[7 8 9]\n",
      " [1 2 3]\n",
      " [4 5 6]]\n",
      "--------------------------------------------\n",
      "Dimension 3\n",
      "[[[1 2 3]\n",
      "  [4 5 6]\n",
      "  [7 8 9]]\n",
      "\n",
      " [[4 5 6]\n",
      "  [7 8 9]\n",
      "  [1 2 3]]\n",
      "\n",
      " [[7 8 9]\n",
      "  [1 2 3]\n",
      "  [4 5 6]]]\n",
      "--------------------------------------------\n",
      "[[[4 5 6]\n",
      "  [7 8 9]\n",
      "  [1 2 3]]\n",
      "\n",
      " [[7 8 9]\n",
      "  [1 2 3]\n",
      "  [4 5 6]]\n",
      "\n",
      " [[1 2 3]\n",
      "  [4 5 6]\n",
      "  [7 8 9]]]\n",
      "--------------------------------------------\n",
      "[[[7 8 9]\n",
      "  [1 2 3]\n",
      "  [4 5 6]]\n",
      "\n",
      " [[1 2 3]\n",
      "  [4 5 6]\n",
      "  [7 8 9]]\n",
      "\n",
      " [[4 5 6]\n",
      "  [7 8 9]\n",
      "  [1 2 3]]]\n",
      "--------------------------------------------\n",
      "Dimension 4\n",
      "[[[[1 2 3]\n",
      "   [4 5 6]\n",
      "   [7 8 9]]\n",
      "\n",
      "  [[4 5 6]\n",
      "   [7 8 9]\n",
      "   [1 2 3]]\n",
      "\n",
      "  [[7 8 9]\n",
      "   [1 2 3]\n",
      "   [4 5 6]]]\n",
      "\n",
      "\n",
      " [[[4 5 6]\n",
      "   [7 8 9]\n",
      "   [1 2 3]]\n",
      "\n",
      "  [[7 8 9]\n",
      "   [1 2 3]\n",
      "   [4 5 6]]\n",
      "\n",
      "  [[1 2 3]\n",
      "   [4 5 6]\n",
      "   [7 8 9]]]\n",
      "\n",
      "\n",
      " [[[7 8 9]\n",
      "   [1 2 3]\n",
      "   [4 5 6]]\n",
      "\n",
      "  [[1 2 3]\n",
      "   [4 5 6]\n",
      "   [7 8 9]]\n",
      "\n",
      "  [[4 5 6]\n",
      "   [7 8 9]\n",
      "   [1 2 3]]]]\n",
      "--------------------------------------------\n",
      "[[[[4 5 6]\n",
      "   [7 8 9]\n",
      "   [1 2 3]]\n",
      "\n",
      "  [[7 8 9]\n",
      "   [1 2 3]\n",
      "   [4 5 6]]\n",
      "\n",
      "  [[1 2 3]\n",
      "   [4 5 6]\n",
      "   [7 8 9]]]\n",
      "\n",
      "\n",
      " [[[7 8 9]\n",
      "   [1 2 3]\n",
      "   [4 5 6]]\n",
      "\n",
      "  [[1 2 3]\n",
      "   [4 5 6]\n",
      "   [7 8 9]]\n",
      "\n",
      "  [[4 5 6]\n",
      "   [7 8 9]\n",
      "   [1 2 3]]]\n",
      "\n",
      "\n",
      " [[[1 2 3]\n",
      "   [4 5 6]\n",
      "   [7 8 9]]\n",
      "\n",
      "  [[4 5 6]\n",
      "   [7 8 9]\n",
      "   [1 2 3]]\n",
      "\n",
      "  [[7 8 9]\n",
      "   [1 2 3]\n",
      "   [4 5 6]]]]\n",
      "--------------------------------------------\n",
      "[[[[7 8 9]\n",
      "   [1 2 3]\n",
      "   [4 5 6]]\n",
      "\n",
      "  [[1 2 3]\n",
      "   [4 5 6]\n",
      "   [7 8 9]]\n",
      "\n",
      "  [[4 5 6]\n",
      "   [7 8 9]\n",
      "   [1 2 3]]]\n",
      "\n",
      "\n",
      " [[[1 2 3]\n",
      "   [4 5 6]\n",
      "   [7 8 9]]\n",
      "\n",
      "  [[4 5 6]\n",
      "   [7 8 9]\n",
      "   [1 2 3]]\n",
      "\n",
      "  [[7 8 9]\n",
      "   [1 2 3]\n",
      "   [4 5 6]]]\n",
      "\n",
      "\n",
      " [[[4 5 6]\n",
      "   [7 8 9]\n",
      "   [1 2 3]]\n",
      "\n",
      "  [[7 8 9]\n",
      "   [1 2 3]\n",
      "   [4 5 6]]\n",
      "\n",
      "  [[1 2 3]\n",
      "   [4 5 6]\n",
      "   [7 8 9]]]]\n",
      "--------------------------------------------\n",
      "Dimension 5\n",
      "[[[[[1 2 3]\n",
      "    [4 5 6]\n",
      "    [7 8 9]]\n",
      "\n",
      "   [[4 5 6]\n",
      "    [7 8 9]\n",
      "    [1 2 3]]\n",
      "\n",
      "   [[7 8 9]\n",
      "    [1 2 3]\n",
      "    [4 5 6]]]\n",
      "\n",
      "\n",
      "  [[[4 5 6]\n",
      "    [7 8 9]\n",
      "    [1 2 3]]\n",
      "\n",
      "   [[7 8 9]\n",
      "    [1 2 3]\n",
      "    [4 5 6]]\n",
      "\n",
      "   [[1 2 3]\n",
      "    [4 5 6]\n",
      "    [7 8 9]]]\n",
      "\n",
      "\n",
      "  [[[7 8 9]\n",
      "    [1 2 3]\n",
      "    [4 5 6]]\n",
      "\n",
      "   [[1 2 3]\n",
      "    [4 5 6]\n",
      "    [7 8 9]]\n",
      "\n",
      "   [[4 5 6]\n",
      "    [7 8 9]\n",
      "    [1 2 3]]]]\n",
      "\n",
      "\n",
      "\n",
      " [[[[7 8 9]\n",
      "    [1 2 3]\n",
      "    [4 5 6]]\n",
      "\n",
      "   [[1 2 3]\n",
      "    [4 5 6]\n",
      "    [7 8 9]]\n",
      "\n",
      "   [[4 5 6]\n",
      "    [7 8 9]\n",
      "    [1 2 3]]]\n",
      "\n",
      "\n",
      "  [[[1 2 3]\n",
      "    [4 5 6]\n",
      "    [7 8 9]]\n",
      "\n",
      "   [[4 5 6]\n",
      "    [7 8 9]\n",
      "    [1 2 3]]\n",
      "\n",
      "   [[7 8 9]\n",
      "    [1 2 3]\n",
      "    [4 5 6]]]\n",
      "\n",
      "\n",
      "  [[[4 5 6]\n",
      "    [7 8 9]\n",
      "    [1 2 3]]\n",
      "\n",
      "   [[7 8 9]\n",
      "    [1 2 3]\n",
      "    [4 5 6]]\n",
      "\n",
      "   [[1 2 3]\n",
      "    [4 5 6]\n",
      "    [7 8 9]]]]\n",
      "\n",
      "\n",
      "\n",
      " [[[[4 5 6]\n",
      "    [7 8 9]\n",
      "    [1 2 3]]\n",
      "\n",
      "   [[7 8 9]\n",
      "    [1 2 3]\n",
      "    [4 5 6]]\n",
      "\n",
      "   [[1 2 3]\n",
      "    [4 5 6]\n",
      "    [7 8 9]]]\n",
      "\n",
      "\n",
      "  [[[7 8 9]\n",
      "    [1 2 3]\n",
      "    [4 5 6]]\n",
      "\n",
      "   [[1 2 3]\n",
      "    [4 5 6]\n",
      "    [7 8 9]]\n",
      "\n",
      "   [[4 5 6]\n",
      "    [7 8 9]\n",
      "    [1 2 3]]]\n",
      "\n",
      "\n",
      "  [[[1 2 3]\n",
      "    [4 5 6]\n",
      "    [7 8 9]]\n",
      "\n",
      "   [[4 5 6]\n",
      "    [7 8 9]\n",
      "    [1 2 3]]\n",
      "\n",
      "   [[7 8 9]\n",
      "    [1 2 3]\n",
      "    [4 5 6]]]]]\n",
      "----------------------------------------------\n"
     ]
    }
   ],
   "source": [
    "# nesting array\n",
    "\n",
    "a = np.array([1,2,3])\n",
    "b = np.array([4,5,6])\n",
    "c = np.array([7,8,9])\n",
    "\n",
    "print(\"Dimension 2\")\n",
    "print(\"--------------------------------------------\")\n",
    "a1 = np.array([a,b,c])\n",
    "print(a1)\n",
    "print(\"--------------------------------------------\")\n",
    "a2 = np.array([b,c,a])\n",
    "print(a2)\n",
    "print(\"--------------------------------------------\")\n",
    "a3 = np.array([c,a,b])\n",
    "print(a3)\n",
    "print(\"--------------------------------------------\")\n",
    "print(\"Dimension 3\")\n",
    "A1 = np.array([a1,a2,a3])\n",
    "print(A1)\n",
    "print(\"--------------------------------------------\")\n",
    "\n",
    "A2 = np.array([a2,a3, a1])\n",
    "print(A2)\n",
    "print(\"--------------------------------------------\")\n",
    "\n",
    "A3 = np.array([a3,a1,a2])\n",
    "print(A3)\n",
    "print(\"--------------------------------------------\")\n",
    "print(\"Dimension 4\")\n",
    "D1 = np.array([A1, A2, A3])\n",
    "print(D1)\n",
    "print(\"--------------------------------------------\")\n",
    "\n",
    "D2 = np.array([ A2, A3,A1])\n",
    "print(D2)\n",
    "print(\"--------------------------------------------\")\n",
    "\n",
    "D3 = np.array([ A3,A1, A2])\n",
    "print(D3)\n",
    "print(\"--------------------------------------------\")\n",
    "print(\"Dimension 5\")\n",
    "fiveDim = np.array([D1,D3,D2])\n",
    "print(fiveDim)\n",
    "\n",
    "print(\"----------------------------------------------\")"
   ]
  },
  {
   "cell_type": "code",
   "execution_count": null,
   "id": "75b59422",
   "metadata": {},
   "outputs": [],
   "source": []
  },
  {
   "cell_type": "code",
   "execution_count": null,
   "id": "e51c8020",
   "metadata": {},
   "outputs": [],
   "source": []
  }
 ],
 "metadata": {
  "kernelspec": {
   "display_name": "Python 3 (ipykernel)",
   "language": "python",
   "name": "python3"
  },
  "language_info": {
   "codemirror_mode": {
    "name": "ipython",
    "version": 3
   },
   "file_extension": ".py",
   "mimetype": "text/x-python",
   "name": "python",
   "nbconvert_exporter": "python",
   "pygments_lexer": "ipython3",
   "version": "3.9.13"
  }
 },
 "nbformat": 4,
 "nbformat_minor": 5
}
